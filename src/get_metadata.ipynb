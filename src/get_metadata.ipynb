{
 "cells": [
  {
   "cell_type": "markdown",
   "id": "5fffce88",
   "metadata": {},
   "source": [
    "# 上海疫情地图可视化"
   ]
  },
  {
   "cell_type": "code",
   "execution_count": 1,
   "id": "c0fcf4c7",
   "metadata": {},
   "outputs": [],
   "source": [
    "from bs4 import BeautifulSoup\n",
    "import lxml\n",
    "import requests\n",
    "import re\n",
    "import numpy as np\n",
    "import pandas as pd\n",
    "from tqdm import notebook\n",
    "import os\n",
    "import time\n",
    "from sklearn.cluster import KMeans"
   ]
  },
  {
   "cell_type": "markdown",
   "id": "1f0472cf",
   "metadata": {},
   "source": [
    "## 1.获取上海市卫生健康委员会疫情通报"
   ]
  },
  {
   "cell_type": "code",
   "execution_count": 183,
   "id": "d9752909",
   "metadata": {},
   "outputs": [
    {
     "name": "stdout",
     "output_type": "stream",
     "text": [
      "{'浦东新区': 162, '黄浦区': 16, '静安区': 12, '徐汇区': 23, '长宁区': 6, '普陀区': 7, '虹口区': 8, '杨浦区': 11, '宝山区': 7, '闵行区': 23, '嘉定区': 11, '金山区': 1, '松江区': 14, '青浦区': 6, '奉贤区': 2, '崇明区': 2} {'浦东新区': 7983, '黄浦区': 642, '静安区': 290, '徐汇区': 897, '长宁区': 78, '普陀区': 476, '虹口区': 402, '杨浦区': 612, '宝山区': 547, '闵行区': 2914, '嘉定区': 470, '金山区': 76, '松江区': 782, '青浦区': 378, '奉贤区': 142, '崇明区': 77}\n"
     ]
    }
   ],
   "source": [
    "def read_first_line(descriptions):\n",
    "    regstr = '\\d+年\\d+月\\d+日'\n",
    "    regexp_date = re.compile(regstr)\n",
    "    regstr = '，(.*)区'\n",
    "    regexp_district = re.compile(regstr)\n",
    "    regstr = '\\d+例本土(.*)确诊'\n",
    "    regexp_confirmedCases = re.compile(regstr)\n",
    "    regstr = '\\d+例(|新冠肺炎)(|本土)无症状'\n",
    "    regexp_asymptomaticCases = re.compile(regstr)\n",
    "    \n",
    "    districtname = re.search(regexp_district, descriptions)\n",
    "    if districtname:\n",
    "        districtname = districtname[0]\n",
    "        if '，' in districtname:\n",
    "            districtname = districtname.split('，')[1]\n",
    "    \n",
    "    date = re.search(regexp_date, descriptions)[0]\n",
    "    \n",
    "    confirmed = re.search(regexp_confirmedCases, descriptions)\n",
    "    if confirmed:\n",
    "        confirmed = int(re.search('\\d+', confirmed[0])[0])\n",
    "    else:\n",
    "        confirmed = None\n",
    "        \n",
    "    asymptomatic = re.search(regexp_asymptomaticCases, descriptions)\n",
    "    if asymptomatic:\n",
    "        asymptomatic = int(re.search('\\d+', asymptomatic[0])[0])\n",
    "    else:\n",
    "        asymptomatic = None\n",
    "        \n",
    "    return districtname, date, confirmed, asymptomatic\n",
    "\n",
    "def get_metadata(url, minimal_address_size=3):\n",
    "    html = requests.get(url)\n",
    "    soup = BeautifulSoup(html.text,'lxml') \n",
    "    \n",
    "    regstr = u'，|。|、|；'\n",
    "    regexp_address = re.compile(regstr, re.IGNORECASE)\n",
    "    regstr = u'分别居住于'\n",
    "    regexp_firstline = re.compile(regstr, re.IGNORECASE)\n",
    "    shanghai = soup.find_all('span', text=regexp_firstline)\n",
    "    \n",
    "    addresses = {}\n",
    "    confirmedCases = {}\n",
    "    asymptomaticCases = {}\n",
    "\n",
    "    for district in shanghai:\n",
    "        district = district.parent.parent\n",
    "\n",
    "        # Line-one\n",
    "        descriptions = district.parent.parent.p.get_text()\n",
    "        districtname, date, confirmed, asymptomatic = read_first_line(descriptions)\n",
    "        # print(districtname, date, confirmed, asymptomatic)\n",
    "\n",
    "        # find address\n",
    "        flag = False\n",
    "        address_list = []\n",
    "        for address in district.children:\n",
    "            address = address.get_text()\n",
    "            if not address:\n",
    "                if not flag:\n",
    "                    flag = True\n",
    "                else:\n",
    "                    flag = False\n",
    "                    break\n",
    "            if flag:\n",
    "                address = re.split(regexp_address, address)\n",
    "                if len(address)>1 and len(address[0])>minimal_address_size:\n",
    "                    address = address[0]\n",
    "                    address_list.append(address)\n",
    "\n",
    "        addresses[districtname] = address_list\n",
    "        confirmedCases[districtname] = confirmed\n",
    "        asymptomaticCases[districtname] = asymptomatic\n",
    "    return date, addresses, confirmedCases, asymptomaticCases\n",
    "\n",
    "url = 'https://mp.weixin.qq.com/s/djwW3S9FUYBE2L5Hj94a3A'\n",
    "date, addresses, confirmedCases, asymptomaticCases = get_metadata(url)"
   ]
  },
  {
   "cell_type": "markdown",
   "id": "1cb46df2",
   "metadata": {},
   "source": [
    "## 2. 调用高德地图API获取位置信息"
   ]
  },
  {
   "cell_type": "code",
   "execution_count": 160,
   "id": "f3ad55b2",
   "metadata": {},
   "outputs": [],
   "source": [
    "def get_gd_loc(address, \n",
    "               key = 'c13c96adfa738532fcef1b2ecb931f77',\n",
    "               url = 'https://restapi.amap.com/v3/geocode/geo?parameters',\n",
    "               city='上海',\n",
    "               timeout=5):\n",
    "    if not address:\n",
    "        return None, None\n",
    "    \n",
    "    address_ = ''\n",
    "    batch = 'false'\n",
    "    num_batch = 1\n",
    "    address_validmask = []\n",
    "    if isinstance(address, list):\n",
    "        batch = 'true'\n",
    "        num_batch = len(address)\n",
    "        for add in address:\n",
    "            if add:\n",
    "                address_validmask.append(True)\n",
    "            else:\n",
    "                address_validmask.append(False)\n",
    "            address_ += add + ' | '\n",
    "        address = address_[:-1]\n",
    "\n",
    "    parameters = {'address': address, 'key': key, 'city': city, 'batch':batch}\n",
    "    \n",
    "    requests.packages.urllib3.disable_warnings()\n",
    "    try:\n",
    "        response = requests.get(url, parameters, timeout=2, verify=False)   \n",
    "        assert response.status_code == 200\n",
    "        answer = response.json()\n",
    "        assert answer['status'] == '1'\n",
    "    except Exception as e:\n",
    "        print(e)\n",
    "        raise\n",
    "    \n",
    "    loc = []\n",
    "    for batch_id in range(num_batch):\n",
    "        loc.append(answer['geocodes'][batch_id]['location'])\n",
    "    return loc, answer\n",
    "        \n",
    "loc, answer = get_gd_loc(['河南中路575弄', '宝山路463号'])"
   ]
  },
  {
   "cell_type": "markdown",
   "id": "40cefdfe",
   "metadata": {},
   "source": [
    "## 3.使用Pandas构建PD数据帧"
   ]
  },
  {
   "cell_type": "code",
   "execution_count": 168,
   "id": "965dab70",
   "metadata": {},
   "outputs": [
    {
     "data": {
      "application/vnd.jupyter.widget-view+json": {
       "model_id": "ed6f05dc27a947b6b30c5af956780b6f",
       "version_major": 2,
       "version_minor": 0
      },
      "text/plain": [
       "  0%|          | 0/39 [00:00<?, ?it/s]"
      ]
     },
     "metadata": {},
     "output_type": "display_data"
    },
    {
     "ename": "ValueError",
     "evalue": "All arrays must be of the same length",
     "output_type": "error",
     "traceback": [
      "\u001b[1;31m---------------------------------------------------------------------------\u001b[0m",
      "\u001b[1;31mValueError\u001b[0m                                Traceback (most recent call last)",
      "Input \u001b[1;32mIn [168]\u001b[0m, in \u001b[0;36m<cell line: 112>\u001b[1;34m()\u001b[0m\n\u001b[0;32m     70\u001b[0m urls \u001b[38;5;241m=\u001b[39m[\u001b[38;5;124m'\u001b[39m\u001b[38;5;124mhttps://mp.weixin.qq.com/s/8bljTUplPh1q4MXb6wd_gg\u001b[39m\u001b[38;5;124m'\u001b[39m,\n\u001b[0;32m     71\u001b[0m        \u001b[38;5;124m'\u001b[39m\u001b[38;5;124mhttps://mp.weixin.qq.com/s/HTM47mUp0GF-tWXkPeZJlg\u001b[39m\u001b[38;5;124m'\u001b[39m,\n\u001b[0;32m     72\u001b[0m        \u001b[38;5;124m'\u001b[39m\u001b[38;5;124mhttps://mp.weixin.qq.com/s/79NsKhMHbg09Y0xaybTXjA\u001b[39m\u001b[38;5;124m'\u001b[39m,\n\u001b[1;32m   (...)\u001b[0m\n\u001b[0;32m    107\u001b[0m        \u001b[38;5;124m'\u001b[39m\u001b[38;5;124mhttps://mp.weixin.qq.com/s/lIMFiBlzIXvju2VV_I4j0g\u001b[39m\u001b[38;5;124m'\u001b[39m,\n\u001b[0;32m    108\u001b[0m        \u001b[38;5;124m'\u001b[39m\u001b[38;5;124mhttps://mp.weixin.qq.com/s/d1qIhfwsisM2jQpfURml3A\u001b[39m\u001b[38;5;124m'\u001b[39m,]\n\u001b[0;32m    110\u001b[0m \u001b[38;5;66;03m#for url in urls:\u001b[39;00m\n\u001b[0;32m    111\u001b[0m \u001b[38;5;66;03m#    get_csv(url)\u001b[39;00m\n\u001b[1;32m--> 112\u001b[0m \u001b[43mget_statistics\u001b[49m\u001b[43m(\u001b[49m\u001b[43murls\u001b[49m\u001b[43m)\u001b[49m\n",
      "Input \u001b[1;32mIn [168]\u001b[0m, in \u001b[0;36mget_statistics\u001b[1;34m(urls)\u001b[0m\n\u001b[0;32m     56\u001b[0m confirmedCases_dict[\u001b[38;5;124m'\u001b[39m\u001b[38;5;124mdate\u001b[39m\u001b[38;5;124m'\u001b[39m] \u001b[38;5;241m=\u001b[39m date_l\n\u001b[0;32m     57\u001b[0m asymptomaticCases_dict[\u001b[38;5;124m'\u001b[39m\u001b[38;5;124mdate\u001b[39m\u001b[38;5;124m'\u001b[39m] \u001b[38;5;241m=\u001b[39m date_l\n\u001b[1;32m---> 59\u001b[0m df \u001b[38;5;241m=\u001b[39m \u001b[43mpd\u001b[49m\u001b[38;5;241;43m.\u001b[39;49m\u001b[43mDataFrame\u001b[49m\u001b[43m(\u001b[49m\u001b[43mconfirmedCases_dict\u001b[49m\u001b[43m)\u001b[49m\n\u001b[0;32m     60\u001b[0m filename \u001b[38;5;241m=\u001b[39m \u001b[38;5;124m'\u001b[39m\u001b[38;5;124mshanghai/confirmedCases.csv\u001b[39m\u001b[38;5;124m'\u001b[39m\n\u001b[0;32m     61\u001b[0m \u001b[38;5;28;01mif\u001b[39;00m filename \u001b[38;5;129;01min\u001b[39;00m os\u001b[38;5;241m.\u001b[39mlistdir():\n",
      "File \u001b[1;32mE:\\env\\conda\\envs\\bigdata\\lib\\site-packages\\pandas\\core\\frame.py:636\u001b[0m, in \u001b[0;36mDataFrame.__init__\u001b[1;34m(self, data, index, columns, dtype, copy)\u001b[0m\n\u001b[0;32m    630\u001b[0m     mgr \u001b[38;5;241m=\u001b[39m \u001b[38;5;28mself\u001b[39m\u001b[38;5;241m.\u001b[39m_init_mgr(\n\u001b[0;32m    631\u001b[0m         data, axes\u001b[38;5;241m=\u001b[39m{\u001b[38;5;124m\"\u001b[39m\u001b[38;5;124mindex\u001b[39m\u001b[38;5;124m\"\u001b[39m: index, \u001b[38;5;124m\"\u001b[39m\u001b[38;5;124mcolumns\u001b[39m\u001b[38;5;124m\"\u001b[39m: columns}, dtype\u001b[38;5;241m=\u001b[39mdtype, copy\u001b[38;5;241m=\u001b[39mcopy\n\u001b[0;32m    632\u001b[0m     )\n\u001b[0;32m    634\u001b[0m \u001b[38;5;28;01melif\u001b[39;00m \u001b[38;5;28misinstance\u001b[39m(data, \u001b[38;5;28mdict\u001b[39m):\n\u001b[0;32m    635\u001b[0m     \u001b[38;5;66;03m# GH#38939 de facto copy defaults to False only in non-dict cases\u001b[39;00m\n\u001b[1;32m--> 636\u001b[0m     mgr \u001b[38;5;241m=\u001b[39m \u001b[43mdict_to_mgr\u001b[49m\u001b[43m(\u001b[49m\u001b[43mdata\u001b[49m\u001b[43m,\u001b[49m\u001b[43m \u001b[49m\u001b[43mindex\u001b[49m\u001b[43m,\u001b[49m\u001b[43m \u001b[49m\u001b[43mcolumns\u001b[49m\u001b[43m,\u001b[49m\u001b[43m \u001b[49m\u001b[43mdtype\u001b[49m\u001b[38;5;241;43m=\u001b[39;49m\u001b[43mdtype\u001b[49m\u001b[43m,\u001b[49m\u001b[43m \u001b[49m\u001b[43mcopy\u001b[49m\u001b[38;5;241;43m=\u001b[39;49m\u001b[43mcopy\u001b[49m\u001b[43m,\u001b[49m\u001b[43m \u001b[49m\u001b[43mtyp\u001b[49m\u001b[38;5;241;43m=\u001b[39;49m\u001b[43mmanager\u001b[49m\u001b[43m)\u001b[49m\n\u001b[0;32m    637\u001b[0m \u001b[38;5;28;01melif\u001b[39;00m \u001b[38;5;28misinstance\u001b[39m(data, ma\u001b[38;5;241m.\u001b[39mMaskedArray):\n\u001b[0;32m    638\u001b[0m     \u001b[38;5;28;01mimport\u001b[39;00m \u001b[38;5;21;01mnumpy\u001b[39;00m\u001b[38;5;21;01m.\u001b[39;00m\u001b[38;5;21;01mma\u001b[39;00m\u001b[38;5;21;01m.\u001b[39;00m\u001b[38;5;21;01mmrecords\u001b[39;00m \u001b[38;5;28;01mas\u001b[39;00m \u001b[38;5;21;01mmrecords\u001b[39;00m\n",
      "File \u001b[1;32mE:\\env\\conda\\envs\\bigdata\\lib\\site-packages\\pandas\\core\\internals\\construction.py:502\u001b[0m, in \u001b[0;36mdict_to_mgr\u001b[1;34m(data, index, columns, dtype, typ, copy)\u001b[0m\n\u001b[0;32m    494\u001b[0m     arrays \u001b[38;5;241m=\u001b[39m [\n\u001b[0;32m    495\u001b[0m         x\n\u001b[0;32m    496\u001b[0m         \u001b[38;5;28;01mif\u001b[39;00m \u001b[38;5;129;01mnot\u001b[39;00m \u001b[38;5;28mhasattr\u001b[39m(x, \u001b[38;5;124m\"\u001b[39m\u001b[38;5;124mdtype\u001b[39m\u001b[38;5;124m\"\u001b[39m) \u001b[38;5;129;01mor\u001b[39;00m \u001b[38;5;129;01mnot\u001b[39;00m \u001b[38;5;28misinstance\u001b[39m(x\u001b[38;5;241m.\u001b[39mdtype, ExtensionDtype)\n\u001b[0;32m    497\u001b[0m         \u001b[38;5;28;01melse\u001b[39;00m x\u001b[38;5;241m.\u001b[39mcopy()\n\u001b[0;32m    498\u001b[0m         \u001b[38;5;28;01mfor\u001b[39;00m x \u001b[38;5;129;01min\u001b[39;00m arrays\n\u001b[0;32m    499\u001b[0m     ]\n\u001b[0;32m    500\u001b[0m     \u001b[38;5;66;03m# TODO: can we get rid of the dt64tz special case above?\u001b[39;00m\n\u001b[1;32m--> 502\u001b[0m \u001b[38;5;28;01mreturn\u001b[39;00m \u001b[43marrays_to_mgr\u001b[49m\u001b[43m(\u001b[49m\u001b[43marrays\u001b[49m\u001b[43m,\u001b[49m\u001b[43m \u001b[49m\u001b[43mcolumns\u001b[49m\u001b[43m,\u001b[49m\u001b[43m \u001b[49m\u001b[43mindex\u001b[49m\u001b[43m,\u001b[49m\u001b[43m \u001b[49m\u001b[43mdtype\u001b[49m\u001b[38;5;241;43m=\u001b[39;49m\u001b[43mdtype\u001b[49m\u001b[43m,\u001b[49m\u001b[43m \u001b[49m\u001b[43mtyp\u001b[49m\u001b[38;5;241;43m=\u001b[39;49m\u001b[43mtyp\u001b[49m\u001b[43m,\u001b[49m\u001b[43m \u001b[49m\u001b[43mconsolidate\u001b[49m\u001b[38;5;241;43m=\u001b[39;49m\u001b[43mcopy\u001b[49m\u001b[43m)\u001b[49m\n",
      "File \u001b[1;32mE:\\env\\conda\\envs\\bigdata\\lib\\site-packages\\pandas\\core\\internals\\construction.py:120\u001b[0m, in \u001b[0;36marrays_to_mgr\u001b[1;34m(arrays, columns, index, dtype, verify_integrity, typ, consolidate)\u001b[0m\n\u001b[0;32m    117\u001b[0m \u001b[38;5;28;01mif\u001b[39;00m verify_integrity:\n\u001b[0;32m    118\u001b[0m     \u001b[38;5;66;03m# figure out the index, if necessary\u001b[39;00m\n\u001b[0;32m    119\u001b[0m     \u001b[38;5;28;01mif\u001b[39;00m index \u001b[38;5;129;01mis\u001b[39;00m \u001b[38;5;28;01mNone\u001b[39;00m:\n\u001b[1;32m--> 120\u001b[0m         index \u001b[38;5;241m=\u001b[39m \u001b[43m_extract_index\u001b[49m\u001b[43m(\u001b[49m\u001b[43marrays\u001b[49m\u001b[43m)\u001b[49m\n\u001b[0;32m    121\u001b[0m     \u001b[38;5;28;01melse\u001b[39;00m:\n\u001b[0;32m    122\u001b[0m         index \u001b[38;5;241m=\u001b[39m ensure_index(index)\n",
      "File \u001b[1;32mE:\\env\\conda\\envs\\bigdata\\lib\\site-packages\\pandas\\core\\internals\\construction.py:674\u001b[0m, in \u001b[0;36m_extract_index\u001b[1;34m(data)\u001b[0m\n\u001b[0;32m    672\u001b[0m lengths \u001b[38;5;241m=\u001b[39m \u001b[38;5;28mlist\u001b[39m(\u001b[38;5;28mset\u001b[39m(raw_lengths))\n\u001b[0;32m    673\u001b[0m \u001b[38;5;28;01mif\u001b[39;00m \u001b[38;5;28mlen\u001b[39m(lengths) \u001b[38;5;241m>\u001b[39m \u001b[38;5;241m1\u001b[39m:\n\u001b[1;32m--> 674\u001b[0m     \u001b[38;5;28;01mraise\u001b[39;00m \u001b[38;5;167;01mValueError\u001b[39;00m(\u001b[38;5;124m\"\u001b[39m\u001b[38;5;124mAll arrays must be of the same length\u001b[39m\u001b[38;5;124m\"\u001b[39m)\n\u001b[0;32m    676\u001b[0m \u001b[38;5;28;01mif\u001b[39;00m have_dicts:\n\u001b[0;32m    677\u001b[0m     \u001b[38;5;28;01mraise\u001b[39;00m \u001b[38;5;167;01mValueError\u001b[39;00m(\n\u001b[0;32m    678\u001b[0m         \u001b[38;5;124m\"\u001b[39m\u001b[38;5;124mMixing dicts with non-Series may lead to ambiguous ordering.\u001b[39m\u001b[38;5;124m\"\u001b[39m\n\u001b[0;32m    679\u001b[0m     )\n",
      "\u001b[1;31mValueError\u001b[0m: All arrays must be of the same length"
     ]
    }
   ],
   "source": [
    "def get_csv(url):\n",
    "    date, addresses, confirmedCases, asymptomaticCases = get_metadata(url)\n",
    "    date_l = []\n",
    "    district_l = []\n",
    "    address_l = []\n",
    "    lats = []\n",
    "    lons = []\n",
    "\n",
    "    date_dec = re.findall('\\d+', date)\n",
    "    date_dec = np.datetime64('%4d-%02d-%02d'%(int(date_dec[0]), \n",
    "                                              int(date_dec[1]), int(date_dec[2])))\n",
    "    for district in addresses.keys():\n",
    "        for i_add in addresses[district]:\n",
    "            date_l.append(date_dec)\n",
    "            district_l.append(district)\n",
    "            address_l.append(i_add)\n",
    "\n",
    "    batch_size = 10\n",
    "    for i in notebook.tqdm(range(0,len(address_l),batch_size), desc=url):\n",
    "        add = address_l[i:i+batch_size]\n",
    "        locs, answer = get_gd_loc(add)\n",
    "        for loc in locs:\n",
    "            if isinstance(loc, list):\n",
    "                lons.append(None)\n",
    "                lats.append(None)\n",
    "            else:\n",
    "                loc = loc.split(',')\n",
    "                lons.append(float(loc[0]))\n",
    "                lats.append(float(loc[1]))\n",
    "\n",
    "    df_dict = {\"date\": date_l, \"district\":district_l, \"address\":address_l,\n",
    "               \"lons\": lons, \"lats\": lats}\n",
    "    df = pd.DataFrame(df_dict)\n",
    "    filename = 'shanghai/' + date + '.csv'\n",
    "    if filename in os.listdir():\n",
    "        os.remove(filename)\n",
    "    df.to_csv(filename, encoding='utf_8_sig', index=None)\n",
    "    \n",
    "urls =['https://mp.weixin.qq.com/s/8bljTUplPh1q4MXb6wd_gg',\n",
    "       'https://mp.weixin.qq.com/s/HTM47mUp0GF-tWXkPeZJlg',\n",
    "       'https://mp.weixin.qq.com/s/79NsKhMHbg09Y0xaybTXjA',\n",
    "       'https://mp.weixin.qq.com/s/_Je5_5_HqBcs5chvH5SFfA',\n",
    "       'https://mp.weixin.qq.com/s/u0XfHF8dgfEp8vGjRtcwXA',\n",
    "       'https://mp.weixin.qq.com/s/vxFiV2HeSvByINUlTmFKZA',\n",
    "       'https://mp.weixin.qq.com/s/OZGM-pNkefZqWr0IFRJj1g',\n",
    "       'https://mp.weixin.qq.com/s/L9AffT-SoEBV4puBa_mRqg',\n",
    "       'https://mp.weixin.qq.com/s/5T76lht3s6g_KTiIx3XAYw',\n",
    "       'https://mp.weixin.qq.com/s/ZkhimhWpa92I2EWn3hmd8w',\n",
    "       'https://mp.weixin.qq.com/s/dRa-PExJr1qkRis88eGCnQ',\n",
    "       'https://mp.weixin.qq.com/s/LguiUZj-zxy4xy19WO0_UA',\n",
    "       'https://mp.weixin.qq.com/s/GWI6LxYLHOvv1dioN5olxg',\n",
    "       'https://mp.weixin.qq.com/s/puNUP9bjYlZNELsse09Z0w',\n",
    "       'https://mp.weixin.qq.com/s/8qCvsE578Ehz6UcWYRBfXw',\n",
    "       'https://mp.weixin.qq.com/s/qFvUyEB-R-GKP7vgKR-c3A',\n",
    "       'https://mp.weixin.qq.com/s/LySBR0VJswl_ZI1KtWlXqw',\n",
    "       'https://mp.weixin.qq.com/s/YNeLEO7BZouZRfyD2TWOlA',\n",
    "       'https://mp.weixin.qq.com/s/9-DRQF8pbz_2uivgscOmbw',\n",
    "       'https://mp.weixin.qq.com/s/IrtFkZDWaB6io18QXwuQ9g',\n",
    "       'https://mp.weixin.qq.com/s/SIuDbITNdgWwYyM3eiyrgg',\n",
    "       'https://mp.weixin.qq.com/s/SKkU2W-Ic1H_qWnYC9NtXA',\n",
    "       'https://mp.weixin.qq.com/s/aDU54MGe9XPWEMrdKMRFww',\n",
    "       'https://mp.weixin.qq.com/s/aQMZ8WmeYEaBPFv0yVs4BQ',\n",
    "       'https://mp.weixin.qq.com/s/qbB7VjEXMTK0zB6JIqBbAA',\n",
    "       'https://mp.weixin.qq.com/s/agdZHOqVZh9atNHOQEFTog',\n",
    "       'https://mp.weixin.qq.com/s/s_spcc0OApRItbuq5DG2LA',\n",
    "       'https://mp.weixin.qq.com/s/KyTRqsRBWbM5cEa2sk2wbg',\n",
    "       'https://mp.weixin.qq.com/s/J68hA0ncRR_q91ccVINP0g',\n",
    "       'https://mp.weixin.qq.com/s/IqIqMik_fGpPgfNgIZ8ieg',\n",
    "       'https://mp.weixin.qq.com/s/bqZp2AqqE-FPzJpx6FlhPA',\n",
    "       'https://mp.weixin.qq.com/s/Dt_Q7mwgzJIdn7NwqeGNeA',\n",
    "       'https://mp.weixin.qq.com/s/SU8bV1IqoaH2NeUs_HJBzg',\n",
    "       'https://mp.weixin.qq.com/s/iUhgNb9-2Ofhsg9zxi2hiw',\n",
    "       'https://mp.weixin.qq.com/s/V9gNghk8vWinad_VT_YAtg',\n",
    "       'https://mp.weixin.qq.com/s/i4BwsY-a9zXjkJe-FTea4Q',\n",
    "       'https://mp.weixin.qq.com/s/YyhqHoMgyetDu6kP9-Ybpw',\n",
    "       'https://mp.weixin.qq.com/s/lIMFiBlzIXvju2VV_I4j0g',\n",
    "       'https://mp.weixin.qq.com/s/d1qIhfwsisM2jQpfURml3A',]\n",
    "\n",
    "#for url in urls:\n",
    "#    get_csv(url)\n",
    "get_statistics(urls)"
   ]
  },
  {
   "cell_type": "markdown",
   "id": "602de438",
   "metadata": {},
   "source": [
    "## 3.疫情点聚类"
   ]
  },
  {
   "cell_type": "code",
   "execution_count": 15,
   "id": "80e221bf",
   "metadata": {},
   "outputs": [
    {
     "name": "stdout",
     "output_type": "stream",
     "text": [
      "2022-04-05\n"
     ]
    },
    {
     "data": {
      "application/vnd.jupyter.widget-view+json": {
       "model_id": "58d6eccaf10f4393ac3906fbbdb45b20",
       "version_major": 2,
       "version_minor": 0
      },
      "text/plain": [
       "  0%|          | 0/5 [00:00<?, ?it/s]"
      ]
     },
     "metadata": {},
     "output_type": "display_data"
    },
    {
     "name": "stdout",
     "output_type": "stream",
     "text": [
      "2022-04-06\n"
     ]
    },
    {
     "data": {
      "application/vnd.jupyter.widget-view+json": {
       "model_id": "9832605981ef4e5d88b6dc5a5b07fc76",
       "version_major": 2,
       "version_minor": 0
      },
      "text/plain": [
       "  0%|          | 0/5 [00:00<?, ?it/s]"
      ]
     },
     "metadata": {},
     "output_type": "display_data"
    },
    {
     "name": "stdout",
     "output_type": "stream",
     "text": [
      "2022-04-07\n"
     ]
    },
    {
     "data": {
      "application/vnd.jupyter.widget-view+json": {
       "model_id": "321efd03e3e04d11a475a065ed8da886",
       "version_major": 2,
       "version_minor": 0
      },
      "text/plain": [
       "  0%|          | 0/5 [00:00<?, ?it/s]"
      ]
     },
     "metadata": {},
     "output_type": "display_data"
    },
    {
     "name": "stdout",
     "output_type": "stream",
     "text": [
      "2022-04-08\n"
     ]
    },
    {
     "data": {
      "application/vnd.jupyter.widget-view+json": {
       "model_id": "c3568bf690184c04bd25848b4b10afe2",
       "version_major": 2,
       "version_minor": 0
      },
      "text/plain": [
       "  0%|          | 0/5 [00:00<?, ?it/s]"
      ]
     },
     "metadata": {},
     "output_type": "display_data"
    },
    {
     "name": "stdout",
     "output_type": "stream",
     "text": [
      "2022-04-09\n"
     ]
    },
    {
     "data": {
      "application/vnd.jupyter.widget-view+json": {
       "model_id": "4c4274a8ae8e4574b7e7befa27d72b2a",
       "version_major": 2,
       "version_minor": 0
      },
      "text/plain": [
       "  0%|          | 0/5 [00:00<?, ?it/s]"
      ]
     },
     "metadata": {},
     "output_type": "display_data"
    },
    {
     "name": "stdout",
     "output_type": "stream",
     "text": [
      "2022-04-10\n"
     ]
    },
    {
     "data": {
      "application/vnd.jupyter.widget-view+json": {
       "model_id": "d43da70cce064ae1b638f19878bafc16",
       "version_major": 2,
       "version_minor": 0
      },
      "text/plain": [
       "  0%|          | 0/5 [00:00<?, ?it/s]"
      ]
     },
     "metadata": {},
     "output_type": "display_data"
    },
    {
     "name": "stdout",
     "output_type": "stream",
     "text": [
      "2022-04-11\n"
     ]
    },
    {
     "data": {
      "application/vnd.jupyter.widget-view+json": {
       "model_id": "ed653ee86a1941b6b42168106c53c7ca",
       "version_major": 2,
       "version_minor": 0
      },
      "text/plain": [
       "  0%|          | 0/5 [00:00<?, ?it/s]"
      ]
     },
     "metadata": {},
     "output_type": "display_data"
    },
    {
     "name": "stdout",
     "output_type": "stream",
     "text": [
      "2022-04-12\n"
     ]
    },
    {
     "data": {
      "application/vnd.jupyter.widget-view+json": {
       "model_id": "91535b508fca4caca348d8bf9ea77fa4",
       "version_major": 2,
       "version_minor": 0
      },
      "text/plain": [
       "  0%|          | 0/5 [00:00<?, ?it/s]"
      ]
     },
     "metadata": {},
     "output_type": "display_data"
    },
    {
     "name": "stdout",
     "output_type": "stream",
     "text": [
      "2022-04-13\n"
     ]
    },
    {
     "data": {
      "application/vnd.jupyter.widget-view+json": {
       "model_id": "7fced91a9e334ff8a4997261f687db46",
       "version_major": 2,
       "version_minor": 0
      },
      "text/plain": [
       "  0%|          | 0/5 [00:00<?, ?it/s]"
      ]
     },
     "metadata": {},
     "output_type": "display_data"
    },
    {
     "name": "stdout",
     "output_type": "stream",
     "text": [
      "2022-04-14\n"
     ]
    },
    {
     "data": {
      "application/vnd.jupyter.widget-view+json": {
       "model_id": "970b3899e482462ab4d9b700fd1fe417",
       "version_major": 2,
       "version_minor": 0
      },
      "text/plain": [
       "  0%|          | 0/5 [00:00<?, ?it/s]"
      ]
     },
     "metadata": {},
     "output_type": "display_data"
    },
    {
     "name": "stdout",
     "output_type": "stream",
     "text": [
      "2022-04-15\n"
     ]
    },
    {
     "data": {
      "application/vnd.jupyter.widget-view+json": {
       "model_id": "30f315705cc64359a7fd951f28da05ad",
       "version_major": 2,
       "version_minor": 0
      },
      "text/plain": [
       "  0%|          | 0/5 [00:00<?, ?it/s]"
      ]
     },
     "metadata": {},
     "output_type": "display_data"
    },
    {
     "name": "stdout",
     "output_type": "stream",
     "text": [
      "2022-04-16\n"
     ]
    },
    {
     "data": {
      "application/vnd.jupyter.widget-view+json": {
       "model_id": "93b30646d65845699e115c68cbd363e9",
       "version_major": 2,
       "version_minor": 0
      },
      "text/plain": [
       "  0%|          | 0/5 [00:00<?, ?it/s]"
      ]
     },
     "metadata": {},
     "output_type": "display_data"
    },
    {
     "name": "stdout",
     "output_type": "stream",
     "text": [
      "2022-04-17\n"
     ]
    },
    {
     "data": {
      "application/vnd.jupyter.widget-view+json": {
       "model_id": "a24d69f0e04e407c92d1e6c79e618040",
       "version_major": 2,
       "version_minor": 0
      },
      "text/plain": [
       "  0%|          | 0/5 [00:00<?, ?it/s]"
      ]
     },
     "metadata": {},
     "output_type": "display_data"
    },
    {
     "name": "stdout",
     "output_type": "stream",
     "text": [
      "2022-04-18\n"
     ]
    },
    {
     "data": {
      "application/vnd.jupyter.widget-view+json": {
       "model_id": "536b378b89bc4149b980a0117b02cac1",
       "version_major": 2,
       "version_minor": 0
      },
      "text/plain": [
       "  0%|          | 0/5 [00:00<?, ?it/s]"
      ]
     },
     "metadata": {},
     "output_type": "display_data"
    },
    {
     "name": "stdout",
     "output_type": "stream",
     "text": [
      "2022-04-19\n"
     ]
    },
    {
     "data": {
      "application/vnd.jupyter.widget-view+json": {
       "model_id": "05746ee75d244fb596823ed7c87290db",
       "version_major": 2,
       "version_minor": 0
      },
      "text/plain": [
       "  0%|          | 0/5 [00:00<?, ?it/s]"
      ]
     },
     "metadata": {},
     "output_type": "display_data"
    },
    {
     "name": "stdout",
     "output_type": "stream",
     "text": [
      "2022-04-20\n"
     ]
    },
    {
     "data": {
      "application/vnd.jupyter.widget-view+json": {
       "model_id": "91e7187a68c64d0185893e3fbdb5f220",
       "version_major": 2,
       "version_minor": 0
      },
      "text/plain": [
       "  0%|          | 0/5 [00:00<?, ?it/s]"
      ]
     },
     "metadata": {},
     "output_type": "display_data"
    },
    {
     "name": "stdout",
     "output_type": "stream",
     "text": [
      "2022-04-21\n"
     ]
    },
    {
     "data": {
      "application/vnd.jupyter.widget-view+json": {
       "model_id": "a32b9d222aa049f8a298c9f6c7acb4a0",
       "version_major": 2,
       "version_minor": 0
      },
      "text/plain": [
       "  0%|          | 0/5 [00:00<?, ?it/s]"
      ]
     },
     "metadata": {},
     "output_type": "display_data"
    },
    {
     "name": "stdout",
     "output_type": "stream",
     "text": [
      "2022-04-22\n"
     ]
    },
    {
     "data": {
      "application/vnd.jupyter.widget-view+json": {
       "model_id": "92e6ff6fc7904d5497132ef6ee8e870b",
       "version_major": 2,
       "version_minor": 0
      },
      "text/plain": [
       "  0%|          | 0/5 [00:00<?, ?it/s]"
      ]
     },
     "metadata": {},
     "output_type": "display_data"
    },
    {
     "name": "stdout",
     "output_type": "stream",
     "text": [
      "2022-04-23\n"
     ]
    },
    {
     "data": {
      "application/vnd.jupyter.widget-view+json": {
       "model_id": "815f7407c235498881db378e20364425",
       "version_major": 2,
       "version_minor": 0
      },
      "text/plain": [
       "  0%|          | 0/5 [00:00<?, ?it/s]"
      ]
     },
     "metadata": {},
     "output_type": "display_data"
    },
    {
     "name": "stdout",
     "output_type": "stream",
     "text": [
      "2022-04-24\n"
     ]
    },
    {
     "data": {
      "application/vnd.jupyter.widget-view+json": {
       "model_id": "2b418dc294b24c7e82ccb6821c238475",
       "version_major": 2,
       "version_minor": 0
      },
      "text/plain": [
       "  0%|          | 0/5 [00:00<?, ?it/s]"
      ]
     },
     "metadata": {},
     "output_type": "display_data"
    },
    {
     "name": "stdout",
     "output_type": "stream",
     "text": [
      "2022-04-25\n"
     ]
    },
    {
     "data": {
      "application/vnd.jupyter.widget-view+json": {
       "model_id": "2fa51d4422014a7886fc8de5c4d4610c",
       "version_major": 2,
       "version_minor": 0
      },
      "text/plain": [
       "  0%|          | 0/5 [00:00<?, ?it/s]"
      ]
     },
     "metadata": {},
     "output_type": "display_data"
    },
    {
     "name": "stdout",
     "output_type": "stream",
     "text": [
      "2022-04-26\n"
     ]
    },
    {
     "data": {
      "application/vnd.jupyter.widget-view+json": {
       "model_id": "96e4c5be3e6d402fa6b992627be01641",
       "version_major": 2,
       "version_minor": 0
      },
      "text/plain": [
       "  0%|          | 0/5 [00:00<?, ?it/s]"
      ]
     },
     "metadata": {},
     "output_type": "display_data"
    },
    {
     "name": "stdout",
     "output_type": "stream",
     "text": [
      "2022-04-27\n"
     ]
    },
    {
     "data": {
      "application/vnd.jupyter.widget-view+json": {
       "model_id": "4df096f680ed4c438cc377e0bfb1f689",
       "version_major": 2,
       "version_minor": 0
      },
      "text/plain": [
       "  0%|          | 0/5 [00:00<?, ?it/s]"
      ]
     },
     "metadata": {},
     "output_type": "display_data"
    },
    {
     "name": "stdout",
     "output_type": "stream",
     "text": [
      "2022-04-28\n"
     ]
    },
    {
     "data": {
      "application/vnd.jupyter.widget-view+json": {
       "model_id": "a64f5a524b9c4fdbb2d41a7e240ba4b2",
       "version_major": 2,
       "version_minor": 0
      },
      "text/plain": [
       "  0%|          | 0/5 [00:00<?, ?it/s]"
      ]
     },
     "metadata": {},
     "output_type": "display_data"
    },
    {
     "name": "stdout",
     "output_type": "stream",
     "text": [
      "2022-04-29\n"
     ]
    },
    {
     "data": {
      "application/vnd.jupyter.widget-view+json": {
       "model_id": "1e91a5bde7ad405e9b56ce39c6a02f3a",
       "version_major": 2,
       "version_minor": 0
      },
      "text/plain": [
       "  0%|          | 0/5 [00:00<?, ?it/s]"
      ]
     },
     "metadata": {},
     "output_type": "display_data"
    },
    {
     "name": "stdout",
     "output_type": "stream",
     "text": [
      "2022-04-30\n"
     ]
    },
    {
     "data": {
      "application/vnd.jupyter.widget-view+json": {
       "model_id": "a81f05a0bc674c8ba707b250bd427556",
       "version_major": 2,
       "version_minor": 0
      },
      "text/plain": [
       "  0%|          | 0/5 [00:00<?, ?it/s]"
      ]
     },
     "metadata": {},
     "output_type": "display_data"
    },
    {
     "name": "stdout",
     "output_type": "stream",
     "text": [
      "2022-05-01\n"
     ]
    },
    {
     "data": {
      "application/vnd.jupyter.widget-view+json": {
       "model_id": "81276d5bd047443ebf8395b9c363d300",
       "version_major": 2,
       "version_minor": 0
      },
      "text/plain": [
       "  0%|          | 0/5 [00:00<?, ?it/s]"
      ]
     },
     "metadata": {},
     "output_type": "display_data"
    },
    {
     "name": "stdout",
     "output_type": "stream",
     "text": [
      "2022-05-02\n"
     ]
    },
    {
     "data": {
      "application/vnd.jupyter.widget-view+json": {
       "model_id": "cf1c43afff144081a68bb23aba5ea091",
       "version_major": 2,
       "version_minor": 0
      },
      "text/plain": [
       "  0%|          | 0/5 [00:00<?, ?it/s]"
      ]
     },
     "metadata": {},
     "output_type": "display_data"
    },
    {
     "name": "stdout",
     "output_type": "stream",
     "text": [
      "2022-05-03\n"
     ]
    },
    {
     "data": {
      "application/vnd.jupyter.widget-view+json": {
       "model_id": "2152ce4c469941c1a1c55678888d1aee",
       "version_major": 2,
       "version_minor": 0
      },
      "text/plain": [
       "  0%|          | 0/5 [00:00<?, ?it/s]"
      ]
     },
     "metadata": {},
     "output_type": "display_data"
    },
    {
     "name": "stdout",
     "output_type": "stream",
     "text": [
      "2022-05-04\n"
     ]
    },
    {
     "data": {
      "application/vnd.jupyter.widget-view+json": {
       "model_id": "5eb58392103241d3a871255d8d3aa158",
       "version_major": 2,
       "version_minor": 0
      },
      "text/plain": [
       "  0%|          | 0/5 [00:00<?, ?it/s]"
      ]
     },
     "metadata": {},
     "output_type": "display_data"
    },
    {
     "name": "stdout",
     "output_type": "stream",
     "text": [
      "2022-05-05\n"
     ]
    },
    {
     "data": {
      "application/vnd.jupyter.widget-view+json": {
       "model_id": "22c03856c58d45d49d244259897f784e",
       "version_major": 2,
       "version_minor": 0
      },
      "text/plain": [
       "  0%|          | 0/5 [00:00<?, ?it/s]"
      ]
     },
     "metadata": {},
     "output_type": "display_data"
    },
    {
     "name": "stdout",
     "output_type": "stream",
     "text": [
      "2022-05-06\n"
     ]
    },
    {
     "data": {
      "application/vnd.jupyter.widget-view+json": {
       "model_id": "c06a17f152414900b22a900ffffc3745",
       "version_major": 2,
       "version_minor": 0
      },
      "text/plain": [
       "  0%|          | 0/5 [00:00<?, ?it/s]"
      ]
     },
     "metadata": {},
     "output_type": "display_data"
    },
    {
     "name": "stdout",
     "output_type": "stream",
     "text": [
      "2022-05-07\n"
     ]
    },
    {
     "data": {
      "application/vnd.jupyter.widget-view+json": {
       "model_id": "e09c224cdd744eb8bcd9210c1c812200",
       "version_major": 2,
       "version_minor": 0
      },
      "text/plain": [
       "  0%|          | 0/5 [00:00<?, ?it/s]"
      ]
     },
     "metadata": {},
     "output_type": "display_data"
    },
    {
     "name": "stdout",
     "output_type": "stream",
     "text": [
      "2022-05-08\n"
     ]
    },
    {
     "data": {
      "application/vnd.jupyter.widget-view+json": {
       "model_id": "a9abf5fa824d4283bc60536d1ca7b152",
       "version_major": 2,
       "version_minor": 0
      },
      "text/plain": [
       "  0%|          | 0/5 [00:00<?, ?it/s]"
      ]
     },
     "metadata": {},
     "output_type": "display_data"
    },
    {
     "name": "stdout",
     "output_type": "stream",
     "text": [
      "2022-05-09\n"
     ]
    },
    {
     "data": {
      "application/vnd.jupyter.widget-view+json": {
       "model_id": "1e1e535664074531b2c58a5a15923a49",
       "version_major": 2,
       "version_minor": 0
      },
      "text/plain": [
       "  0%|          | 0/5 [00:00<?, ?it/s]"
      ]
     },
     "metadata": {},
     "output_type": "display_data"
    },
    {
     "name": "stdout",
     "output_type": "stream",
     "text": [
      "2022-05-10\n"
     ]
    },
    {
     "data": {
      "application/vnd.jupyter.widget-view+json": {
       "model_id": "e7857885606148c681f960e3bcec6274",
       "version_major": 2,
       "version_minor": 0
      },
      "text/plain": [
       "  0%|          | 0/5 [00:00<?, ?it/s]"
      ]
     },
     "metadata": {},
     "output_type": "display_data"
    },
    {
     "name": "stdout",
     "output_type": "stream",
     "text": [
      "2022-05-11\n"
     ]
    },
    {
     "data": {
      "application/vnd.jupyter.widget-view+json": {
       "model_id": "2cf22b86c95549f29c40f7d4c9463f3e",
       "version_major": 2,
       "version_minor": 0
      },
      "text/plain": [
       "  0%|          | 0/5 [00:00<?, ?it/s]"
      ]
     },
     "metadata": {},
     "output_type": "display_data"
    },
    {
     "name": "stdout",
     "output_type": "stream",
     "text": [
      "2022-05-12\n"
     ]
    },
    {
     "data": {
      "application/vnd.jupyter.widget-view+json": {
       "model_id": "bffb5d52eb2d476eb5d05401ff8e602b",
       "version_major": 2,
       "version_minor": 0
      },
      "text/plain": [
       "  0%|          | 0/5 [00:00<?, ?it/s]"
      ]
     },
     "metadata": {},
     "output_type": "display_data"
    },
    {
     "name": "stdout",
     "output_type": "stream",
     "text": [
      "2022-05-13\n"
     ]
    },
    {
     "data": {
      "application/vnd.jupyter.widget-view+json": {
       "model_id": "a66fe1eed3904693a41c8080ba6ee920",
       "version_major": 2,
       "version_minor": 0
      },
      "text/plain": [
       "  0%|          | 0/5 [00:00<?, ?it/s]"
      ]
     },
     "metadata": {},
     "output_type": "display_data"
    },
    {
     "name": "stdout",
     "output_type": "stream",
     "text": [
      "2022-05-14\n"
     ]
    },
    {
     "data": {
      "application/vnd.jupyter.widget-view+json": {
       "model_id": "e8818bf3e4914ac6a7f28ac75e968856",
       "version_major": 2,
       "version_minor": 0
      },
      "text/plain": [
       "  0%|          | 0/5 [00:00<?, ?it/s]"
      ]
     },
     "metadata": {},
     "output_type": "display_data"
    },
    {
     "ename": "PermissionError",
     "evalue": "[Errno 13] Permission denied: 'shanghai/centroid/merged_centroids.csv'",
     "output_type": "error",
     "traceback": [
      "\u001b[1;31m---------------------------------------------------------------------------\u001b[0m",
      "\u001b[1;31mPermissionError\u001b[0m                           Traceback (most recent call last)",
      "Input \u001b[1;32mIn [15]\u001b[0m, in \u001b[0;36m<cell line: 86>\u001b[1;34m()\u001b[0m\n\u001b[0;32m     84\u001b[0m     df\u001b[38;5;241m.\u001b[39mto_csv(path\u001b[38;5;241m+\u001b[39mdate\u001b[38;5;241m+\u001b[39m\u001b[38;5;124m'\u001b[39m\u001b[38;5;124m.csv\u001b[39m\u001b[38;5;124m'\u001b[39m, encoding\u001b[38;5;241m=\u001b[39m\u001b[38;5;124m'\u001b[39m\u001b[38;5;124mutf_8_sig\u001b[39m\u001b[38;5;124m'\u001b[39m, index\u001b[38;5;241m=\u001b[39m\u001b[38;5;28;01mNone\u001b[39;00m)\n\u001b[0;32m     85\u001b[0m     df_cen \u001b[38;5;241m=\u001b[39m pd\u001b[38;5;241m.\u001b[39mconcat([df_cen, df])\n\u001b[1;32m---> 86\u001b[0m \u001b[43mdf_cen\u001b[49m\u001b[38;5;241;43m.\u001b[39;49m\u001b[43mto_csv\u001b[49m\u001b[43m(\u001b[49m\u001b[43mpath\u001b[49m\u001b[38;5;241;43m+\u001b[39;49m\u001b[38;5;124;43m'\u001b[39;49m\u001b[38;5;124;43mmerged_centroids.csv\u001b[39;49m\u001b[38;5;124;43m'\u001b[39;49m\u001b[43m,\u001b[49m\u001b[43m \u001b[49m\u001b[43mencoding\u001b[49m\u001b[38;5;241;43m=\u001b[39;49m\u001b[38;5;124;43m'\u001b[39;49m\u001b[38;5;124;43mutf_8_sig\u001b[39;49m\u001b[38;5;124;43m'\u001b[39;49m\u001b[43m,\u001b[49m\u001b[43m \u001b[49m\u001b[43mindex\u001b[49m\u001b[38;5;241;43m=\u001b[39;49m\u001b[38;5;28;43;01mNone\u001b[39;49;00m\u001b[43m)\u001b[49m\n",
      "File \u001b[1;32mE:\\env\\conda\\envs\\bigdata\\lib\\site-packages\\pandas\\core\\generic.py:3563\u001b[0m, in \u001b[0;36mNDFrame.to_csv\u001b[1;34m(self, path_or_buf, sep, na_rep, float_format, columns, header, index, index_label, mode, encoding, compression, quoting, quotechar, line_terminator, chunksize, date_format, doublequote, escapechar, decimal, errors, storage_options)\u001b[0m\n\u001b[0;32m   3552\u001b[0m df \u001b[38;5;241m=\u001b[39m \u001b[38;5;28mself\u001b[39m \u001b[38;5;28;01mif\u001b[39;00m \u001b[38;5;28misinstance\u001b[39m(\u001b[38;5;28mself\u001b[39m, ABCDataFrame) \u001b[38;5;28;01melse\u001b[39;00m \u001b[38;5;28mself\u001b[39m\u001b[38;5;241m.\u001b[39mto_frame()\n\u001b[0;32m   3554\u001b[0m formatter \u001b[38;5;241m=\u001b[39m DataFrameFormatter(\n\u001b[0;32m   3555\u001b[0m     frame\u001b[38;5;241m=\u001b[39mdf,\n\u001b[0;32m   3556\u001b[0m     header\u001b[38;5;241m=\u001b[39mheader,\n\u001b[1;32m   (...)\u001b[0m\n\u001b[0;32m   3560\u001b[0m     decimal\u001b[38;5;241m=\u001b[39mdecimal,\n\u001b[0;32m   3561\u001b[0m )\n\u001b[1;32m-> 3563\u001b[0m \u001b[38;5;28;01mreturn\u001b[39;00m \u001b[43mDataFrameRenderer\u001b[49m\u001b[43m(\u001b[49m\u001b[43mformatter\u001b[49m\u001b[43m)\u001b[49m\u001b[38;5;241;43m.\u001b[39;49m\u001b[43mto_csv\u001b[49m\u001b[43m(\u001b[49m\n\u001b[0;32m   3564\u001b[0m \u001b[43m    \u001b[49m\u001b[43mpath_or_buf\u001b[49m\u001b[43m,\u001b[49m\n\u001b[0;32m   3565\u001b[0m \u001b[43m    \u001b[49m\u001b[43mline_terminator\u001b[49m\u001b[38;5;241;43m=\u001b[39;49m\u001b[43mline_terminator\u001b[49m\u001b[43m,\u001b[49m\n\u001b[0;32m   3566\u001b[0m \u001b[43m    \u001b[49m\u001b[43msep\u001b[49m\u001b[38;5;241;43m=\u001b[39;49m\u001b[43msep\u001b[49m\u001b[43m,\u001b[49m\n\u001b[0;32m   3567\u001b[0m \u001b[43m    \u001b[49m\u001b[43mencoding\u001b[49m\u001b[38;5;241;43m=\u001b[39;49m\u001b[43mencoding\u001b[49m\u001b[43m,\u001b[49m\n\u001b[0;32m   3568\u001b[0m \u001b[43m    \u001b[49m\u001b[43merrors\u001b[49m\u001b[38;5;241;43m=\u001b[39;49m\u001b[43merrors\u001b[49m\u001b[43m,\u001b[49m\n\u001b[0;32m   3569\u001b[0m \u001b[43m    \u001b[49m\u001b[43mcompression\u001b[49m\u001b[38;5;241;43m=\u001b[39;49m\u001b[43mcompression\u001b[49m\u001b[43m,\u001b[49m\n\u001b[0;32m   3570\u001b[0m \u001b[43m    \u001b[49m\u001b[43mquoting\u001b[49m\u001b[38;5;241;43m=\u001b[39;49m\u001b[43mquoting\u001b[49m\u001b[43m,\u001b[49m\n\u001b[0;32m   3571\u001b[0m \u001b[43m    \u001b[49m\u001b[43mcolumns\u001b[49m\u001b[38;5;241;43m=\u001b[39;49m\u001b[43mcolumns\u001b[49m\u001b[43m,\u001b[49m\n\u001b[0;32m   3572\u001b[0m \u001b[43m    \u001b[49m\u001b[43mindex_label\u001b[49m\u001b[38;5;241;43m=\u001b[39;49m\u001b[43mindex_label\u001b[49m\u001b[43m,\u001b[49m\n\u001b[0;32m   3573\u001b[0m \u001b[43m    \u001b[49m\u001b[43mmode\u001b[49m\u001b[38;5;241;43m=\u001b[39;49m\u001b[43mmode\u001b[49m\u001b[43m,\u001b[49m\n\u001b[0;32m   3574\u001b[0m \u001b[43m    \u001b[49m\u001b[43mchunksize\u001b[49m\u001b[38;5;241;43m=\u001b[39;49m\u001b[43mchunksize\u001b[49m\u001b[43m,\u001b[49m\n\u001b[0;32m   3575\u001b[0m \u001b[43m    \u001b[49m\u001b[43mquotechar\u001b[49m\u001b[38;5;241;43m=\u001b[39;49m\u001b[43mquotechar\u001b[49m\u001b[43m,\u001b[49m\n\u001b[0;32m   3576\u001b[0m \u001b[43m    \u001b[49m\u001b[43mdate_format\u001b[49m\u001b[38;5;241;43m=\u001b[39;49m\u001b[43mdate_format\u001b[49m\u001b[43m,\u001b[49m\n\u001b[0;32m   3577\u001b[0m \u001b[43m    \u001b[49m\u001b[43mdoublequote\u001b[49m\u001b[38;5;241;43m=\u001b[39;49m\u001b[43mdoublequote\u001b[49m\u001b[43m,\u001b[49m\n\u001b[0;32m   3578\u001b[0m \u001b[43m    \u001b[49m\u001b[43mescapechar\u001b[49m\u001b[38;5;241;43m=\u001b[39;49m\u001b[43mescapechar\u001b[49m\u001b[43m,\u001b[49m\n\u001b[0;32m   3579\u001b[0m \u001b[43m    \u001b[49m\u001b[43mstorage_options\u001b[49m\u001b[38;5;241;43m=\u001b[39;49m\u001b[43mstorage_options\u001b[49m\u001b[43m,\u001b[49m\n\u001b[0;32m   3580\u001b[0m \u001b[43m\u001b[49m\u001b[43m)\u001b[49m\n",
      "File \u001b[1;32mE:\\env\\conda\\envs\\bigdata\\lib\\site-packages\\pandas\\io\\formats\\format.py:1180\u001b[0m, in \u001b[0;36mDataFrameRenderer.to_csv\u001b[1;34m(self, path_or_buf, encoding, sep, columns, index_label, mode, compression, quoting, quotechar, line_terminator, chunksize, date_format, doublequote, escapechar, errors, storage_options)\u001b[0m\n\u001b[0;32m   1159\u001b[0m     created_buffer \u001b[38;5;241m=\u001b[39m \u001b[38;5;28;01mFalse\u001b[39;00m\n\u001b[0;32m   1161\u001b[0m csv_formatter \u001b[38;5;241m=\u001b[39m CSVFormatter(\n\u001b[0;32m   1162\u001b[0m     path_or_buf\u001b[38;5;241m=\u001b[39mpath_or_buf,\n\u001b[0;32m   1163\u001b[0m     line_terminator\u001b[38;5;241m=\u001b[39mline_terminator,\n\u001b[1;32m   (...)\u001b[0m\n\u001b[0;32m   1178\u001b[0m     formatter\u001b[38;5;241m=\u001b[39m\u001b[38;5;28mself\u001b[39m\u001b[38;5;241m.\u001b[39mfmt,\n\u001b[0;32m   1179\u001b[0m )\n\u001b[1;32m-> 1180\u001b[0m \u001b[43mcsv_formatter\u001b[49m\u001b[38;5;241;43m.\u001b[39;49m\u001b[43msave\u001b[49m\u001b[43m(\u001b[49m\u001b[43m)\u001b[49m\n\u001b[0;32m   1182\u001b[0m \u001b[38;5;28;01mif\u001b[39;00m created_buffer:\n\u001b[0;32m   1183\u001b[0m     \u001b[38;5;28;01massert\u001b[39;00m \u001b[38;5;28misinstance\u001b[39m(path_or_buf, StringIO)\n",
      "File \u001b[1;32mE:\\env\\conda\\envs\\bigdata\\lib\\site-packages\\pandas\\io\\formats\\csvs.py:241\u001b[0m, in \u001b[0;36mCSVFormatter.save\u001b[1;34m(self)\u001b[0m\n\u001b[0;32m    237\u001b[0m \u001b[38;5;124;03m\"\"\"\u001b[39;00m\n\u001b[0;32m    238\u001b[0m \u001b[38;5;124;03mCreate the writer & save.\u001b[39;00m\n\u001b[0;32m    239\u001b[0m \u001b[38;5;124;03m\"\"\"\u001b[39;00m\n\u001b[0;32m    240\u001b[0m \u001b[38;5;66;03m# apply compression and byte/text conversion\u001b[39;00m\n\u001b[1;32m--> 241\u001b[0m \u001b[38;5;28;01mwith\u001b[39;00m \u001b[43mget_handle\u001b[49m\u001b[43m(\u001b[49m\n\u001b[0;32m    242\u001b[0m \u001b[43m    \u001b[49m\u001b[38;5;28;43mself\u001b[39;49m\u001b[38;5;241;43m.\u001b[39;49m\u001b[43mfilepath_or_buffer\u001b[49m\u001b[43m,\u001b[49m\n\u001b[0;32m    243\u001b[0m \u001b[43m    \u001b[49m\u001b[38;5;28;43mself\u001b[39;49m\u001b[38;5;241;43m.\u001b[39;49m\u001b[43mmode\u001b[49m\u001b[43m,\u001b[49m\n\u001b[0;32m    244\u001b[0m \u001b[43m    \u001b[49m\u001b[43mencoding\u001b[49m\u001b[38;5;241;43m=\u001b[39;49m\u001b[38;5;28;43mself\u001b[39;49m\u001b[38;5;241;43m.\u001b[39;49m\u001b[43mencoding\u001b[49m\u001b[43m,\u001b[49m\n\u001b[0;32m    245\u001b[0m \u001b[43m    \u001b[49m\u001b[43merrors\u001b[49m\u001b[38;5;241;43m=\u001b[39;49m\u001b[38;5;28;43mself\u001b[39;49m\u001b[38;5;241;43m.\u001b[39;49m\u001b[43merrors\u001b[49m\u001b[43m,\u001b[49m\n\u001b[0;32m    246\u001b[0m \u001b[43m    \u001b[49m\u001b[43mcompression\u001b[49m\u001b[38;5;241;43m=\u001b[39;49m\u001b[38;5;28;43mself\u001b[39;49m\u001b[38;5;241;43m.\u001b[39;49m\u001b[43mcompression\u001b[49m\u001b[43m,\u001b[49m\n\u001b[0;32m    247\u001b[0m \u001b[43m    \u001b[49m\u001b[43mstorage_options\u001b[49m\u001b[38;5;241;43m=\u001b[39;49m\u001b[38;5;28;43mself\u001b[39;49m\u001b[38;5;241;43m.\u001b[39;49m\u001b[43mstorage_options\u001b[49m\u001b[43m,\u001b[49m\n\u001b[0;32m    248\u001b[0m \u001b[43m\u001b[49m\u001b[43m)\u001b[49m \u001b[38;5;28;01mas\u001b[39;00m handles:\n\u001b[0;32m    249\u001b[0m \n\u001b[0;32m    250\u001b[0m     \u001b[38;5;66;03m# Note: self.encoding is irrelevant here\u001b[39;00m\n\u001b[0;32m    251\u001b[0m     \u001b[38;5;28mself\u001b[39m\u001b[38;5;241m.\u001b[39mwriter \u001b[38;5;241m=\u001b[39m csvlib\u001b[38;5;241m.\u001b[39mwriter(\n\u001b[0;32m    252\u001b[0m         handles\u001b[38;5;241m.\u001b[39mhandle,\n\u001b[0;32m    253\u001b[0m         lineterminator\u001b[38;5;241m=\u001b[39m\u001b[38;5;28mself\u001b[39m\u001b[38;5;241m.\u001b[39mline_terminator,\n\u001b[1;32m   (...)\u001b[0m\n\u001b[0;32m    258\u001b[0m         quotechar\u001b[38;5;241m=\u001b[39m\u001b[38;5;28mself\u001b[39m\u001b[38;5;241m.\u001b[39mquotechar,\n\u001b[0;32m    259\u001b[0m     )\n\u001b[0;32m    261\u001b[0m     \u001b[38;5;28mself\u001b[39m\u001b[38;5;241m.\u001b[39m_save()\n",
      "File \u001b[1;32mE:\\env\\conda\\envs\\bigdata\\lib\\site-packages\\pandas\\io\\common.py:789\u001b[0m, in \u001b[0;36mget_handle\u001b[1;34m(path_or_buf, mode, encoding, compression, memory_map, is_text, errors, storage_options)\u001b[0m\n\u001b[0;32m    784\u001b[0m \u001b[38;5;28;01melif\u001b[39;00m \u001b[38;5;28misinstance\u001b[39m(handle, \u001b[38;5;28mstr\u001b[39m):\n\u001b[0;32m    785\u001b[0m     \u001b[38;5;66;03m# Check whether the filename is to be opened in binary mode.\u001b[39;00m\n\u001b[0;32m    786\u001b[0m     \u001b[38;5;66;03m# Binary mode does not support 'encoding' and 'newline'.\u001b[39;00m\n\u001b[0;32m    787\u001b[0m     \u001b[38;5;28;01mif\u001b[39;00m ioargs\u001b[38;5;241m.\u001b[39mencoding \u001b[38;5;129;01mand\u001b[39;00m \u001b[38;5;124m\"\u001b[39m\u001b[38;5;124mb\u001b[39m\u001b[38;5;124m\"\u001b[39m \u001b[38;5;129;01mnot\u001b[39;00m \u001b[38;5;129;01min\u001b[39;00m ioargs\u001b[38;5;241m.\u001b[39mmode:\n\u001b[0;32m    788\u001b[0m         \u001b[38;5;66;03m# Encoding\u001b[39;00m\n\u001b[1;32m--> 789\u001b[0m         handle \u001b[38;5;241m=\u001b[39m \u001b[38;5;28;43mopen\u001b[39;49m\u001b[43m(\u001b[49m\n\u001b[0;32m    790\u001b[0m \u001b[43m            \u001b[49m\u001b[43mhandle\u001b[49m\u001b[43m,\u001b[49m\n\u001b[0;32m    791\u001b[0m \u001b[43m            \u001b[49m\u001b[43mioargs\u001b[49m\u001b[38;5;241;43m.\u001b[39;49m\u001b[43mmode\u001b[49m\u001b[43m,\u001b[49m\n\u001b[0;32m    792\u001b[0m \u001b[43m            \u001b[49m\u001b[43mencoding\u001b[49m\u001b[38;5;241;43m=\u001b[39;49m\u001b[43mioargs\u001b[49m\u001b[38;5;241;43m.\u001b[39;49m\u001b[43mencoding\u001b[49m\u001b[43m,\u001b[49m\n\u001b[0;32m    793\u001b[0m \u001b[43m            \u001b[49m\u001b[43merrors\u001b[49m\u001b[38;5;241;43m=\u001b[39;49m\u001b[43merrors\u001b[49m\u001b[43m,\u001b[49m\n\u001b[0;32m    794\u001b[0m \u001b[43m            \u001b[49m\u001b[43mnewline\u001b[49m\u001b[38;5;241;43m=\u001b[39;49m\u001b[38;5;124;43m\"\u001b[39;49m\u001b[38;5;124;43m\"\u001b[39;49m\u001b[43m,\u001b[49m\n\u001b[0;32m    795\u001b[0m \u001b[43m        \u001b[49m\u001b[43m)\u001b[49m\n\u001b[0;32m    796\u001b[0m     \u001b[38;5;28;01melse\u001b[39;00m:\n\u001b[0;32m    797\u001b[0m         \u001b[38;5;66;03m# Binary mode\u001b[39;00m\n\u001b[0;32m    798\u001b[0m         handle \u001b[38;5;241m=\u001b[39m \u001b[38;5;28mopen\u001b[39m(handle, ioargs\u001b[38;5;241m.\u001b[39mmode)\n",
      "\u001b[1;31mPermissionError\u001b[0m: [Errno 13] Permission denied: 'shanghai/centroid/merged_centroids.csv'"
     ]
    }
   ],
   "source": [
    "from shanghai import get_gd_add, get_gd_loc\n",
    "\n",
    "def read_dfcsv(path='shanghai/'):\n",
    "    files = os.listdir(path)\n",
    "\n",
    "    df_list = []\n",
    "    df_merge = pd.DataFrame()\n",
    "    for file in files:\n",
    "        if file == 'confirmedCases.csv':\n",
    "            with open(path+file, encoding=\"utf-8\") as f:\n",
    "                confirmedCases = pd.read_csv(f)\n",
    "        elif file == 'asymptomaticCases.csv':\n",
    "            with open(path+file, encoding=\"utf-8\") as f:\n",
    "                asymptomaticCases = pd.read_csv(f)    \n",
    "        elif '.csv' in file:\n",
    "            with open(path+file, encoding=\"utf-8\") as f:\n",
    "                df = pd.read_csv(f)\n",
    "                df_list.append(df)\n",
    "                df_merge = pd.concat([df_merge, df])\n",
    "                \n",
    "    df = df_merge.dropna()\n",
    "    return df\n",
    "\n",
    "def cluster(df, num_center=100):\n",
    "    # K-Means\n",
    "    if num_center > len(df):\n",
    "        num_center = len(df)\n",
    "\n",
    "    lons = df['lons'].values.tolist()\n",
    "    lats = df['lats'].values.tolist()\n",
    "    locs = []\n",
    "    for lon, lat in zip(lons, lats):\n",
    "        locs.append([lon, lat])\n",
    "    estimator  = KMeans(n_clusters=num_center).fit(locs)\n",
    "    centroids = estimator.cluster_centers_\n",
    "    labels = estimator.labels_\n",
    "\n",
    "    centroids_dense = []\n",
    "    for i in range(len(centroids)):\n",
    "        centroids_dense.append(np.sum(labels==i))\n",
    "\n",
    "    # Get address from Gaode\n",
    "    district = []\n",
    "    township = []\n",
    "    neighborhood = []\n",
    "    building = []\n",
    "    streetNumber = []\n",
    "    for i in notebook.tqdm(range(0, len(centroids), 20)):\n",
    "        locs = centroids[i:i+20]\n",
    "        district_, township_, neighborhood_, building_, streetNumber_ = get_gd_add(locs)\n",
    "        district.extend(district_)\n",
    "        township.extend(township_)\n",
    "        neighborhood.extend(neighborhood_)\n",
    "        building.extend(building_)\n",
    "        streetNumber.extend(streetNumber_)\n",
    "\n",
    "    # make Pandas frame\n",
    "    df_hm = {'lon':centroids[:,0], 'lat':centroids[:,1], 'centroids_dense':centroids_dense,\n",
    "             'district':district, 'township':township, 'neighborhood':neighborhood,\n",
    "             'building':building, 'streetNumber':streetNumber}\n",
    "    df_hm = pd.DataFrame(df_hm)\n",
    "    df_hm = df_hm.dropna()\n",
    "    return df_hm\n",
    "    \n",
    "path='shanghai/centroid/'\n",
    "dfm = read_dfcsv()\n",
    "df_cen = pd.DataFrame({})\n",
    "# dates = np.sort(dfm['date'].unique())\n",
    "dates = ['2022-04-05', '2022-04-06', '2022-04-07', '2022-04-08',\n",
    "       '2022-04-09', '2022-04-10', '2022-04-11', '2022-04-12',\n",
    "       '2022-04-13', '2022-04-14', '2022-04-15', '2022-04-16',\n",
    "       '2022-04-17', '2022-04-18', '2022-04-19', '2022-04-20',\n",
    "       '2022-04-21', '2022-04-22', '2022-04-23', '2022-04-24',\n",
    "       '2022-04-25', '2022-04-26', '2022-04-27', '2022-04-28',\n",
    "       '2022-04-29', '2022-04-30', '2022-05-01', '2022-05-02',\n",
    "       '2022-05-03', '2022-05-04', '2022-05-05', '2022-05-06',\n",
    "       '2022-05-07', '2022-05-08', '2022-05-09', '2022-05-10',\n",
    "       '2022-05-11', '2022-05-12', '2022-05-13', '2022-05-14']\n",
    "for date in dates:\n",
    "    print(date)\n",
    "    df = dfm[dfm['date'] == date]\n",
    "    df = cluster(df)\n",
    "    df['date'] = date\n",
    "    df.to_csv(path+date+'.csv', encoding='utf_8_sig', index=None)\n",
    "    df_cen = pd.concat([df_cen, df])\n",
    "df_cen.to_csv(path+'merged_centroids.csv', encoding='utf_8_sig', index=None)  "
   ]
  },
  {
   "cell_type": "markdown",
   "id": "b030216b",
   "metadata": {},
   "source": [
    "## 4. 使用Plotly绘制Heat Map"
   ]
  },
  {
   "cell_type": "code",
   "execution_count": 111,
   "id": "0af184cb",
   "metadata": {
    "scrolled": true
   },
   "outputs": [
    {
     "data": {
      "application/vnd.plotly.v1+json": {
       "config": {
        "plotlyServerURL": "https://plot.ly"
       },
       "data": [
        {
         "customdata": [
          [
           "北蔡镇南新村吴家宅",
           "2022-05-11",
           "浦东新区"
          ],
          [
           "北蔡镇卫行村",
           "2022-05-11",
           "浦东新区"
          ],
          [
           "北蔡镇五星村陈家队奚家宅",
           "2022-05-11",
           "浦东新区"
          ],
          [
           "北蔡镇御桥村印家队东印家圈",
           "2022-05-11",
           "浦东新区"
          ],
          [
           "北蔡镇中界村陆家队陆家宅",
           "2022-05-11",
           "浦东新区"
          ],
          [
           "博山东路20弄",
           "2022-05-11",
           "浦东新区"
          ],
          [
           "博山路11弄",
           "2022-05-11",
           "浦东新区"
          ],
          [
           "长岛路1267弄",
           "2022-05-11",
           "浦东新区"
          ],
          [
           "长清路693弄",
           "2022-05-11",
           "浦东新区"
          ],
          [
           "昌里路340弄",
           "2022-05-11",
           "浦东新区"
          ],
          [
           "陈春路620弄",
           "2022-05-11",
           "浦东新区"
          ],
          [
           "成山路24弄",
           "2022-05-11",
           "浦东新区"
          ],
          [
           "成山路668弄",
           "2022-05-11",
           "浦东新区"
          ],
          [
           "德平路1125弄",
           "2022-05-11",
           "浦东新区"
          ],
          [
           "峨山路605弄",
           "2022-05-11",
           "浦东新区"
          ],
          [
           "繁锦路688弄",
           "2022-05-11",
           "浦东新区"
          ],
          [
           "芳华路371弄",
           "2022-05-11",
           "浦东新区"
          ],
          [
           "芳华路63号",
           "2022-05-11",
           "浦东新区"
          ],
          [
           "高科西路2763弄",
           "2022-05-11",
           "浦东新区"
          ],
          [
           "高桥镇陆凌村瞿家宅",
           "2022-05-11",
           "浦东新区"
          ],
          [
           "高桥镇西浜头",
           "2022-05-11",
           "浦东新区"
          ],
          [
           "高青路4567弄",
           "2022-05-11",
           "浦东新区"
          ],
          [
           "崮山路968号",
           "2022-05-11",
           "浦东新区"
          ],
          [
           "海纳路129弄",
           "2022-05-11",
           "浦东新区"
          ],
          [
           "航头路988弄",
           "2022-05-11",
           "浦东新区"
          ],
          [
           "航头镇航东村航头",
           "2022-05-11",
           "浦东新区"
          ],
          [
           "合庆镇向东村马家宅",
           "2022-05-11",
           "浦东新区"
          ],
          [
           "和炯路77弄",
           "2022-05-11",
           "浦东新区"
          ],
          [
           "鹤永路751弄",
           "2022-05-11",
           "浦东新区"
          ],
          [
           "沪南路2688弄",
           "2022-05-11",
           "浦东新区"
          ],
          [
           "环桥路1137弄",
           "2022-05-11",
           "浦东新区"
          ],
          [
           "季景北路286弄",
           "2022-05-11",
           "浦东新区"
          ],
          [
           "济阳路65弄",
           "2022-05-11",
           "浦东新区"
          ],
          [
           "佳林路959号",
           "2022-05-11",
           "浦东新区"
          ],
          [
           "金海路华谐路交界口工地生活区",
           "2022-05-11",
           "浦东新区"
          ],
          [
           "金桥路1504弄",
           "2022-05-11",
           "浦东新区"
          ],
          [
           "金桥路2552弄",
           "2022-05-11",
           "浦东新区"
          ],
          [
           "金桥路2618号",
           "2022-05-11",
           "浦东新区"
          ],
          [
           "金湘路201弄",
           "2022-05-11",
           "浦东新区"
          ],
          [
           "金杨路660弄",
           "2022-05-11",
           "浦东新区"
          ],
          [
           "康桥路90弄",
           "2022-05-11",
           "浦东新区"
          ],
          [
           "科农路99弄",
           "2022-05-11",
           "浦东新区"
          ],
          [
           "崂山三村",
           "2022-05-11",
           "浦东新区"
          ],
          [
           "崂山四村",
           "2022-05-11",
           "浦东新区"
          ],
          [
           "历城路100弄",
           "2022-05-11",
           "浦东新区"
          ],
          [
           "林展路267弄",
           "2022-05-11",
           "浦东新区"
          ],
          [
           "林展路278弄",
           "2022-05-11",
           "浦东新区"
          ],
          [
           "灵山路1724弄",
           "2022-05-11",
           "浦东新区"
          ],
          [
           "灵岩南路156弄",
           "2022-05-11",
           "浦东新区"
          ],
          [
           "凌兆路127弄",
           "2022-05-11",
           "浦东新区"
          ],
          [
           "龙居路180弄",
           "2022-05-11",
           "浦东新区"
          ],
          [
           "南码头路1675弄",
           "2022-05-11",
           "浦东新区"
          ],
          [
           "浦东大道136弄",
           "2022-05-11",
           "浦东新区"
          ],
          [
           "浦东大道140弄",
           "2022-05-11",
           "浦东新区"
          ],
          [
           "浦东大道1851弄",
           "2022-05-11",
           "浦东新区"
          ],
          [
           "浦东大道2639弄",
           "2022-05-11",
           "浦东新区"
          ],
          [
           "浦东大道2742弄",
           "2022-05-11",
           "浦东新区"
          ],
          [
           "浦东南路1700弄",
           "2022-05-11",
           "浦东新区"
          ],
          [
           "浦三路5127弄",
           "2022-05-11",
           "浦东新区"
          ],
          [
           "乳山路161弄",
           "2022-05-11",
           "浦东新区"
          ],
          [
           "瑞阳路81弄",
           "2022-05-11",
           "浦东新区"
          ],
          [
           "三林路200号",
           "2022-05-11",
           "浦东新区"
          ],
          [
           "三林镇胡巷村金家宅",
           "2022-05-11",
           "浦东新区"
          ],
          [
           "三林镇胡巷村吴家宅",
           "2022-05-11",
           "浦东新区"
          ],
          [
           "三林镇天花庵村北陈队大陈家宅",
           "2022-05-11",
           "浦东新区"
          ],
          [
           "三林镇天花庵村东瞿队大瞿家宅",
           "2022-05-11",
           "浦东新区"
          ],
          [
           "三林镇西林村圈门队西林街",
           "2022-05-11",
           "浦东新区"
          ],
          [
           "三林镇新任村",
           "2022-05-11",
           "浦东新区"
          ],
          [
           "上南路4265弄",
           "2022-05-11",
           "浦东新区"
          ],
          [
           "世博家园大道站路94弄",
           "2022-05-11",
           "浦东新区"
          ],
          [
           "思浦路17弄",
           "2022-05-11",
           "浦东新区"
          ],
          [
           "台儿庄路363弄",
           "2022-05-11",
           "浦东新区"
          ],
          [
           "五莲路108弄",
           "2022-05-11",
           "浦东新区"
          ],
          [
           "西泰林路901弄",
           "2022-05-11",
           "浦东新区"
          ],
          [
           "西营路33弄",
           "2022-05-11",
           "浦东新区"
          ],
          [
           "下南路370弄",
           "2022-05-11",
           "浦东新区"
          ],
          [
           "下南路500弄",
           "2022-05-11",
           "浦东新区"
          ],
          [
           "新场镇蒋桥村",
           "2022-05-11",
           "浦东新区"
          ],
          [
           "新场镇坦西村坦北",
           "2022-05-11",
           "浦东新区"
          ],
          [
           "新浦路543弄",
           "2022-05-11",
           "浦东新区"
          ],
          [
           "新浦路629弄",
           "2022-05-11",
           "浦东新区"
          ],
          [
           "秀沿路2585弄",
           "2022-05-11",
           "浦东新区"
          ],
          [
           "秀沿路2875弄",
           "2022-05-11",
           "浦东新区"
          ],
          [
           "严桥路150弄",
           "2022-05-11",
           "浦东新区"
          ],
          [
           "杨新路20弄",
           "2022-05-11",
           "浦东新区"
          ],
          [
           "杨新路80弄",
           "2022-05-11",
           "浦东新区"
          ],
          [
           "耀华路414弄",
           "2022-05-11",
           "浦东新区"
          ],
          [
           "耀华路500弄",
           "2022-05-11",
           "浦东新区"
          ],
          [
           "懿行路971弄",
           "2022-05-11",
           "浦东新区"
          ],
          [
           "银山路370弄",
           "2022-05-11",
           "浦东新区"
          ],
          [
           "永泰路2079弄",
           "2022-05-11",
           "浦东新区"
          ],
          [
           "韵涛路36弄",
           "2022-05-11",
           "浦东新区"
          ],
          [
           "枣庄路210弄",
           "2022-05-11",
           "浦东新区"
          ],
          [
           "枣庄路212弄",
           "2022-05-11",
           "浦东新区"
          ],
          [
           "张杨北路512弄",
           "2022-05-11",
           "浦东新区"
          ],
          [
           "赵高公路958号",
           "2022-05-11",
           "浦东新区"
          ],
          [
           "紫叶路81弄",
           "2022-05-11",
           "浦东新区"
          ],
          [
           "邹平路191号工地生活区",
           "2022-05-11",
           "浦东新区"
          ],
          [
           "半淞园路650号",
           "2022-05-11",
           "黄浦区"
          ],
          [
           "保屯路211弄",
           "2022-05-11",
           "黄浦区"
          ],
          [
           "成都北路262弄",
           "2022-05-11",
           "黄浦区"
          ],
          [
           "长乐路79号",
           "2022-05-11",
           "黄浦区"
          ],
          [
           "重庆北路177弄",
           "2022-05-11",
           "黄浦区"
          ],
          [
           "重庆南路205弄",
           "2022-05-11",
           "黄浦区"
          ],
          [
           "打浦路316弄",
           "2022-05-11",
           "黄浦区"
          ],
          [
           "打浦路470弄",
           "2022-05-11",
           "黄浦区"
          ],
          [
           "大夫坊95弄",
           "2022-05-11",
           "黄浦区"
          ],
          [
           "大沽路159号",
           "2022-05-11",
           "黄浦区"
          ],
          [
           "大林路43弄",
           "2022-05-11",
           "黄浦区"
          ],
          [
           "淡水路214弄",
           "2022-05-11",
           "黄浦区"
          ],
          [
           "淡水路216号",
           "2022-05-11",
           "黄浦区"
          ],
          [
           "淡水路225弄",
           "2022-05-11",
           "黄浦区"
          ],
          [
           "淡水路228号",
           "2022-05-11",
           "黄浦区"
          ],
          [
           "方斜路409号",
           "2022-05-11",
           "黄浦区"
          ],
          [
           "福建中路195弄",
           "2022-05-11",
           "黄浦区"
          ],
          [
           "福建中路225号",
           "2022-05-11",
           "黄浦区"
          ],
          [
           "福州路384弄",
           "2022-05-11",
           "黄浦区"
          ],
          [
           "福州路614弄",
           "2022-05-11",
           "黄浦区"
          ],
          [
           "复兴东路404弄",
           "2022-05-11",
           "黄浦区"
          ],
          [
           "牯岭路172号",
           "2022-05-11",
           "黄浦区"
          ],
          [
           "广西北路200号",
           "2022-05-11",
           "黄浦区"
          ],
          [
           "海潮路93弄",
           "2022-05-11",
           "黄浦区"
          ],
          [
           "海口路9号",
           "2022-05-11",
           "黄浦区"
          ],
          [
           "海南西弄93号",
           "2022-05-11",
           "黄浦区"
          ],
          [
           "河南南路1001弄",
           "2022-05-11",
           "黄浦区"
          ],
          [
           "河南中路575弄",
           "2022-05-11",
           "黄浦区"
          ],
          [
           "淮海中路526弄",
           "2022-05-11",
           "黄浦区"
          ],
          [
           "淮海中路899弄",
           "2022-05-11",
           "黄浦区"
          ],
          [
           "淮海中路925弄",
           "2022-05-11",
           "黄浦区"
          ],
          [
           "黄河路215弄",
           "2022-05-11",
           "黄浦区"
          ],
          [
           "黄河路239号",
           "2022-05-11",
           "黄浦区"
          ],
          [
           "黄河路253弄",
           "2022-05-11",
           "黄浦区"
          ],
          [
           "黄河路261号",
           "2022-05-11",
           "黄浦区"
          ],
          [
           "黄河路281弄",
           "2022-05-11",
           "黄浦区"
          ],
          [
           "黄河路288号",
           "2022-05-11",
           "黄浦区"
          ],
          [
           "黄家阙路68弄",
           "2022-05-11",
           "黄浦区"
          ],
          [
           "建国东路115弄",
           "2022-05-11",
           "黄浦区"
          ],
          [
           "建国东路143弄",
           "2022-05-11",
           "黄浦区"
          ],
          [
           "建国东路61弄",
           "2022-05-11",
           "黄浦区"
          ],
          [
           "建国西路91弄",
           "2022-05-11",
           "黄浦区"
          ],
          [
           "江滨路258号",
           "2022-05-11",
           "黄浦区"
          ],
          [
           "江西中路412弄",
           "2022-05-11",
           "黄浦区"
          ],
          [
           "江西中路44弄",
           "2022-05-11",
           "黄浦区"
          ],
          [
           "江阴街401弄",
           "2022-05-11",
           "黄浦区"
          ],
          [
           "进贤路138弄",
           "2022-05-11",
           "黄浦区"
          ],
          [
           "聚奎新村",
           "2022-05-11",
           "黄浦区"
          ],
          [
           "丽园路1016弄",
           "2022-05-11",
           "黄浦区"
          ],
          [
           "丽园路502号",
           "2022-05-11",
           "黄浦区"
          ],
          [
           "丽园路883号",
           "2022-05-11",
           "黄浦区"
          ],
          [
           "柳市路1弄",
           "2022-05-11",
           "黄浦区"
          ],
          [
           "龙华东路888弄",
           "2022-05-11",
           "黄浦区"
          ],
          [
           "鲁班路509弄",
           "2022-05-11",
           "黄浦区"
          ],
          [
           "陆家浜路1256弄",
           "2022-05-11",
           "黄浦区"
          ],
          [
           "陆家浜路413弄",
           "2022-05-11",
           "黄浦区"
          ],
          [
           "陆家浜路468弄",
           "2022-05-11",
           "黄浦区"
          ],
          [
           "陆家浜路688弄",
           "2022-05-11",
           "黄浦区"
          ],
          [
           "马当路278弄",
           "2022-05-11",
           "黄浦区"
          ],
          [
           "蒙自路345弄",
           "2022-05-11",
           "黄浦区"
          ],
          [
           "蒙自路601弄",
           "2022-05-11",
           "黄浦区"
          ],
          [
           "面筋弄29号",
           "2022-05-11",
           "黄浦区"
          ],
          [
           "南昌路246号",
           "2022-05-11",
           "黄浦区"
          ],
          [
           "南车站路169弄",
           "2022-05-11",
           "黄浦区"
          ],
          [
           "南车站路438号",
           "2022-05-11",
           "黄浦区"
          ],
          [
           "南京东路600号",
           "2022-05-11",
           "黄浦区"
          ],
          [
           "南京西路461号",
           "2022-05-11",
           "黄浦区"
          ],
          [
           "宁波路540号",
           "2022-05-11",
           "黄浦区"
          ],
          [
           "宁波路601号",
           "2022-05-11",
           "黄浦区"
          ],
          [
           "平望街36弄",
           "2022-05-11",
           "黄浦区"
          ],
          [
           "普育东路101弄",
           "2022-05-11",
           "黄浦区"
          ],
          [
           "普育东路200弄",
           "2022-05-11",
           "黄浦区"
          ],
          [
           "普育东路230号",
           "2022-05-11",
           "黄浦区"
          ],
          [
           "瞿溪路1072弄",
           "2022-05-11",
           "黄浦区"
          ],
          [
           "瞿溪路117号",
           "2022-05-11",
           "黄浦区"
          ],
          [
           "瞿溪路1200弄",
           "2022-05-11",
           "黄浦区"
          ],
          [
           "瞿溪路120弄",
           "2022-05-11",
           "黄浦区"
          ],
          [
           "瞿溪路122号",
           "2022-05-11",
           "黄浦区"
          ],
          [
           "瞿溪路1240弄",
           "2022-05-11",
           "黄浦区"
          ],
          [
           "瞿溪路124号",
           "2022-05-11",
           "黄浦区"
          ],
          [
           "瞿溪路1254弄",
           "2022-05-11",
           "黄浦区"
          ],
          [
           "瞿溪路129号",
           "2022-05-11",
           "黄浦区"
          ],
          [
           "瞿溪路564号",
           "2022-05-11",
           "黄浦区"
          ],
          [
           "瞿溪路566号",
           "2022-05-11",
           "黄浦区"
          ],
          [
           "瞿溪路804号",
           "2022-05-11",
           "黄浦区"
          ],
          [
           "瞿溪路883弄",
           "2022-05-11",
           "黄浦区"
          ],
          [
           "瞿溪路904弄",
           "2022-05-11",
           "黄浦区"
          ],
          [
           "瞿溪路937弄",
           "2022-05-11",
           "黄浦区"
          ],
          [
           "汝南街76号",
           "2022-05-11",
           "黄浦区"
          ],
          [
           "瑞金二路52弄",
           "2022-05-11",
           "黄浦区"
          ],
          [
           "瑞金二路70弄",
           "2022-05-11",
           "黄浦区"
          ],
          [
           "瑞金南路1号",
           "2022-05-11",
           "黄浦区"
          ],
          [
           "瑞金南路333弄",
           "2022-05-11",
           "黄浦区"
          ],
          [
           "顺昌路487号",
           "2022-05-11",
           "黄浦区"
          ],
          [
           "顺昌路506号",
           "2022-05-11",
           "黄浦区"
          ],
          [
           "顺昌路594号",
           "2022-05-11",
           "黄浦区"
          ],
          [
           "四川中路627号",
           "2022-05-11",
           "黄浦区"
          ],
          [
           "四牌楼路71号",
           "2022-05-11",
           "黄浦区"
          ],
          [
           "泗泾路29号",
           "2022-05-11",
           "黄浦区"
          ],
          [
           "天津路170弄",
           "2022-05-11",
           "黄浦区"
          ],
          [
           "吾园街142号",
           "2022-05-11",
           "黄浦区"
          ],
          [
           "五里桥路235弄",
           "2022-05-11",
           "黄浦区"
          ],
          [
           "西藏南路1383弄",
           "2022-05-11",
           "黄浦区"
          ],
          [
           "西凌家宅路111弄",
           "2022-05-11",
           "黄浦区"
          ],
          [
           "西凌家宅路27弄",
           "2022-05-11",
           "黄浦区"
          ],
          [
           "斜土东路265弄",
           "2022-05-11",
           "黄浦区"
          ],
          [
           "斜土东路333弄",
           "2022-05-11",
           "黄浦区"
          ],
          [
           "斜土路330弄",
           "2022-05-11",
           "黄浦区"
          ],
          [
           "斜土路530号",
           "2022-05-11",
           "黄浦区"
          ],
          [
           "斜土路80弄",
           "2022-05-11",
           "黄浦区"
          ],
          [
           "新昌路288号",
           "2022-05-11",
           "黄浦区"
          ],
          [
           "新昌路310弄",
           "2022-05-11",
           "黄浦区"
          ],
          [
           "新昌路332号",
           "2022-05-11",
           "黄浦区"
          ],
          [
           "兴安路141弄",
           "2022-05-11",
           "黄浦区"
          ],
          [
           "学院路70号",
           "2022-05-11",
           "黄浦区"
          ],
          [
           "学院路79弄",
           "2022-05-11",
           "黄浦区"
          ],
          [
           "巡道街21号",
           "2022-05-11",
           "黄浦区"
          ],
          [
           "巡道街8号",
           "2022-05-11",
           "黄浦区"
          ],
          [
           "延安东路1292弄",
           "2022-05-11",
           "黄浦区"
          ],
          [
           "浙江中路118弄",
           "2022-05-11",
           "黄浦区"
          ],
          [
           "制造局路365弄",
           "2022-05-11",
           "黄浦区"
          ],
          [
           "制造局路370弄",
           "2022-05-11",
           "黄浦区"
          ],
          [
           "制造局路455弄",
           "2022-05-11",
           "黄浦区"
          ],
          [
           "制造局路529号",
           "2022-05-11",
           "黄浦区"
          ],
          [
           "制造局路567弄",
           "2022-05-11",
           "黄浦区"
          ],
          [
           "中山南路1669弄",
           "2022-05-11",
           "黄浦区"
          ],
          [
           "中山南路1726弄",
           "2022-05-11",
           "黄浦区"
          ],
          [
           "中山南路891号",
           "2022-05-11",
           "黄浦区"
          ],
          [
           "中山南一路1043弄",
           "2022-05-11",
           "黄浦区"
          ],
          [
           "中山南一路198弄",
           "2022-05-11",
           "黄浦区"
          ],
          [
           "中山南一路247弄",
           "2022-05-11",
           "黄浦区"
          ],
          [
           "中山南一路904号",
           "2022-05-11",
           "黄浦区"
          ],
          [
           "庄家街34号",
           "2022-05-11",
           "黄浦区"
          ],
          [
           "自忠路428号",
           "2022-05-11",
           "黄浦区"
          ],
          [
           "宝山路499弄",
           "2022-05-11",
           "静安区"
          ],
          [
           "宝山路581号",
           "2022-05-11",
           "静安区"
          ],
          [
           "宝通路210号",
           "2022-05-11",
           "静安区"
          ],
          [
           "宝源路209弄",
           "2022-05-11",
           "静安区"
          ],
          [
           "保德路241弄",
           "2022-05-11",
           "静安区"
          ],
          [
           "昌平路421弄",
           "2022-05-11",
           "静安区"
          ],
          [
           "昌平路999弄",
           "2022-05-11",
           "静安区"
          ],
          [
           "常德路545弄",
           "2022-05-11",
           "静安区"
          ],
          [
           "常德路633弄",
           "2022-05-11",
           "静安区"
          ],
          [
           "长乐路638弄",
           "2022-05-11",
           "静安区"
          ],
          [
           "长临路200弄",
           "2022-05-11",
           "静安区"
          ],
          [
           "场中路2155弄",
           "2022-05-11",
           "静安区"
          ],
          [
           "场中路2965弄",
           "2022-05-11",
           "静安区"
          ],
          [
           "大统路933弄",
           "2022-05-11",
           "静安区"
          ],
          [
           "共和新路1304弄",
           "2022-05-11",
           "静安区"
          ],
          [
           "共和新路3616弄",
           "2022-05-11",
           "静安区"
          ],
          [
           "共和新路619弄",
           "2022-05-11",
           "静安区"
          ],
          [
           "共和新路655弄",
           "2022-05-11",
           "静安区"
          ],
          [
           "共和新路966号",
           "2022-05-11",
           "静安区"
          ],
          [
           "广延路350弄",
           "2022-05-11",
           "静安区"
          ],
          [
           "海防路223弄",
           "2022-05-11",
           "静安区"
          ],
          [
           "海防路338弄",
           "2022-05-11",
           "静安区"
          ],
          [
           "汉中路18号",
           "2022-05-11",
           "静安区"
          ],
          [
           "汉中路28弄",
           "2022-05-11",
           "静安区"
          ],
          [
           "汉中路78弄",
           "2022-05-11",
           "静安区"
          ],
          [
           "沪太路1051弄",
           "2022-05-11",
           "静安区"
          ],
          [
           "沪太路549号",
           "2022-05-11",
           "静安区"
          ],
          [
           "沪太路651弄",
           "2022-05-11",
           "静安区"
          ],
          [
           "胶州路565弄",
           "2022-05-11",
           "静安区"
          ],
          [
           "康定路864号",
           "2022-05-11",
           "静安区"
          ],
          [
           "老沪太路1291弄",
           "2022-05-11",
           "静安区"
          ],
          [
           "老沪太路250弄",
           "2022-05-11",
           "静安区"
          ],
          [
           "临汾路99弄",
           "2022-05-11",
           "静安区"
          ],
          [
           "临山路186号",
           "2022-05-11",
           "静安区"
          ],
          [
           "灵石路666弄",
           "2022-05-11",
           "静安区"
          ],
          [
           "柳营路1025弄",
           "2022-05-11",
           "静安区"
          ],
          [
           "柳营路319弄",
           "2022-05-11",
           "静安区"
          ],
          [
           "洛川中路1100弄",
           "2022-05-11",
           "静安区"
          ],
          [
           "毛家弄78号",
           "2022-05-11",
           "静安区"
          ],
          [
           "南京西路591弄",
           "2022-05-11",
           "静安区"
          ],
          [
           "平型关路121弄",
           "2022-05-11",
           "静安区"
          ],
          [
           "平型关路305弄",
           "2022-05-11",
           "静安区"
          ],
          [
           "普善路铁路新村17号",
           "2022-05-11",
           "静安区"
          ],
          [
           "普善路铁路新村21号",
           "2022-05-11",
           "静安区"
          ],
          [
           "普善路铁路新村23号",
           "2022-05-11",
           "静安区"
          ],
          [
           "青云路315弄",
           "2022-05-11",
           "静安区"
          ],
          [
           "虬江路1258弄",
           "2022-05-11",
           "静安区"
          ],
          [
           "虬江路860号",
           "2022-05-11",
           "静安区"
          ],
          [
           "三泉路821弄",
           "2022-05-11",
           "静安区"
          ],
          [
           "陕西北路581号",
           "2022-05-11",
           "静安区"
          ],
          [
           "陕西北路835弄",
           "2022-05-11",
           "静安区"
          ],
          [
           "陕西北路900号",
           "2022-05-11",
           "静安区"
          ],
          [
           "谈家桥路85弄",
           "2022-05-11",
           "静安区"
          ],
          [
           "天目中路749弄",
           "2022-05-11",
           "静安区"
          ],
          [
           "通阁路181号",
           "2022-05-11",
           "静安区"
          ],
          [
           "万航渡路463号",
           "2022-05-11",
           "静安区"
          ],
          [
           "闻喜路590号",
           "2022-05-11",
           "静安区"
          ],
          [
           "闻喜路935弄",
           "2022-05-11",
           "静安区"
          ],
          [
           "西宝兴路922弄",
           "2022-05-11",
           "静安区"
          ],
          [
           "西藏北路853弄",
           "2022-05-11",
           "静安区"
          ],
          [
           "西康路786弄",
           "2022-05-11",
           "静安区"
          ],
          [
           "西康路894弄",
           "2022-05-11",
           "静安区"
          ],
          [
           "襄阳北路44弄",
           "2022-05-11",
           "静安区"
          ],
          [
           "延平路230弄",
           "2022-05-11",
           "静安区"
          ],
          [
           "延平路340弄",
           "2022-05-11",
           "静安区"
          ],
          [
           "延长中路800弄",
           "2022-05-11",
           "静安区"
          ],
          [
           "余姚路19号",
           "2022-05-11",
           "静安区"
          ],
          [
           "余姚路321弄",
           "2022-05-11",
           "静安区"
          ],
          [
           "俞泾港路15弄",
           "2022-05-11",
           "静安区"
          ],
          [
           "愚园路488弄",
           "2022-05-11",
           "静安区"
          ],
          [
           "止园路320弄",
           "2022-05-11",
           "静安区"
          ],
          [
           "芷江西路123弄",
           "2022-05-11",
           "静安区"
          ],
          [
           "芷江西路285弄",
           "2022-05-11",
           "静安区"
          ],
          [
           "芷江西路393弄",
           "2022-05-11",
           "静安区"
          ],
          [
           "芷江中路413弄",
           "2022-05-11",
           "静安区"
          ],
          [
           "芷江中路495弄",
           "2022-05-11",
           "静安区"
          ],
          [
           "芷江中路531弄",
           "2022-05-11",
           "静安区"
          ],
          [
           "中华新路487号",
           "2022-05-11",
           "静安区"
          ],
          [
           "中华新路706号",
           "2022-05-11",
           "静安区"
          ],
          [
           "中华新路730弄",
           "2022-05-11",
           "静安区"
          ],
          [
           "中华新路893弄",
           "2022-05-11",
           "静安区"
          ],
          [
           "中华新路939弄",
           "2022-05-11",
           "静安区"
          ],
          [
           "中山北路1038号",
           "2022-05-11",
           "静安区"
          ],
          [
           "中山北路255弄",
           "2022-05-11",
           "静安区"
          ],
          [
           "中山北路814弄",
           "2022-05-11",
           "静安区"
          ],
          [
           "中兴路1321弄",
           "2022-05-11",
           "静安区"
          ],
          [
           "中兴路1340弄",
           "2022-05-11",
           "静安区"
          ],
          [
           "苍梧路468弄",
           "2022-05-11",
           "徐汇区"
          ],
          [
           "东安路452号",
           "2022-05-11",
           "徐汇区"
          ],
          [
           "东安五村",
           "2022-05-11",
           "徐汇区"
          ],
          [
           "东安一村",
           "2022-05-11",
           "徐汇区"
          ],
          [
           "复兴中路1199号",
           "2022-05-11",
           "徐汇区"
          ],
          [
           "复兴中路1315弄",
           "2022-05-11",
           "徐汇区"
          ],
          [
           "淮海西路343号",
           "2022-05-11",
           "徐汇区"
          ],
          [
           "建国西路316弄",
           "2022-05-11",
           "徐汇区"
          ],
          [
           "凯旋路2120弄",
           "2022-05-11",
           "徐汇区"
          ],
          [
           "零陵路639号",
           "2022-05-11",
           "徐汇区"
          ],
          [
           "龙华路2381弄",
           "2022-05-11",
           "徐汇区"
          ],
          [
           "龙华路3208弄",
           "2022-05-11",
           "徐汇区"
          ],
          [
           "龙华西路21弄",
           "2022-05-11",
           "徐汇区"
          ],
          [
           "龙华西路31弄",
           "2022-05-11",
           "徐汇区"
          ],
          [
           "罗秀路717弄",
           "2022-05-11",
           "徐汇区"
          ],
          [
           "南丹路333弄",
           "2022-05-11",
           "徐汇区"
          ],
          [
           "宛平南路968弄",
           "2022-05-11",
           "徐汇区"
          ],
          [
           "乌鲁木齐南路75弄",
           "2022-05-11",
           "徐汇区"
          ],
          [
           "小木桥路101弄",
           "2022-05-11",
           "徐汇区"
          ],
          [
           "小木桥路360弄",
           "2022-05-11",
           "徐汇区"
          ],
          [
           "徐虹北路18弄",
           "2022-05-11",
           "徐汇区"
          ],
          [
           "中山南二路918弄",
           "2022-05-11",
           "徐汇区"
          ],
          [
           "中山西路2020号",
           "2022-05-11",
           "徐汇区"
          ],
          [
           "曹杨二村",
           "2022-05-11",
           "普陀区"
          ],
          [
           "昌化路994弄",
           "2022-05-11",
           "普陀区"
          ],
          [
           "古浪路518弄",
           "2022-05-11",
           "普陀区"
          ],
          [
           "黄陵路200弄",
           "2022-05-11",
           "普陀区"
          ],
          [
           "交通路1913弄",
           "2022-05-11",
           "普陀区"
          ],
          [
           "交通路3193弄",
           "2022-05-11",
           "普陀区"
          ],
          [
           "交通西路188弄",
           "2022-05-11",
           "普陀区"
          ],
          [
           "礼泉路305弄",
           "2022-05-11",
           "普陀区"
          ],
          [
           "礼泉路700弄",
           "2022-05-11",
           "普陀区"
          ],
          [
           "怒江北路219弄",
           "2022-05-11",
           "普陀区"
          ],
          [
           "普陀四村",
           "2022-05-11",
           "普陀区"
          ],
          [
           "铜川路346弄",
           "2022-05-11",
           "普陀区"
          ],
          [
           "香泉路85弄",
           "2022-05-11",
           "普陀区"
          ],
          [
           "新村路170弄",
           "2022-05-11",
           "普陀区"
          ],
          [
           "旬阳新村",
           "2022-05-11",
           "普陀区"
          ],
          [
           "真如西村",
           "2022-05-11",
           "普陀区"
          ],
          [
           "安图新村",
           "2022-05-11",
           "杨浦区"
          ],
          [
           "鞍山路63号",
           "2022-05-11",
           "杨浦区"
          ],
          [
           "鞍山三村",
           "2022-05-11",
           "杨浦区"
          ],
          [
           "长白三村",
           "2022-05-11",
           "杨浦区"
          ],
          [
           "长阳路1220弄",
           "2022-05-11",
           "杨浦区"
          ],
          [
           "长阳路2000号",
           "2022-05-11",
           "杨浦区"
          ],
          [
           "长阳路2080号",
           "2022-05-11",
           "杨浦区"
          ],
          [
           "大连西路4弄",
           "2022-05-11",
           "杨浦区"
          ],
          [
           "凤城三村",
           "2022-05-11",
           "杨浦区"
          ],
          [
           "阜新路169弄",
           "2022-05-11",
           "杨浦区"
          ],
          [
           "工农四村",
           "2022-05-11",
           "杨浦区"
          ],
          [
           "贵阳路422号",
           "2022-05-11",
           "杨浦区"
          ],
          [
           "国权北路17号",
           "2022-05-11",
           "杨浦区"
          ],
          [
           "国权后路19号",
           "2022-05-11",
           "杨浦区"
          ],
          [
           "国伟路300号",
           "2022-05-11",
           "杨浦区"
          ],
          [
           "国伟路58弄",
           "2022-05-11",
           "杨浦区"
          ],
          [
           "江浦路1275弄",
           "2022-05-11",
           "杨浦区"
          ],
          [
           "江浦路1315弄",
           "2022-05-11",
           "杨浦区"
          ],
          [
           "江浦路1424弄",
           "2022-05-11",
           "杨浦区"
          ],
          [
           "靖宇东路58弄",
           "2022-05-11",
           "杨浦区"
          ],
          [
           "军工路516号",
           "2022-05-11",
           "杨浦区"
          ],
          [
           "开鲁四村",
           "2022-05-11",
           "杨浦区"
          ],
          [
           "控江二村",
           "2022-05-11",
           "杨浦区"
          ],
          [
           "控江路128弄",
           "2022-05-11",
           "杨浦区"
          ],
          [
           "控江路2202号",
           "2022-05-11",
           "杨浦区"
          ],
          [
           "控江路645弄",
           "2022-05-11",
           "杨浦区"
          ],
          [
           "控江路740弄",
           "2022-05-11",
           "杨浦区"
          ],
          [
           "控江路764弄",
           "2022-05-11",
           "杨浦区"
          ],
          [
           "控江路802弄",
           "2022-05-11",
           "杨浦区"
          ],
          [
           "控江路888弄",
           "2022-05-11",
           "杨浦区"
          ],
          [
           "控江七村",
           "2022-05-11",
           "杨浦区"
          ],
          [
           "隆昌路718弄",
           "2022-05-11",
           "杨浦区"
          ],
          [
           "内江二村",
           "2022-05-11",
           "杨浦区"
          ],
          [
           "内江路222弄",
           "2022-05-11",
           "杨浦区"
          ],
          [
           "内江路476弄",
           "2022-05-11",
           "杨浦区"
          ],
          [
           "宁国路438弄",
           "2022-05-11",
           "杨浦区"
          ],
          [
           "平凉路1545弄",
           "2022-05-11",
           "杨浦区"
          ],
          [
           "平凉路1909号",
           "2022-05-11",
           "杨浦区"
          ],
          [
           "三门路358弄",
           "2022-05-11",
           "杨浦区"
          ],
          [
           "市光二村",
           "2022-05-11",
           "杨浦区"
          ],
          [
           "市光三村",
           "2022-05-11",
           "杨浦区"
          ],
          [
           "双辽路200弄",
           "2022-05-11",
           "杨浦区"
          ],
          [
           "双辽支路60弄",
           "2022-05-11",
           "杨浦区"
          ],
          [
           "双阳北路395弄",
           "2022-05-11",
           "杨浦区"
          ],
          [
           "双阳路68弄",
           "2022-05-11",
           "杨浦区"
          ],
          [
           "四平路1028弄",
           "2022-05-11",
           "杨浦区"
          ],
          [
           "四平路1230号",
           "2022-05-11",
           "杨浦区"
          ],
          [
           "四平路2100弄",
           "2022-05-11",
           "杨浦区"
          ],
          [
           "铁岭路50弄",
           "2022-05-11",
           "杨浦区"
          ],
          [
           "同济新村",
           "2022-05-11",
           "杨浦区"
          ],
          [
           "翔殷路300弄",
           "2022-05-11",
           "杨浦区"
          ],
          [
           "延吉东路130弄",
           "2022-05-11",
           "杨浦区"
          ],
          [
           "延吉东路131弄",
           "2022-05-11",
           "杨浦区"
          ],
          [
           "延吉东路137弄",
           "2022-05-11",
           "杨浦区"
          ],
          [
           "延吉东路149弄",
           "2022-05-11",
           "杨浦区"
          ],
          [
           "延吉东路315弄",
           "2022-05-11",
           "杨浦区"
          ],
          [
           "延吉中路117弄",
           "2022-05-11",
           "杨浦区"
          ],
          [
           "延吉中路95号",
           "2022-05-11",
           "杨浦区"
          ],
          [
           "永吉路97弄",
           "2022-05-11",
           "杨浦区"
          ],
          [
           "闸殷路60弄",
           "2022-05-11",
           "杨浦区"
          ],
          [
           "彰武路120弄",
           "2022-05-11",
           "杨浦区"
          ],
          [
           "政民路200弄",
           "2022-05-11",
           "杨浦区"
          ],
          [
           "政肃路95弄",
           "2022-05-11",
           "杨浦区"
          ],
          [
           "政通路118弄",
           "2022-05-11",
           "杨浦区"
          ],
          [
           "政学路39号",
           "2022-05-11",
           "杨浦区"
          ],
          [
           "周家嘴路1299弄",
           "2022-05-11",
           "杨浦区"
          ],
          [
           "昆阳路3251弄",
           "2022-05-11",
           "闵行区"
          ],
          [
           "黎明路155弄",
           "2022-05-11",
           "闵行区"
          ],
          [
           "闵驰一路208弄",
           "2022-05-11",
           "闵行区"
          ],
          [
           "水清路1000弄",
           "2022-05-11",
           "闵行区"
          ],
          [
           "珠城路99弄",
           "2022-05-11",
           "闵行区"
          ],
          [
           "安智路2015号",
           "2022-05-11",
           "嘉定区"
          ],
          [
           "樊家村",
           "2022-05-11",
           "嘉定区"
          ],
          [
           "合作路719弄",
           "2022-05-11",
           "嘉定区"
          ],
          [
           "沪宜公路185号",
           "2022-05-11",
           "嘉定区"
          ],
          [
           "汇通路25号",
           "2022-05-11",
           "嘉定区"
          ],
          [
           "嘉峪关路379弄",
           "2022-05-11",
           "嘉定区"
          ],
          [
           "民主街500弄",
           "2022-05-11",
           "嘉定区"
          ],
          [
           "墨玉路362弄",
           "2022-05-11",
           "嘉定区"
          ],
          [
           "曲江路15弄",
           "2022-05-11",
           "嘉定区"
          ],
          [
           "星火村",
           "2022-05-11",
           "嘉定区"
          ],
          [
           "九新公路33弄",
           "2022-05-11",
           "松江区"
          ],
          [
           "涞泾路328弄",
           "2022-05-11",
           "松江区"
          ],
          [
           "明中路1800弄",
           "2022-05-11",
           "松江区"
          ],
          [
           "影振路299弄",
           "2022-05-11",
           "松江区"
          ],
          [
           "中山二路182弄",
           "2022-05-11",
           "松江区"
          ],
          [
           "光联村",
           "2022-05-11",
           "青浦区"
          ],
          [
           "龙联路58弄",
           "2022-05-11",
           "青浦区"
          ],
          [
           "龙联路59弄",
           "2022-05-11",
           "青浦区"
          ],
          [
           "明珠路785弄",
           "2022-05-11",
           "青浦区"
          ],
          [
           "清河湾路699弄",
           "2022-05-11",
           "青浦区"
          ],
          [
           "胜利路738号",
           "2022-05-11",
           "青浦区"
          ],
          [
           "崧泽大道333号",
           "2022-05-11",
           "青浦区"
          ],
          [
           "徐灵路200弄",
           "2022-05-11",
           "青浦区"
          ],
          [
           "徐灵路300弄",
           "2022-05-11",
           "青浦区"
          ],
          [
           "蒸夏路",
           "2022-05-11",
           "青浦区"
          ],
          [
           "诸光路1355弄",
           "2022-05-11",
           "青浦区"
          ],
          [
           "诸光路498号",
           "2022-05-11",
           "青浦区"
          ],
          [
           "诸光路85弄",
           "2022-05-11",
           "青浦区"
          ],
          [
           "花博园北P3保障点",
           "2022-05-11",
           "崇明区"
          ],
          [
           "大通路388号",
           "2022-05-11",
           "崇明区"
          ],
          [
           "层海路集中疏散点",
           "2022-05-11",
           "崇明区"
          ]
         ],
         "hovertemplate": "<b>%{hovertext}</b><br><br>lats=%{lat}<br>lons=%{lon}<br>address=%{customdata[0]}<br>date=%{customdata[1]}<br>district=%{customdata[2]}<extra></extra>",
         "hovertext": [
          "北蔡镇南新村吴家宅",
          "北蔡镇卫行村",
          "北蔡镇五星村陈家队奚家宅",
          "北蔡镇御桥村印家队东印家圈",
          "北蔡镇中界村陆家队陆家宅",
          "博山东路20弄",
          "博山路11弄",
          "长岛路1267弄",
          "长清路693弄",
          "昌里路340弄",
          "陈春路620弄",
          "成山路24弄",
          "成山路668弄",
          "德平路1125弄",
          "峨山路605弄",
          "繁锦路688弄",
          "芳华路371弄",
          "芳华路63号",
          "高科西路2763弄",
          "高桥镇陆凌村瞿家宅",
          "高桥镇西浜头",
          "高青路4567弄",
          "崮山路968号",
          "海纳路129弄",
          "航头路988弄",
          "航头镇航东村航头",
          "合庆镇向东村马家宅",
          "和炯路77弄",
          "鹤永路751弄",
          "沪南路2688弄",
          "环桥路1137弄",
          "季景北路286弄",
          "济阳路65弄",
          "佳林路959号",
          "金海路华谐路交界口工地生活区",
          "金桥路1504弄",
          "金桥路2552弄",
          "金桥路2618号",
          "金湘路201弄",
          "金杨路660弄",
          "康桥路90弄",
          "科农路99弄",
          "崂山三村",
          "崂山四村",
          "历城路100弄",
          "林展路267弄",
          "林展路278弄",
          "灵山路1724弄",
          "灵岩南路156弄",
          "凌兆路127弄",
          "龙居路180弄",
          "南码头路1675弄",
          "浦东大道136弄",
          "浦东大道140弄",
          "浦东大道1851弄",
          "浦东大道2639弄",
          "浦东大道2742弄",
          "浦东南路1700弄",
          "浦三路5127弄",
          "乳山路161弄",
          "瑞阳路81弄",
          "三林路200号",
          "三林镇胡巷村金家宅",
          "三林镇胡巷村吴家宅",
          "三林镇天花庵村北陈队大陈家宅",
          "三林镇天花庵村东瞿队大瞿家宅",
          "三林镇西林村圈门队西林街",
          "三林镇新任村",
          "上南路4265弄",
          "世博家园大道站路94弄",
          "思浦路17弄",
          "台儿庄路363弄",
          "五莲路108弄",
          "西泰林路901弄",
          "西营路33弄",
          "下南路370弄",
          "下南路500弄",
          "新场镇蒋桥村",
          "新场镇坦西村坦北",
          "新浦路543弄",
          "新浦路629弄",
          "秀沿路2585弄",
          "秀沿路2875弄",
          "严桥路150弄",
          "杨新路20弄",
          "杨新路80弄",
          "耀华路414弄",
          "耀华路500弄",
          "懿行路971弄",
          "银山路370弄",
          "永泰路2079弄",
          "韵涛路36弄",
          "枣庄路210弄",
          "枣庄路212弄",
          "张杨北路512弄",
          "赵高公路958号",
          "紫叶路81弄",
          "邹平路191号工地生活区",
          "半淞园路650号",
          "保屯路211弄",
          "成都北路262弄",
          "长乐路79号",
          "重庆北路177弄",
          "重庆南路205弄",
          "打浦路316弄",
          "打浦路470弄",
          "大夫坊95弄",
          "大沽路159号",
          "大林路43弄",
          "淡水路214弄",
          "淡水路216号",
          "淡水路225弄",
          "淡水路228号",
          "方斜路409号",
          "福建中路195弄",
          "福建中路225号",
          "福州路384弄",
          "福州路614弄",
          "复兴东路404弄",
          "牯岭路172号",
          "广西北路200号",
          "海潮路93弄",
          "海口路9号",
          "海南西弄93号",
          "河南南路1001弄",
          "河南中路575弄",
          "淮海中路526弄",
          "淮海中路899弄",
          "淮海中路925弄",
          "黄河路215弄",
          "黄河路239号",
          "黄河路253弄",
          "黄河路261号",
          "黄河路281弄",
          "黄河路288号",
          "黄家阙路68弄",
          "建国东路115弄",
          "建国东路143弄",
          "建国东路61弄",
          "建国西路91弄",
          "江滨路258号",
          "江西中路412弄",
          "江西中路44弄",
          "江阴街401弄",
          "进贤路138弄",
          "聚奎新村",
          "丽园路1016弄",
          "丽园路502号",
          "丽园路883号",
          "柳市路1弄",
          "龙华东路888弄",
          "鲁班路509弄",
          "陆家浜路1256弄",
          "陆家浜路413弄",
          "陆家浜路468弄",
          "陆家浜路688弄",
          "马当路278弄",
          "蒙自路345弄",
          "蒙自路601弄",
          "面筋弄29号",
          "南昌路246号",
          "南车站路169弄",
          "南车站路438号",
          "南京东路600号",
          "南京西路461号",
          "宁波路540号",
          "宁波路601号",
          "平望街36弄",
          "普育东路101弄",
          "普育东路200弄",
          "普育东路230号",
          "瞿溪路1072弄",
          "瞿溪路117号",
          "瞿溪路1200弄",
          "瞿溪路120弄",
          "瞿溪路122号",
          "瞿溪路1240弄",
          "瞿溪路124号",
          "瞿溪路1254弄",
          "瞿溪路129号",
          "瞿溪路564号",
          "瞿溪路566号",
          "瞿溪路804号",
          "瞿溪路883弄",
          "瞿溪路904弄",
          "瞿溪路937弄",
          "汝南街76号",
          "瑞金二路52弄",
          "瑞金二路70弄",
          "瑞金南路1号",
          "瑞金南路333弄",
          "顺昌路487号",
          "顺昌路506号",
          "顺昌路594号",
          "四川中路627号",
          "四牌楼路71号",
          "泗泾路29号",
          "天津路170弄",
          "吾园街142号",
          "五里桥路235弄",
          "西藏南路1383弄",
          "西凌家宅路111弄",
          "西凌家宅路27弄",
          "斜土东路265弄",
          "斜土东路333弄",
          "斜土路330弄",
          "斜土路530号",
          "斜土路80弄",
          "新昌路288号",
          "新昌路310弄",
          "新昌路332号",
          "兴安路141弄",
          "学院路70号",
          "学院路79弄",
          "巡道街21号",
          "巡道街8号",
          "延安东路1292弄",
          "浙江中路118弄",
          "制造局路365弄",
          "制造局路370弄",
          "制造局路455弄",
          "制造局路529号",
          "制造局路567弄",
          "中山南路1669弄",
          "中山南路1726弄",
          "中山南路891号",
          "中山南一路1043弄",
          "中山南一路198弄",
          "中山南一路247弄",
          "中山南一路904号",
          "庄家街34号",
          "自忠路428号",
          "宝山路499弄",
          "宝山路581号",
          "宝通路210号",
          "宝源路209弄",
          "保德路241弄",
          "昌平路421弄",
          "昌平路999弄",
          "常德路545弄",
          "常德路633弄",
          "长乐路638弄",
          "长临路200弄",
          "场中路2155弄",
          "场中路2965弄",
          "大统路933弄",
          "共和新路1304弄",
          "共和新路3616弄",
          "共和新路619弄",
          "共和新路655弄",
          "共和新路966号",
          "广延路350弄",
          "海防路223弄",
          "海防路338弄",
          "汉中路18号",
          "汉中路28弄",
          "汉中路78弄",
          "沪太路1051弄",
          "沪太路549号",
          "沪太路651弄",
          "胶州路565弄",
          "康定路864号",
          "老沪太路1291弄",
          "老沪太路250弄",
          "临汾路99弄",
          "临山路186号",
          "灵石路666弄",
          "柳营路1025弄",
          "柳营路319弄",
          "洛川中路1100弄",
          "毛家弄78号",
          "南京西路591弄",
          "平型关路121弄",
          "平型关路305弄",
          "普善路铁路新村17号",
          "普善路铁路新村21号",
          "普善路铁路新村23号",
          "青云路315弄",
          "虬江路1258弄",
          "虬江路860号",
          "三泉路821弄",
          "陕西北路581号",
          "陕西北路835弄",
          "陕西北路900号",
          "谈家桥路85弄",
          "天目中路749弄",
          "通阁路181号",
          "万航渡路463号",
          "闻喜路590号",
          "闻喜路935弄",
          "西宝兴路922弄",
          "西藏北路853弄",
          "西康路786弄",
          "西康路894弄",
          "襄阳北路44弄",
          "延平路230弄",
          "延平路340弄",
          "延长中路800弄",
          "余姚路19号",
          "余姚路321弄",
          "俞泾港路15弄",
          "愚园路488弄",
          "止园路320弄",
          "芷江西路123弄",
          "芷江西路285弄",
          "芷江西路393弄",
          "芷江中路413弄",
          "芷江中路495弄",
          "芷江中路531弄",
          "中华新路487号",
          "中华新路706号",
          "中华新路730弄",
          "中华新路893弄",
          "中华新路939弄",
          "中山北路1038号",
          "中山北路255弄",
          "中山北路814弄",
          "中兴路1321弄",
          "中兴路1340弄",
          "苍梧路468弄",
          "东安路452号",
          "东安五村",
          "东安一村",
          "复兴中路1199号",
          "复兴中路1315弄",
          "淮海西路343号",
          "建国西路316弄",
          "凯旋路2120弄",
          "零陵路639号",
          "龙华路2381弄",
          "龙华路3208弄",
          "龙华西路21弄",
          "龙华西路31弄",
          "罗秀路717弄",
          "南丹路333弄",
          "宛平南路968弄",
          "乌鲁木齐南路75弄",
          "小木桥路101弄",
          "小木桥路360弄",
          "徐虹北路18弄",
          "中山南二路918弄",
          "中山西路2020号",
          "曹杨二村",
          "昌化路994弄",
          "古浪路518弄",
          "黄陵路200弄",
          "交通路1913弄",
          "交通路3193弄",
          "交通西路188弄",
          "礼泉路305弄",
          "礼泉路700弄",
          "怒江北路219弄",
          "普陀四村",
          "铜川路346弄",
          "香泉路85弄",
          "新村路170弄",
          "旬阳新村",
          "真如西村",
          "安图新村",
          "鞍山路63号",
          "鞍山三村",
          "长白三村",
          "长阳路1220弄",
          "长阳路2000号",
          "长阳路2080号",
          "大连西路4弄",
          "凤城三村",
          "阜新路169弄",
          "工农四村",
          "贵阳路422号",
          "国权北路17号",
          "国权后路19号",
          "国伟路300号",
          "国伟路58弄",
          "江浦路1275弄",
          "江浦路1315弄",
          "江浦路1424弄",
          "靖宇东路58弄",
          "军工路516号",
          "开鲁四村",
          "控江二村",
          "控江路128弄",
          "控江路2202号",
          "控江路645弄",
          "控江路740弄",
          "控江路764弄",
          "控江路802弄",
          "控江路888弄",
          "控江七村",
          "隆昌路718弄",
          "内江二村",
          "内江路222弄",
          "内江路476弄",
          "宁国路438弄",
          "平凉路1545弄",
          "平凉路1909号",
          "三门路358弄",
          "市光二村",
          "市光三村",
          "双辽路200弄",
          "双辽支路60弄",
          "双阳北路395弄",
          "双阳路68弄",
          "四平路1028弄",
          "四平路1230号",
          "四平路2100弄",
          "铁岭路50弄",
          "同济新村",
          "翔殷路300弄",
          "延吉东路130弄",
          "延吉东路131弄",
          "延吉东路137弄",
          "延吉东路149弄",
          "延吉东路315弄",
          "延吉中路117弄",
          "延吉中路95号",
          "永吉路97弄",
          "闸殷路60弄",
          "彰武路120弄",
          "政民路200弄",
          "政肃路95弄",
          "政通路118弄",
          "政学路39号",
          "周家嘴路1299弄",
          "昆阳路3251弄",
          "黎明路155弄",
          "闵驰一路208弄",
          "水清路1000弄",
          "珠城路99弄",
          "安智路2015号",
          "樊家村",
          "合作路719弄",
          "沪宜公路185号",
          "汇通路25号",
          "嘉峪关路379弄",
          "民主街500弄",
          "墨玉路362弄",
          "曲江路15弄",
          "星火村",
          "九新公路33弄",
          "涞泾路328弄",
          "明中路1800弄",
          "影振路299弄",
          "中山二路182弄",
          "光联村",
          "龙联路58弄",
          "龙联路59弄",
          "明珠路785弄",
          "清河湾路699弄",
          "胜利路738号",
          "崧泽大道333号",
          "徐灵路200弄",
          "徐灵路300弄",
          "蒸夏路",
          "诸光路1355弄",
          "诸光路498号",
          "诸光路85弄",
          "花博园北P3保障点",
          "大通路388号",
          "层海路集中疏散点"
         ],
         "lat": [
          31.166024,
          31.164888,
          31.156231,
          31.168008,
          31.189333,
          31.245715,
          31.244754,
          31.262167,
          31.157702,
          31.173465,
          31.173033,
          31.167477,
          31.17049,
          31.242135,
          31.215101,
          31.314649,
          31.196189,
          31.194284,
          31.190903,
          31.028049,
          31.341824,
          31.171796,
          31.235106,
          31.292052,
          31.037139,
          31.027272,
          31.233344,
          31.120729,
          31.071962,
          31.137251,
          31.135988,
          31.342785,
          31.167125,
          31.26476,
          31.266549,
          31.249353,
          31.234305,
          31.233278,
          31.256042,
          31.251365,
          31.148625,
          31.172759,
          31.234973,
          31.033059,
          31.174652,
          31.128081,
          31.127371,
          31.239233,
          31.15926,
          31.142502,
          31.252291,
          31.175555,
          31.237854,
          31.238995,
          31.247485,
          31.264496,
          31.266513,
          31.217397,
          31.194141,
          31.235696,
          31.099186,
          31.136573,
          31.153024,
          31.153024,
          31.124551,
          31.122769,
          31.134131,
          31.156377,
          31.144811,
          31.158611,
          31.158408,
          31.258958,
          31.277821,
          31.143324,
          31.17093,
          31.168997,
          31.171908,
          31.047168,
          31.079024,
          31.16978,
          31.169812,
          31.138128,
          31.13811,
          31.189416,
          31.164849,
          31.164221,
          31.172881,
          31.171864,
          31.126406,
          31.245383,
          31.150552,
          31.341112,
          31.256854,
          31.257073,
          31.264841,
          31.311896,
          31.183365,
          31.170622,
          31.19866,
          31.204195,
          31.228725,
          31.221999,
          31.226355,
          31.214804,
          31.2,
          31.197153,
          31.225675,
          31.226224,
          31.213807,
          31.217299,
          31.217315,
          31.216915,
          31.217187,
          31.214518,
          31.233681,
          31.234301,
          31.234521,
          31.23294,
          31.22142,
          31.235959,
          31.23268,
          31.210443,
          31.231319,
          31.21113,
          31.213738,
          31.239889,
          31.221279,
          31.216857,
          31.216595,
          31.236549,
          31.236902,
          31.237035,
          31.236941,
          31.237082,
          31.237691,
          31.215193,
          31.212923,
          31.21235,
          31.213129,
          31.206741,
          31.191421,
          31.241597,
          31.232672,
          31.213356,
          31.222118,
          31.223319,
          31.205425,
          31.207481,
          31.206607,
          31.213386,
          31.192852,
          31.201376,
          31.211234,
          31.211931,
          31.210448,
          31.211842,
          31.21732,
          31.203383,
          31.199836,
          31.220674,
          31.217839,
          31.208267,
          31.205412,
          31.235862,
          31.230798,
          31.236933,
          31.236565,
          31.232049,
          31.20984,
          31.207939,
          31.207752,
          31.197616,
          31.206888,
          31.196166,
          31.206897,
          31.20634,
          31.197625,
          31.206269,
          31.197232,
          31.206155,
          31.201505,
          31.201511,
          31.200832,
          31.201069,
          31.199953,
          31.200753,
          31.202654,
          31.215942,
          31.215493,
          31.204818,
          31.198135,
          31.213166,
          31.212783,
          31.211293,
          31.242423,
          31.22432,
          31.233148,
          31.238767,
          31.217519,
          31.203821,
          31.205591,
          31.204292,
          31.204671,
          31.207836,
          31.20736,
          31.204254,
          31.203108,
          31.206115,
          31.235807,
          31.23634,
          31.236427,
          31.220986,
          31.223151,
          31.223567,
          31.220643,
          31.220893,
          31.225502,
          31.23193,
          31.205486,
          31.205536,
          31.204846,
          31.203871,
          31.203569,
          31.204735,
          31.204479,
          31.21289,
          31.196069,
          31.199796,
          31.200766,
          31.196305,
          31.220483,
          31.217968,
          31.257829,
          31.259047,
          31.256135,
          31.256966,
          31.31729,
          31.235685,
          31.232315,
          31.230194,
          31.23057,
          31.218968,
          31.312861,
          31.302462,
          31.30606,
          31.255,
          31.263802,
          31.303477,
          31.254367,
          31.254949,
          31.259188,
          31.276102,
          31.239228,
          31.238791,
          31.243634,
          31.243237,
          31.242999,
          31.276951,
          31.256999,
          31.26097,
          31.232852,
          31.231131,
          31.269762,
          31.267079,
          31.310179,
          31.254817,
          31.28186,
          31.262327,
          31.269197,
          31.262327,
          31.256458,
          31.230717,
          31.275652,
          31.270615,
          31.255907,
          31.256196,
          31.256279,
          31.264064,
          31.249939,
          31.25209,
          31.315956,
          31.232356,
          31.23576,
          31.236796,
          31.259949,
          31.245985,
          31.260011,
          31.225182,
          31.308821,
          31.307597,
          31.269446,
          31.256113,
          31.237148,
          31.238755,
          31.21949,
          31.230425,
          31.232116,
          31.264061,
          31.236038,
          31.234995,
          31.266444,
          31.2225,
          31.258439,
          31.259435,
          31.257666,
          31.257933,
          31.259762,
          31.259863,
          31.258489,
          31.253814,
          31.253546,
          31.253388,
          31.254875,
          31.254744,
          31.258183,
          31.266497,
          31.259257,
          31.25333,
          31.252115,
          31.178364,
          31.188673,
          31.184403,
          31.18792,
          31.212626,
          31.21164,
          31.197047,
          31.205511,
          31.191079,
          31.187591,
          31.181331,
          31.169168,
          31.167273,
          31.169994,
          31.131225,
          31.190707,
          31.18209,
          31.20564,
          31.201865,
          31.19485,
          31.188617,
          31.184035,
          31.182031,
          31.24243,
          31.245903,
          31.285659,
          31.264746,
          31.256573,
          31.262027,
          31.257332,
          31.255582,
          31.25416,
          31.235388,
          31.235454,
          31.252699,
          31.263875,
          31.266216,
          31.252549,
          31.247734,
          31.289662,
          31.275325,
          31.278185,
          31.288741,
          31.265673,
          31.271833,
          31.272503,
          31.276289,
          31.281809,
          31.277021,
          31.320646,
          31.272491,
          31.309386,
          31.289469,
          31.332156,
          31.331633,
          31.270829,
          31.271158,
          31.273812,
          31.293031,
          31.292073,
          31.325903,
          31.280265,
          31.288854,
          31.272569,
          31.284295,
          31.284843,
          31.283947,
          31.28323,
          31.282489,
          31.282514,
          31.283713,
          31.284665,
          31.279513,
          31.285886,
          31.267391,
          31.266482,
          31.269779,
          31.309728,
          31.316532,
          31.317616,
          31.270418,
          31.269909,
          31.298484,
          31.272558,
          31.277613,
          31.278771,
          31.293447,
          31.279076,
          31.283395,
          31.309141,
          31.292262,
          31.29363,
          31.292514,
          31.287644,
          31.289543,
          31.283924,
          31.28404,
          31.284029,
          31.336249,
          31.283156,
          31.302656,
          31.293975,
          31.304283,
          31.306242,
          31.263736,
          31.021796,
          31.129158,
          31.040451,
          31.126032,
          31.103497,
          31.262036,
          31.340798,
          31.335254,
          31.28991,
          31.070464,
          31.271325,
          31.287556,
          31.299394,
          31.255471,
          31.080769,
          31.135209,
          31.113458,
          31.073994,
          31.005225,
          31.01026,
          31.165268,
          31.198151,
          31.196163,
          31.179497,
          31.168397,
          31.170589,
          31.189984,
          31.199394,
          31.198543,
          30.996727,
          31.18335,
          31.166188,
          31.159411,
          31.046774,
          31.545925,
          31.482258
         ],
         "legendgroup": "",
         "lon": [
          121.543294,
          121.581392,
          121.550453,
          121.558022,
          121.567958,
          121.560013,
          121.55901,
          121.594192,
          121.491042,
          121.491933,
          121.546478,
          121.487151,
          121.513213,
          121.568479,
          121.521407,
          121.586405,
          121.557784,
          121.551825,
          121.554636,
          121.808693,
          121.58241,
          121.562321,
          121.561694,
          121.670327,
          121.600383,
          121.590554,
          121.743897,
          121.501064,
          121.604858,
          121.566651,
          121.602255,
          121.583065,
          121.480734,
          121.61232,
          121.658956,
          121.589386,
          121.601672,
          121.604362,
          121.612833,
          121.581693,
          121.565132,
          121.64303,
          121.518632,
          121.139543,
          121.492379,
          121.507403,
          121.50587,
          121.56925,
          121.494344,
          121.492416,
          121.5631,
          121.514545,
          121.51481,
          121.515116,
          121.54482,
          121.568316,
          121.572105,
          121.518486,
          121.51365,
          121.52167,
          121.586537,
          121.496372,
          121.518334,
          121.518334,
          121.520595,
          121.534302,
          121.496858,
          121.496519,
          121.510698,
          121.539231,
          121.493107,
          121.594088,
          121.598898,
          121.53861,
          121.48409,
          121.54057,
          121.537641,
          121.661042,
          121.630117,
          121.53039,
          121.530726,
          121.604331,
          121.612972,
          121.527587,
          121.496323,
          121.492901,
          121.486355,
          121.482347,
          121.513969,
          121.58375,
          121.540728,
          121.283066,
          121.571018,
          121.571893,
          121.589721,
          121.629995,
          121.551123,
          121.515008,
          121.494751,
          121.492823,
          121.468184,
          121.468429,
          121.469074,
          121.472121,
          121.4712,
          121.472656,
          121.480513,
          121.471119,
          121.487467,
          121.472414,
          121.473143,
          121.473523,
          121.473172,
          121.483378,
          121.481047,
          121.48103,
          121.482857,
          121.478802,
          121.49661,
          121.470603,
          121.478137,
          121.499306,
          121.480931,
          121.496627,
          121.495237,
          121.48478,
          121.469173,
          121.460473,
          121.460308,
          121.46886,
          121.469426,
          121.468954,
          121.469203,
          121.468602,
          121.469512,
          121.487196,
          121.478778,
          121.479159,
          121.479843,
          121.464514,
          121.47164,
          121.485698,
          121.488078,
          121.48841,
          121.459534,
          121.496233,
          121.47224,
          121.48203,
          121.475289,
          121.499212,
          121.471105,
          121.478394,
          121.485126,
          121.499154,
          121.496262,
          121.49461,
          121.474068,
          121.479028,
          121.481454,
          121.49845,
          121.464763,
          121.491921,
          121.49316,
          121.479071,
          121.468201,
          121.477241,
          121.476229,
          121.479269,
          121.496278,
          121.495667,
          121.495645,
          121.47451,
          121.49522,
          121.471223,
          121.495698,
          121.494457,
          121.470715,
          121.494314,
          121.470572,
          121.493777,
          121.485911,
          121.485906,
          121.481193,
          121.478613,
          121.479331,
          121.478169,
          121.484098,
          121.464185,
          121.463989,
          121.468082,
          121.469078,
          121.47942,
          121.479233,
          121.479553,
          121.486074,
          121.495469,
          121.486413,
          121.483,
          121.490939,
          121.480045,
          121.488386,
          121.486254,
          121.48723,
          121.486555,
          121.485712,
          121.478896,
          121.476311,
          121.482963,
          121.468352,
          121.468318,
          121.467954,
          121.470785,
          121.495971,
          121.49584,
          121.497524,
          121.497416,
          121.471068,
          121.479987,
          121.484989,
          121.483618,
          121.484772,
          121.484826,
          121.485503,
          121.495179,
          121.493559,
          121.506415,
          121.47266,
          121.488759,
          121.486427,
          121.47552,
          121.488413,
          121.47265,
          121.478172,
          121.478249,
          121.478081,
          121.480094,
          121.463582,
          121.447178,
          121.437499,
          121.445843,
          121.444306,
          121.454248,
          121.434893,
          121.41794,
          121.436715,
          121.459594,
          121.458861,
          121.448343,
          121.464905,
          121.464125,
          121.461966,
          121.455327,
          121.449026,
          121.446519,
          121.460009,
          121.45988,
          121.459136,
          121.429618,
          121.450749,
          121.448774,
          121.440563,
          121.440751,
          121.441767,
          121.452069,
          121.466135,
          121.473754,
          121.445675,
          121.451029,
          121.46183,
          121.451029,
          121.452458,
          121.465703,
          121.46033,
          121.466354,
          121.454743,
          121.452876,
          121.453125,
          121.472748,
          121.468791,
          121.476179,
          121.439049,
          121.451846,
          121.44861,
          121.448004,
          121.453112,
          121.461127,
          121.470504,
          121.435683,
          121.456589,
          121.448145,
          121.46774,
          121.466606,
          121.444428,
          121.443432,
          121.45476,
          121.440101,
          121.438832,
          121.446473,
          121.444096,
          121.438109,
          121.464451,
          121.43894,
          121.469343,
          121.465367,
          121.461234,
          121.457444,
          121.470424,
          121.471421,
          121.468426,
          121.464815,
          121.460295,
          121.459917,
          121.456916,
          121.455049,
          121.451217,
          121.469161,
          121.457964,
          121.461833,
          121.461111,
          121.411116,
          121.455513,
          121.452654,
          121.458485,
          121.458861,
          121.45494,
          121.425294,
          121.457448,
          121.424728,
          121.446065,
          121.452142,
          121.446755,
          121.448802,
          121.45013,
          121.434876,
          121.430627,
          121.452351,
          121.448984,
          121.457998,
          121.45969,
          121.428403,
          121.448447,
          121.427087,
          121.40356,
          121.445781,
          121.384116,
          121.428995,
          121.440005,
          121.412366,
          121.448555,
          121.414921,
          121.407489,
          121.394334,
          121.415727,
          121.413451,
          121.410871,
          121.439623,
          121.424334,
          121.401488,
          121.539971,
          121.512486,
          121.512775,
          121.539052,
          121.526587,
          121.540418,
          121.541184,
          121.499603,
          121.521856,
          121.506143,
          121.537694,
          121.552103,
          121.496373,
          121.504976,
          121.533244,
          121.537608,
          121.519799,
          121.519113,
          121.519296,
          121.541338,
          121.552151,
          121.530451,
          121.52608,
          121.545014,
          121.507846,
          121.540114,
          121.538882,
          121.536901,
          121.536717,
          121.535189,
          121.531742,
          121.537367,
          121.543483,
          121.547673,
          121.545358,
          121.535452,
          121.5389,
          121.545219,
          121.492738,
          121.541396,
          121.536443,
          121.5182,
          121.51591,
          121.528043,
          121.537066,
          121.506692,
          121.504795,
          121.512913,
          121.513438,
          121.509848,
          121.540929,
          121.543387,
          121.544525,
          121.547034,
          121.539944,
          121.542889,
          121.536279,
          121.532252,
          121.533688,
          121.525659,
          121.513101,
          121.509338,
          121.505389,
          121.515767,
          121.510281,
          121.5102,
          121.364878,
          121.377701,
          121.542989,
          121.376316,
          121.386273,
          121.191387,
          121.292039,
          121.257607,
          121.316279,
          121.398815,
          121.31355,
          121.303989,
          121.162771,
          121.34885,
          121.768604,
          121.317369,
          121.341438,
          121.318989,
          121.309007,
          121.23115,
          121.315319,
          121.297212,
          121.298709,
          121.263849,
          121.096856,
          121.104254,
          121.302151,
          121.29436,
          121.292485,
          121.067035,
          121.299902,
          121.313757,
          121.319164,
          121.408857,
          121.617932,
          121.844648
         ],
         "marker": {
          "color": "#636efa"
         },
         "mode": "markers",
         "name": "",
         "showlegend": false,
         "subplot": "mapbox",
         "type": "scattermapbox"
        }
       ],
       "layout": {
        "annotations": [
         {
          "font": {
           "color": "red",
           "family": "Arial",
           "size": 12
          },
          "showarrow": false,
          "text": "2022年5月11日The author is not responsible for the boundaries on the map.",
          "x": 0,
          "y": 0
         }
        ],
        "legend": {
         "tracegroupgap": 0
        },
        "mapbox": {
         "accesstoken": "pk.eyJ1IjoiaHlkZXJwYW5nIiwiYSI6ImNsMG9scjg4ODFyanQzZWtjNmo4eGFnejIifQ.aG1jghcxkxmeN1xTYs6S9w",
         "center": {
          "lat": 31.22510969347826,
          "lon": 121.48199324347826
         },
         "domain": {
          "x": [
           0,
           1
          ],
          "y": [
           0,
           1
          ]
         },
         "zoom": 8
        },
        "template": {
         "data": {
          "bar": [
           {
            "error_x": {
             "color": "#2a3f5f"
            },
            "error_y": {
             "color": "#2a3f5f"
            },
            "marker": {
             "line": {
              "color": "#E5ECF6",
              "width": 0.5
             },
             "pattern": {
              "fillmode": "overlay",
              "size": 10,
              "solidity": 0.2
             }
            },
            "type": "bar"
           }
          ],
          "barpolar": [
           {
            "marker": {
             "line": {
              "color": "#E5ECF6",
              "width": 0.5
             },
             "pattern": {
              "fillmode": "overlay",
              "size": 10,
              "solidity": 0.2
             }
            },
            "type": "barpolar"
           }
          ],
          "carpet": [
           {
            "aaxis": {
             "endlinecolor": "#2a3f5f",
             "gridcolor": "white",
             "linecolor": "white",
             "minorgridcolor": "white",
             "startlinecolor": "#2a3f5f"
            },
            "baxis": {
             "endlinecolor": "#2a3f5f",
             "gridcolor": "white",
             "linecolor": "white",
             "minorgridcolor": "white",
             "startlinecolor": "#2a3f5f"
            },
            "type": "carpet"
           }
          ],
          "choropleth": [
           {
            "colorbar": {
             "outlinewidth": 0,
             "ticks": ""
            },
            "type": "choropleth"
           }
          ],
          "contour": [
           {
            "colorbar": {
             "outlinewidth": 0,
             "ticks": ""
            },
            "colorscale": [
             [
              0,
              "#0d0887"
             ],
             [
              0.1111111111111111,
              "#46039f"
             ],
             [
              0.2222222222222222,
              "#7201a8"
             ],
             [
              0.3333333333333333,
              "#9c179e"
             ],
             [
              0.4444444444444444,
              "#bd3786"
             ],
             [
              0.5555555555555556,
              "#d8576b"
             ],
             [
              0.6666666666666666,
              "#ed7953"
             ],
             [
              0.7777777777777778,
              "#fb9f3a"
             ],
             [
              0.8888888888888888,
              "#fdca26"
             ],
             [
              1,
              "#f0f921"
             ]
            ],
            "type": "contour"
           }
          ],
          "contourcarpet": [
           {
            "colorbar": {
             "outlinewidth": 0,
             "ticks": ""
            },
            "type": "contourcarpet"
           }
          ],
          "heatmap": [
           {
            "colorbar": {
             "outlinewidth": 0,
             "ticks": ""
            },
            "colorscale": [
             [
              0,
              "#0d0887"
             ],
             [
              0.1111111111111111,
              "#46039f"
             ],
             [
              0.2222222222222222,
              "#7201a8"
             ],
             [
              0.3333333333333333,
              "#9c179e"
             ],
             [
              0.4444444444444444,
              "#bd3786"
             ],
             [
              0.5555555555555556,
              "#d8576b"
             ],
             [
              0.6666666666666666,
              "#ed7953"
             ],
             [
              0.7777777777777778,
              "#fb9f3a"
             ],
             [
              0.8888888888888888,
              "#fdca26"
             ],
             [
              1,
              "#f0f921"
             ]
            ],
            "type": "heatmap"
           }
          ],
          "heatmapgl": [
           {
            "colorbar": {
             "outlinewidth": 0,
             "ticks": ""
            },
            "colorscale": [
             [
              0,
              "#0d0887"
             ],
             [
              0.1111111111111111,
              "#46039f"
             ],
             [
              0.2222222222222222,
              "#7201a8"
             ],
             [
              0.3333333333333333,
              "#9c179e"
             ],
             [
              0.4444444444444444,
              "#bd3786"
             ],
             [
              0.5555555555555556,
              "#d8576b"
             ],
             [
              0.6666666666666666,
              "#ed7953"
             ],
             [
              0.7777777777777778,
              "#fb9f3a"
             ],
             [
              0.8888888888888888,
              "#fdca26"
             ],
             [
              1,
              "#f0f921"
             ]
            ],
            "type": "heatmapgl"
           }
          ],
          "histogram": [
           {
            "marker": {
             "pattern": {
              "fillmode": "overlay",
              "size": 10,
              "solidity": 0.2
             }
            },
            "type": "histogram"
           }
          ],
          "histogram2d": [
           {
            "colorbar": {
             "outlinewidth": 0,
             "ticks": ""
            },
            "colorscale": [
             [
              0,
              "#0d0887"
             ],
             [
              0.1111111111111111,
              "#46039f"
             ],
             [
              0.2222222222222222,
              "#7201a8"
             ],
             [
              0.3333333333333333,
              "#9c179e"
             ],
             [
              0.4444444444444444,
              "#bd3786"
             ],
             [
              0.5555555555555556,
              "#d8576b"
             ],
             [
              0.6666666666666666,
              "#ed7953"
             ],
             [
              0.7777777777777778,
              "#fb9f3a"
             ],
             [
              0.8888888888888888,
              "#fdca26"
             ],
             [
              1,
              "#f0f921"
             ]
            ],
            "type": "histogram2d"
           }
          ],
          "histogram2dcontour": [
           {
            "colorbar": {
             "outlinewidth": 0,
             "ticks": ""
            },
            "colorscale": [
             [
              0,
              "#0d0887"
             ],
             [
              0.1111111111111111,
              "#46039f"
             ],
             [
              0.2222222222222222,
              "#7201a8"
             ],
             [
              0.3333333333333333,
              "#9c179e"
             ],
             [
              0.4444444444444444,
              "#bd3786"
             ],
             [
              0.5555555555555556,
              "#d8576b"
             ],
             [
              0.6666666666666666,
              "#ed7953"
             ],
             [
              0.7777777777777778,
              "#fb9f3a"
             ],
             [
              0.8888888888888888,
              "#fdca26"
             ],
             [
              1,
              "#f0f921"
             ]
            ],
            "type": "histogram2dcontour"
           }
          ],
          "mesh3d": [
           {
            "colorbar": {
             "outlinewidth": 0,
             "ticks": ""
            },
            "type": "mesh3d"
           }
          ],
          "parcoords": [
           {
            "line": {
             "colorbar": {
              "outlinewidth": 0,
              "ticks": ""
             }
            },
            "type": "parcoords"
           }
          ],
          "pie": [
           {
            "automargin": true,
            "type": "pie"
           }
          ],
          "scatter": [
           {
            "fillpattern": {
             "fillmode": "overlay",
             "size": 10,
             "solidity": 0.2
            },
            "type": "scatter"
           }
          ],
          "scatter3d": [
           {
            "line": {
             "colorbar": {
              "outlinewidth": 0,
              "ticks": ""
             }
            },
            "marker": {
             "colorbar": {
              "outlinewidth": 0,
              "ticks": ""
             }
            },
            "type": "scatter3d"
           }
          ],
          "scattercarpet": [
           {
            "marker": {
             "colorbar": {
              "outlinewidth": 0,
              "ticks": ""
             }
            },
            "type": "scattercarpet"
           }
          ],
          "scattergeo": [
           {
            "marker": {
             "colorbar": {
              "outlinewidth": 0,
              "ticks": ""
             }
            },
            "type": "scattergeo"
           }
          ],
          "scattergl": [
           {
            "marker": {
             "colorbar": {
              "outlinewidth": 0,
              "ticks": ""
             }
            },
            "type": "scattergl"
           }
          ],
          "scattermapbox": [
           {
            "marker": {
             "colorbar": {
              "outlinewidth": 0,
              "ticks": ""
             }
            },
            "type": "scattermapbox"
           }
          ],
          "scatterpolar": [
           {
            "marker": {
             "colorbar": {
              "outlinewidth": 0,
              "ticks": ""
             }
            },
            "type": "scatterpolar"
           }
          ],
          "scatterpolargl": [
           {
            "marker": {
             "colorbar": {
              "outlinewidth": 0,
              "ticks": ""
             }
            },
            "type": "scatterpolargl"
           }
          ],
          "scatterternary": [
           {
            "marker": {
             "colorbar": {
              "outlinewidth": 0,
              "ticks": ""
             }
            },
            "type": "scatterternary"
           }
          ],
          "surface": [
           {
            "colorbar": {
             "outlinewidth": 0,
             "ticks": ""
            },
            "colorscale": [
             [
              0,
              "#0d0887"
             ],
             [
              0.1111111111111111,
              "#46039f"
             ],
             [
              0.2222222222222222,
              "#7201a8"
             ],
             [
              0.3333333333333333,
              "#9c179e"
             ],
             [
              0.4444444444444444,
              "#bd3786"
             ],
             [
              0.5555555555555556,
              "#d8576b"
             ],
             [
              0.6666666666666666,
              "#ed7953"
             ],
             [
              0.7777777777777778,
              "#fb9f3a"
             ],
             [
              0.8888888888888888,
              "#fdca26"
             ],
             [
              1,
              "#f0f921"
             ]
            ],
            "type": "surface"
           }
          ],
          "table": [
           {
            "cells": {
             "fill": {
              "color": "#EBF0F8"
             },
             "line": {
              "color": "white"
             }
            },
            "header": {
             "fill": {
              "color": "#C8D4E3"
             },
             "line": {
              "color": "white"
             }
            },
            "type": "table"
           }
          ]
         },
         "layout": {
          "annotationdefaults": {
           "arrowcolor": "#2a3f5f",
           "arrowhead": 0,
           "arrowwidth": 1
          },
          "autotypenumbers": "strict",
          "coloraxis": {
           "colorbar": {
            "outlinewidth": 0,
            "ticks": ""
           }
          },
          "colorscale": {
           "diverging": [
            [
             0,
             "#8e0152"
            ],
            [
             0.1,
             "#c51b7d"
            ],
            [
             0.2,
             "#de77ae"
            ],
            [
             0.3,
             "#f1b6da"
            ],
            [
             0.4,
             "#fde0ef"
            ],
            [
             0.5,
             "#f7f7f7"
            ],
            [
             0.6,
             "#e6f5d0"
            ],
            [
             0.7,
             "#b8e186"
            ],
            [
             0.8,
             "#7fbc41"
            ],
            [
             0.9,
             "#4d9221"
            ],
            [
             1,
             "#276419"
            ]
           ],
           "sequential": [
            [
             0,
             "#0d0887"
            ],
            [
             0.1111111111111111,
             "#46039f"
            ],
            [
             0.2222222222222222,
             "#7201a8"
            ],
            [
             0.3333333333333333,
             "#9c179e"
            ],
            [
             0.4444444444444444,
             "#bd3786"
            ],
            [
             0.5555555555555556,
             "#d8576b"
            ],
            [
             0.6666666666666666,
             "#ed7953"
            ],
            [
             0.7777777777777778,
             "#fb9f3a"
            ],
            [
             0.8888888888888888,
             "#fdca26"
            ],
            [
             1,
             "#f0f921"
            ]
           ],
           "sequentialminus": [
            [
             0,
             "#0d0887"
            ],
            [
             0.1111111111111111,
             "#46039f"
            ],
            [
             0.2222222222222222,
             "#7201a8"
            ],
            [
             0.3333333333333333,
             "#9c179e"
            ],
            [
             0.4444444444444444,
             "#bd3786"
            ],
            [
             0.5555555555555556,
             "#d8576b"
            ],
            [
             0.6666666666666666,
             "#ed7953"
            ],
            [
             0.7777777777777778,
             "#fb9f3a"
            ],
            [
             0.8888888888888888,
             "#fdca26"
            ],
            [
             1,
             "#f0f921"
            ]
           ]
          },
          "colorway": [
           "#636efa",
           "#EF553B",
           "#00cc96",
           "#ab63fa",
           "#FFA15A",
           "#19d3f3",
           "#FF6692",
           "#B6E880",
           "#FF97FF",
           "#FECB52"
          ],
          "font": {
           "color": "#2a3f5f"
          },
          "geo": {
           "bgcolor": "white",
           "lakecolor": "white",
           "landcolor": "#E5ECF6",
           "showlakes": true,
           "showland": true,
           "subunitcolor": "white"
          },
          "hoverlabel": {
           "align": "left"
          },
          "hovermode": "closest",
          "mapbox": {
           "style": "light"
          },
          "paper_bgcolor": "white",
          "plot_bgcolor": "#E5ECF6",
          "polar": {
           "angularaxis": {
            "gridcolor": "white",
            "linecolor": "white",
            "ticks": ""
           },
           "bgcolor": "#E5ECF6",
           "radialaxis": {
            "gridcolor": "white",
            "linecolor": "white",
            "ticks": ""
           }
          },
          "scene": {
           "xaxis": {
            "backgroundcolor": "#E5ECF6",
            "gridcolor": "white",
            "gridwidth": 2,
            "linecolor": "white",
            "showbackground": true,
            "ticks": "",
            "zerolinecolor": "white"
           },
           "yaxis": {
            "backgroundcolor": "#E5ECF6",
            "gridcolor": "white",
            "gridwidth": 2,
            "linecolor": "white",
            "showbackground": true,
            "ticks": "",
            "zerolinecolor": "white"
           },
           "zaxis": {
            "backgroundcolor": "#E5ECF6",
            "gridcolor": "white",
            "gridwidth": 2,
            "linecolor": "white",
            "showbackground": true,
            "ticks": "",
            "zerolinecolor": "white"
           }
          },
          "shapedefaults": {
           "line": {
            "color": "#2a3f5f"
           }
          },
          "ternary": {
           "aaxis": {
            "gridcolor": "white",
            "linecolor": "white",
            "ticks": ""
           },
           "baxis": {
            "gridcolor": "white",
            "linecolor": "white",
            "ticks": ""
           },
           "bgcolor": "#E5ECF6",
           "caxis": {
            "gridcolor": "white",
            "linecolor": "white",
            "ticks": ""
           }
          },
          "title": {
           "x": 0.05
          },
          "xaxis": {
           "automargin": true,
           "gridcolor": "white",
           "linecolor": "white",
           "ticks": "",
           "title": {
            "standoff": 15
           },
           "zerolinecolor": "white",
           "zerolinewidth": 2
          },
          "yaxis": {
           "automargin": true,
           "gridcolor": "white",
           "linecolor": "white",
           "ticks": "",
           "title": {
            "standoff": 15
           },
           "zerolinecolor": "white",
           "zerolinewidth": 2
          }
         }
        },
        "title": {
         "text": "Shanghai COVID Atlas"
        }
       }
      },
      "text/html": [
       "<div>                            <div id=\"0913f807-0dfa-4878-b66d-7bef8b6a3d8a\" class=\"plotly-graph-div\" style=\"height:525px; width:100%;\"></div>            <script type=\"text/javascript\">                require([\"plotly\"], function(Plotly) {                    window.PLOTLYENV=window.PLOTLYENV || {};                                    if (document.getElementById(\"0913f807-0dfa-4878-b66d-7bef8b6a3d8a\")) {                    Plotly.newPlot(                        \"0913f807-0dfa-4878-b66d-7bef8b6a3d8a\",                        [{\"customdata\":[[\"\\u5317\\u8521\\u9547\\u5357\\u65b0\\u6751\\u5434\\u5bb6\\u5b85\",\"2022-05-11\",\"\\u6d66\\u4e1c\\u65b0\\u533a\"],[\"\\u5317\\u8521\\u9547\\u536b\\u884c\\u6751\",\"2022-05-11\",\"\\u6d66\\u4e1c\\u65b0\\u533a\"],[\"\\u5317\\u8521\\u9547\\u4e94\\u661f\\u6751\\u9648\\u5bb6\\u961f\\u595a\\u5bb6\\u5b85\",\"2022-05-11\",\"\\u6d66\\u4e1c\\u65b0\\u533a\"],[\"\\u5317\\u8521\\u9547\\u5fa1\\u6865\\u6751\\u5370\\u5bb6\\u961f\\u4e1c\\u5370\\u5bb6\\u5708\",\"2022-05-11\",\"\\u6d66\\u4e1c\\u65b0\\u533a\"],[\"\\u5317\\u8521\\u9547\\u4e2d\\u754c\\u6751\\u9646\\u5bb6\\u961f\\u9646\\u5bb6\\u5b85\",\"2022-05-11\",\"\\u6d66\\u4e1c\\u65b0\\u533a\"],[\"\\u535a\\u5c71\\u4e1c\\u8def20\\u5f04\",\"2022-05-11\",\"\\u6d66\\u4e1c\\u65b0\\u533a\"],[\"\\u535a\\u5c71\\u8def11\\u5f04\",\"2022-05-11\",\"\\u6d66\\u4e1c\\u65b0\\u533a\"],[\"\\u957f\\u5c9b\\u8def1267\\u5f04\",\"2022-05-11\",\"\\u6d66\\u4e1c\\u65b0\\u533a\"],[\"\\u957f\\u6e05\\u8def693\\u5f04\",\"2022-05-11\",\"\\u6d66\\u4e1c\\u65b0\\u533a\"],[\"\\u660c\\u91cc\\u8def340\\u5f04\",\"2022-05-11\",\"\\u6d66\\u4e1c\\u65b0\\u533a\"],[\"\\u9648\\u6625\\u8def620\\u5f04\",\"2022-05-11\",\"\\u6d66\\u4e1c\\u65b0\\u533a\"],[\"\\u6210\\u5c71\\u8def24\\u5f04\",\"2022-05-11\",\"\\u6d66\\u4e1c\\u65b0\\u533a\"],[\"\\u6210\\u5c71\\u8def668\\u5f04\",\"2022-05-11\",\"\\u6d66\\u4e1c\\u65b0\\u533a\"],[\"\\u5fb7\\u5e73\\u8def1125\\u5f04\",\"2022-05-11\",\"\\u6d66\\u4e1c\\u65b0\\u533a\"],[\"\\u5ce8\\u5c71\\u8def605\\u5f04\",\"2022-05-11\",\"\\u6d66\\u4e1c\\u65b0\\u533a\"],[\"\\u7e41\\u9526\\u8def688\\u5f04\",\"2022-05-11\",\"\\u6d66\\u4e1c\\u65b0\\u533a\"],[\"\\u82b3\\u534e\\u8def371\\u5f04\",\"2022-05-11\",\"\\u6d66\\u4e1c\\u65b0\\u533a\"],[\"\\u82b3\\u534e\\u8def63\\u53f7\",\"2022-05-11\",\"\\u6d66\\u4e1c\\u65b0\\u533a\"],[\"\\u9ad8\\u79d1\\u897f\\u8def2763\\u5f04\",\"2022-05-11\",\"\\u6d66\\u4e1c\\u65b0\\u533a\"],[\"\\u9ad8\\u6865\\u9547\\u9646\\u51cc\\u6751\\u77bf\\u5bb6\\u5b85\",\"2022-05-11\",\"\\u6d66\\u4e1c\\u65b0\\u533a\"],[\"\\u9ad8\\u6865\\u9547\\u897f\\u6d5c\\u5934\",\"2022-05-11\",\"\\u6d66\\u4e1c\\u65b0\\u533a\"],[\"\\u9ad8\\u9752\\u8def4567\\u5f04\",\"2022-05-11\",\"\\u6d66\\u4e1c\\u65b0\\u533a\"],[\"\\u5d2e\\u5c71\\u8def968\\u53f7\",\"2022-05-11\",\"\\u6d66\\u4e1c\\u65b0\\u533a\"],[\"\\u6d77\\u7eb3\\u8def129\\u5f04\",\"2022-05-11\",\"\\u6d66\\u4e1c\\u65b0\\u533a\"],[\"\\u822a\\u5934\\u8def988\\u5f04\",\"2022-05-11\",\"\\u6d66\\u4e1c\\u65b0\\u533a\"],[\"\\u822a\\u5934\\u9547\\u822a\\u4e1c\\u6751\\u822a\\u5934\",\"2022-05-11\",\"\\u6d66\\u4e1c\\u65b0\\u533a\"],[\"\\u5408\\u5e86\\u9547\\u5411\\u4e1c\\u6751\\u9a6c\\u5bb6\\u5b85\",\"2022-05-11\",\"\\u6d66\\u4e1c\\u65b0\\u533a\"],[\"\\u548c\\u70af\\u8def77\\u5f04\",\"2022-05-11\",\"\\u6d66\\u4e1c\\u65b0\\u533a\"],[\"\\u9e64\\u6c38\\u8def751\\u5f04\",\"2022-05-11\",\"\\u6d66\\u4e1c\\u65b0\\u533a\"],[\"\\u6caa\\u5357\\u8def2688\\u5f04\",\"2022-05-11\",\"\\u6d66\\u4e1c\\u65b0\\u533a\"],[\"\\u73af\\u6865\\u8def1137\\u5f04\",\"2022-05-11\",\"\\u6d66\\u4e1c\\u65b0\\u533a\"],[\"\\u5b63\\u666f\\u5317\\u8def286\\u5f04\",\"2022-05-11\",\"\\u6d66\\u4e1c\\u65b0\\u533a\"],[\"\\u6d4e\\u9633\\u8def65\\u5f04\",\"2022-05-11\",\"\\u6d66\\u4e1c\\u65b0\\u533a\"],[\"\\u4f73\\u6797\\u8def959\\u53f7\",\"2022-05-11\",\"\\u6d66\\u4e1c\\u65b0\\u533a\"],[\"\\u91d1\\u6d77\\u8def\\u534e\\u8c10\\u8def\\u4ea4\\u754c\\u53e3\\u5de5\\u5730\\u751f\\u6d3b\\u533a\",\"2022-05-11\",\"\\u6d66\\u4e1c\\u65b0\\u533a\"],[\"\\u91d1\\u6865\\u8def1504\\u5f04\",\"2022-05-11\",\"\\u6d66\\u4e1c\\u65b0\\u533a\"],[\"\\u91d1\\u6865\\u8def2552\\u5f04\",\"2022-05-11\",\"\\u6d66\\u4e1c\\u65b0\\u533a\"],[\"\\u91d1\\u6865\\u8def2618\\u53f7\",\"2022-05-11\",\"\\u6d66\\u4e1c\\u65b0\\u533a\"],[\"\\u91d1\\u6e58\\u8def201\\u5f04\",\"2022-05-11\",\"\\u6d66\\u4e1c\\u65b0\\u533a\"],[\"\\u91d1\\u6768\\u8def660\\u5f04\",\"2022-05-11\",\"\\u6d66\\u4e1c\\u65b0\\u533a\"],[\"\\u5eb7\\u6865\\u8def90\\u5f04\",\"2022-05-11\",\"\\u6d66\\u4e1c\\u65b0\\u533a\"],[\"\\u79d1\\u519c\\u8def99\\u5f04\",\"2022-05-11\",\"\\u6d66\\u4e1c\\u65b0\\u533a\"],[\"\\u5d02\\u5c71\\u4e09\\u6751\",\"2022-05-11\",\"\\u6d66\\u4e1c\\u65b0\\u533a\"],[\"\\u5d02\\u5c71\\u56db\\u6751\",\"2022-05-11\",\"\\u6d66\\u4e1c\\u65b0\\u533a\"],[\"\\u5386\\u57ce\\u8def100\\u5f04\",\"2022-05-11\",\"\\u6d66\\u4e1c\\u65b0\\u533a\"],[\"\\u6797\\u5c55\\u8def267\\u5f04\",\"2022-05-11\",\"\\u6d66\\u4e1c\\u65b0\\u533a\"],[\"\\u6797\\u5c55\\u8def278\\u5f04\",\"2022-05-11\",\"\\u6d66\\u4e1c\\u65b0\\u533a\"],[\"\\u7075\\u5c71\\u8def1724\\u5f04\",\"2022-05-11\",\"\\u6d66\\u4e1c\\u65b0\\u533a\"],[\"\\u7075\\u5ca9\\u5357\\u8def156\\u5f04\",\"2022-05-11\",\"\\u6d66\\u4e1c\\u65b0\\u533a\"],[\"\\u51cc\\u5146\\u8def127\\u5f04\",\"2022-05-11\",\"\\u6d66\\u4e1c\\u65b0\\u533a\"],[\"\\u9f99\\u5c45\\u8def180\\u5f04\",\"2022-05-11\",\"\\u6d66\\u4e1c\\u65b0\\u533a\"],[\"\\u5357\\u7801\\u5934\\u8def1675\\u5f04\",\"2022-05-11\",\"\\u6d66\\u4e1c\\u65b0\\u533a\"],[\"\\u6d66\\u4e1c\\u5927\\u9053136\\u5f04\",\"2022-05-11\",\"\\u6d66\\u4e1c\\u65b0\\u533a\"],[\"\\u6d66\\u4e1c\\u5927\\u9053140\\u5f04\",\"2022-05-11\",\"\\u6d66\\u4e1c\\u65b0\\u533a\"],[\"\\u6d66\\u4e1c\\u5927\\u90531851\\u5f04\",\"2022-05-11\",\"\\u6d66\\u4e1c\\u65b0\\u533a\"],[\"\\u6d66\\u4e1c\\u5927\\u90532639\\u5f04\",\"2022-05-11\",\"\\u6d66\\u4e1c\\u65b0\\u533a\"],[\"\\u6d66\\u4e1c\\u5927\\u90532742\\u5f04\",\"2022-05-11\",\"\\u6d66\\u4e1c\\u65b0\\u533a\"],[\"\\u6d66\\u4e1c\\u5357\\u8def1700\\u5f04\",\"2022-05-11\",\"\\u6d66\\u4e1c\\u65b0\\u533a\"],[\"\\u6d66\\u4e09\\u8def5127\\u5f04\",\"2022-05-11\",\"\\u6d66\\u4e1c\\u65b0\\u533a\"],[\"\\u4e73\\u5c71\\u8def161\\u5f04\",\"2022-05-11\",\"\\u6d66\\u4e1c\\u65b0\\u533a\"],[\"\\u745e\\u9633\\u8def81\\u5f04\",\"2022-05-11\",\"\\u6d66\\u4e1c\\u65b0\\u533a\"],[\"\\u4e09\\u6797\\u8def200\\u53f7\",\"2022-05-11\",\"\\u6d66\\u4e1c\\u65b0\\u533a\"],[\"\\u4e09\\u6797\\u9547\\u80e1\\u5df7\\u6751\\u91d1\\u5bb6\\u5b85\",\"2022-05-11\",\"\\u6d66\\u4e1c\\u65b0\\u533a\"],[\"\\u4e09\\u6797\\u9547\\u80e1\\u5df7\\u6751\\u5434\\u5bb6\\u5b85\",\"2022-05-11\",\"\\u6d66\\u4e1c\\u65b0\\u533a\"],[\"\\u4e09\\u6797\\u9547\\u5929\\u82b1\\u5eb5\\u6751\\u5317\\u9648\\u961f\\u5927\\u9648\\u5bb6\\u5b85\",\"2022-05-11\",\"\\u6d66\\u4e1c\\u65b0\\u533a\"],[\"\\u4e09\\u6797\\u9547\\u5929\\u82b1\\u5eb5\\u6751\\u4e1c\\u77bf\\u961f\\u5927\\u77bf\\u5bb6\\u5b85\",\"2022-05-11\",\"\\u6d66\\u4e1c\\u65b0\\u533a\"],[\"\\u4e09\\u6797\\u9547\\u897f\\u6797\\u6751\\u5708\\u95e8\\u961f\\u897f\\u6797\\u8857\",\"2022-05-11\",\"\\u6d66\\u4e1c\\u65b0\\u533a\"],[\"\\u4e09\\u6797\\u9547\\u65b0\\u4efb\\u6751\",\"2022-05-11\",\"\\u6d66\\u4e1c\\u65b0\\u533a\"],[\"\\u4e0a\\u5357\\u8def4265\\u5f04\",\"2022-05-11\",\"\\u6d66\\u4e1c\\u65b0\\u533a\"],[\"\\u4e16\\u535a\\u5bb6\\u56ed\\u5927\\u9053\\u7ad9\\u8def94\\u5f04\",\"2022-05-11\",\"\\u6d66\\u4e1c\\u65b0\\u533a\"],[\"\\u601d\\u6d66\\u8def17\\u5f04\",\"2022-05-11\",\"\\u6d66\\u4e1c\\u65b0\\u533a\"],[\"\\u53f0\\u513f\\u5e84\\u8def363\\u5f04\",\"2022-05-11\",\"\\u6d66\\u4e1c\\u65b0\\u533a\"],[\"\\u4e94\\u83b2\\u8def108\\u5f04\",\"2022-05-11\",\"\\u6d66\\u4e1c\\u65b0\\u533a\"],[\"\\u897f\\u6cf0\\u6797\\u8def901\\u5f04\",\"2022-05-11\",\"\\u6d66\\u4e1c\\u65b0\\u533a\"],[\"\\u897f\\u8425\\u8def33\\u5f04\",\"2022-05-11\",\"\\u6d66\\u4e1c\\u65b0\\u533a\"],[\"\\u4e0b\\u5357\\u8def370\\u5f04\",\"2022-05-11\",\"\\u6d66\\u4e1c\\u65b0\\u533a\"],[\"\\u4e0b\\u5357\\u8def500\\u5f04\",\"2022-05-11\",\"\\u6d66\\u4e1c\\u65b0\\u533a\"],[\"\\u65b0\\u573a\\u9547\\u848b\\u6865\\u6751\",\"2022-05-11\",\"\\u6d66\\u4e1c\\u65b0\\u533a\"],[\"\\u65b0\\u573a\\u9547\\u5766\\u897f\\u6751\\u5766\\u5317\",\"2022-05-11\",\"\\u6d66\\u4e1c\\u65b0\\u533a\"],[\"\\u65b0\\u6d66\\u8def543\\u5f04\",\"2022-05-11\",\"\\u6d66\\u4e1c\\u65b0\\u533a\"],[\"\\u65b0\\u6d66\\u8def629\\u5f04\",\"2022-05-11\",\"\\u6d66\\u4e1c\\u65b0\\u533a\"],[\"\\u79c0\\u6cbf\\u8def2585\\u5f04\",\"2022-05-11\",\"\\u6d66\\u4e1c\\u65b0\\u533a\"],[\"\\u79c0\\u6cbf\\u8def2875\\u5f04\",\"2022-05-11\",\"\\u6d66\\u4e1c\\u65b0\\u533a\"],[\"\\u4e25\\u6865\\u8def150\\u5f04\",\"2022-05-11\",\"\\u6d66\\u4e1c\\u65b0\\u533a\"],[\"\\u6768\\u65b0\\u8def20\\u5f04\",\"2022-05-11\",\"\\u6d66\\u4e1c\\u65b0\\u533a\"],[\"\\u6768\\u65b0\\u8def80\\u5f04\",\"2022-05-11\",\"\\u6d66\\u4e1c\\u65b0\\u533a\"],[\"\\u8000\\u534e\\u8def414\\u5f04\",\"2022-05-11\",\"\\u6d66\\u4e1c\\u65b0\\u533a\"],[\"\\u8000\\u534e\\u8def500\\u5f04\",\"2022-05-11\",\"\\u6d66\\u4e1c\\u65b0\\u533a\"],[\"\\u61ff\\u884c\\u8def971\\u5f04\",\"2022-05-11\",\"\\u6d66\\u4e1c\\u65b0\\u533a\"],[\"\\u94f6\\u5c71\\u8def370\\u5f04\",\"2022-05-11\",\"\\u6d66\\u4e1c\\u65b0\\u533a\"],[\"\\u6c38\\u6cf0\\u8def2079\\u5f04\",\"2022-05-11\",\"\\u6d66\\u4e1c\\u65b0\\u533a\"],[\"\\u97f5\\u6d9b\\u8def36\\u5f04\",\"2022-05-11\",\"\\u6d66\\u4e1c\\u65b0\\u533a\"],[\"\\u67a3\\u5e84\\u8def210\\u5f04\",\"2022-05-11\",\"\\u6d66\\u4e1c\\u65b0\\u533a\"],[\"\\u67a3\\u5e84\\u8def212\\u5f04\",\"2022-05-11\",\"\\u6d66\\u4e1c\\u65b0\\u533a\"],[\"\\u5f20\\u6768\\u5317\\u8def512\\u5f04\",\"2022-05-11\",\"\\u6d66\\u4e1c\\u65b0\\u533a\"],[\"\\u8d75\\u9ad8\\u516c\\u8def958\\u53f7\",\"2022-05-11\",\"\\u6d66\\u4e1c\\u65b0\\u533a\"],[\"\\u7d2b\\u53f6\\u8def81\\u5f04\",\"2022-05-11\",\"\\u6d66\\u4e1c\\u65b0\\u533a\"],[\"\\u90b9\\u5e73\\u8def191\\u53f7\\u5de5\\u5730\\u751f\\u6d3b\\u533a\",\"2022-05-11\",\"\\u6d66\\u4e1c\\u65b0\\u533a\"],[\"\\u534a\\u6dde\\u56ed\\u8def650\\u53f7\",\"2022-05-11\",\"\\u9ec4\\u6d66\\u533a\"],[\"\\u4fdd\\u5c6f\\u8def211\\u5f04\",\"2022-05-11\",\"\\u9ec4\\u6d66\\u533a\"],[\"\\u6210\\u90fd\\u5317\\u8def262\\u5f04\",\"2022-05-11\",\"\\u9ec4\\u6d66\\u533a\"],[\"\\u957f\\u4e50\\u8def79\\u53f7\",\"2022-05-11\",\"\\u9ec4\\u6d66\\u533a\"],[\"\\u91cd\\u5e86\\u5317\\u8def177\\u5f04\",\"2022-05-11\",\"\\u9ec4\\u6d66\\u533a\"],[\"\\u91cd\\u5e86\\u5357\\u8def205\\u5f04\",\"2022-05-11\",\"\\u9ec4\\u6d66\\u533a\"],[\"\\u6253\\u6d66\\u8def316\\u5f04\",\"2022-05-11\",\"\\u9ec4\\u6d66\\u533a\"],[\"\\u6253\\u6d66\\u8def470\\u5f04\",\"2022-05-11\",\"\\u9ec4\\u6d66\\u533a\"],[\"\\u5927\\u592b\\u574a95\\u5f04\",\"2022-05-11\",\"\\u9ec4\\u6d66\\u533a\"],[\"\\u5927\\u6cbd\\u8def159\\u53f7\",\"2022-05-11\",\"\\u9ec4\\u6d66\\u533a\"],[\"\\u5927\\u6797\\u8def43\\u5f04\",\"2022-05-11\",\"\\u9ec4\\u6d66\\u533a\"],[\"\\u6de1\\u6c34\\u8def214\\u5f04\",\"2022-05-11\",\"\\u9ec4\\u6d66\\u533a\"],[\"\\u6de1\\u6c34\\u8def216\\u53f7\",\"2022-05-11\",\"\\u9ec4\\u6d66\\u533a\"],[\"\\u6de1\\u6c34\\u8def225\\u5f04\",\"2022-05-11\",\"\\u9ec4\\u6d66\\u533a\"],[\"\\u6de1\\u6c34\\u8def228\\u53f7\",\"2022-05-11\",\"\\u9ec4\\u6d66\\u533a\"],[\"\\u65b9\\u659c\\u8def409\\u53f7\",\"2022-05-11\",\"\\u9ec4\\u6d66\\u533a\"],[\"\\u798f\\u5efa\\u4e2d\\u8def195\\u5f04\",\"2022-05-11\",\"\\u9ec4\\u6d66\\u533a\"],[\"\\u798f\\u5efa\\u4e2d\\u8def225\\u53f7\",\"2022-05-11\",\"\\u9ec4\\u6d66\\u533a\"],[\"\\u798f\\u5dde\\u8def384\\u5f04\",\"2022-05-11\",\"\\u9ec4\\u6d66\\u533a\"],[\"\\u798f\\u5dde\\u8def614\\u5f04\",\"2022-05-11\",\"\\u9ec4\\u6d66\\u533a\"],[\"\\u590d\\u5174\\u4e1c\\u8def404\\u5f04\",\"2022-05-11\",\"\\u9ec4\\u6d66\\u533a\"],[\"\\u726f\\u5cad\\u8def172\\u53f7\",\"2022-05-11\",\"\\u9ec4\\u6d66\\u533a\"],[\"\\u5e7f\\u897f\\u5317\\u8def200\\u53f7\",\"2022-05-11\",\"\\u9ec4\\u6d66\\u533a\"],[\"\\u6d77\\u6f6e\\u8def93\\u5f04\",\"2022-05-11\",\"\\u9ec4\\u6d66\\u533a\"],[\"\\u6d77\\u53e3\\u8def9\\u53f7\",\"2022-05-11\",\"\\u9ec4\\u6d66\\u533a\"],[\"\\u6d77\\u5357\\u897f\\u5f0493\\u53f7\",\"2022-05-11\",\"\\u9ec4\\u6d66\\u533a\"],[\"\\u6cb3\\u5357\\u5357\\u8def1001\\u5f04\",\"2022-05-11\",\"\\u9ec4\\u6d66\\u533a\"],[\"\\u6cb3\\u5357\\u4e2d\\u8def575\\u5f04\",\"2022-05-11\",\"\\u9ec4\\u6d66\\u533a\"],[\"\\u6dee\\u6d77\\u4e2d\\u8def526\\u5f04\",\"2022-05-11\",\"\\u9ec4\\u6d66\\u533a\"],[\"\\u6dee\\u6d77\\u4e2d\\u8def899\\u5f04\",\"2022-05-11\",\"\\u9ec4\\u6d66\\u533a\"],[\"\\u6dee\\u6d77\\u4e2d\\u8def925\\u5f04\",\"2022-05-11\",\"\\u9ec4\\u6d66\\u533a\"],[\"\\u9ec4\\u6cb3\\u8def215\\u5f04\",\"2022-05-11\",\"\\u9ec4\\u6d66\\u533a\"],[\"\\u9ec4\\u6cb3\\u8def239\\u53f7\",\"2022-05-11\",\"\\u9ec4\\u6d66\\u533a\"],[\"\\u9ec4\\u6cb3\\u8def253\\u5f04\",\"2022-05-11\",\"\\u9ec4\\u6d66\\u533a\"],[\"\\u9ec4\\u6cb3\\u8def261\\u53f7\",\"2022-05-11\",\"\\u9ec4\\u6d66\\u533a\"],[\"\\u9ec4\\u6cb3\\u8def281\\u5f04\",\"2022-05-11\",\"\\u9ec4\\u6d66\\u533a\"],[\"\\u9ec4\\u6cb3\\u8def288\\u53f7\",\"2022-05-11\",\"\\u9ec4\\u6d66\\u533a\"],[\"\\u9ec4\\u5bb6\\u9619\\u8def68\\u5f04\",\"2022-05-11\",\"\\u9ec4\\u6d66\\u533a\"],[\"\\u5efa\\u56fd\\u4e1c\\u8def115\\u5f04\",\"2022-05-11\",\"\\u9ec4\\u6d66\\u533a\"],[\"\\u5efa\\u56fd\\u4e1c\\u8def143\\u5f04\",\"2022-05-11\",\"\\u9ec4\\u6d66\\u533a\"],[\"\\u5efa\\u56fd\\u4e1c\\u8def61\\u5f04\",\"2022-05-11\",\"\\u9ec4\\u6d66\\u533a\"],[\"\\u5efa\\u56fd\\u897f\\u8def91\\u5f04\",\"2022-05-11\",\"\\u9ec4\\u6d66\\u533a\"],[\"\\u6c5f\\u6ee8\\u8def258\\u53f7\",\"2022-05-11\",\"\\u9ec4\\u6d66\\u533a\"],[\"\\u6c5f\\u897f\\u4e2d\\u8def412\\u5f04\",\"2022-05-11\",\"\\u9ec4\\u6d66\\u533a\"],[\"\\u6c5f\\u897f\\u4e2d\\u8def44\\u5f04\",\"2022-05-11\",\"\\u9ec4\\u6d66\\u533a\"],[\"\\u6c5f\\u9634\\u8857401\\u5f04\",\"2022-05-11\",\"\\u9ec4\\u6d66\\u533a\"],[\"\\u8fdb\\u8d24\\u8def138\\u5f04\",\"2022-05-11\",\"\\u9ec4\\u6d66\\u533a\"],[\"\\u805a\\u594e\\u65b0\\u6751\",\"2022-05-11\",\"\\u9ec4\\u6d66\\u533a\"],[\"\\u4e3d\\u56ed\\u8def1016\\u5f04\",\"2022-05-11\",\"\\u9ec4\\u6d66\\u533a\"],[\"\\u4e3d\\u56ed\\u8def502\\u53f7\",\"2022-05-11\",\"\\u9ec4\\u6d66\\u533a\"],[\"\\u4e3d\\u56ed\\u8def883\\u53f7\",\"2022-05-11\",\"\\u9ec4\\u6d66\\u533a\"],[\"\\u67f3\\u5e02\\u8def1\\u5f04\",\"2022-05-11\",\"\\u9ec4\\u6d66\\u533a\"],[\"\\u9f99\\u534e\\u4e1c\\u8def888\\u5f04\",\"2022-05-11\",\"\\u9ec4\\u6d66\\u533a\"],[\"\\u9c81\\u73ed\\u8def509\\u5f04\",\"2022-05-11\",\"\\u9ec4\\u6d66\\u533a\"],[\"\\u9646\\u5bb6\\u6d5c\\u8def1256\\u5f04\",\"2022-05-11\",\"\\u9ec4\\u6d66\\u533a\"],[\"\\u9646\\u5bb6\\u6d5c\\u8def413\\u5f04\",\"2022-05-11\",\"\\u9ec4\\u6d66\\u533a\"],[\"\\u9646\\u5bb6\\u6d5c\\u8def468\\u5f04\",\"2022-05-11\",\"\\u9ec4\\u6d66\\u533a\"],[\"\\u9646\\u5bb6\\u6d5c\\u8def688\\u5f04\",\"2022-05-11\",\"\\u9ec4\\u6d66\\u533a\"],[\"\\u9a6c\\u5f53\\u8def278\\u5f04\",\"2022-05-11\",\"\\u9ec4\\u6d66\\u533a\"],[\"\\u8499\\u81ea\\u8def345\\u5f04\",\"2022-05-11\",\"\\u9ec4\\u6d66\\u533a\"],[\"\\u8499\\u81ea\\u8def601\\u5f04\",\"2022-05-11\",\"\\u9ec4\\u6d66\\u533a\"],[\"\\u9762\\u7b4b\\u5f0429\\u53f7\",\"2022-05-11\",\"\\u9ec4\\u6d66\\u533a\"],[\"\\u5357\\u660c\\u8def246\\u53f7\",\"2022-05-11\",\"\\u9ec4\\u6d66\\u533a\"],[\"\\u5357\\u8f66\\u7ad9\\u8def169\\u5f04\",\"2022-05-11\",\"\\u9ec4\\u6d66\\u533a\"],[\"\\u5357\\u8f66\\u7ad9\\u8def438\\u53f7\",\"2022-05-11\",\"\\u9ec4\\u6d66\\u533a\"],[\"\\u5357\\u4eac\\u4e1c\\u8def600\\u53f7\",\"2022-05-11\",\"\\u9ec4\\u6d66\\u533a\"],[\"\\u5357\\u4eac\\u897f\\u8def461\\u53f7\",\"2022-05-11\",\"\\u9ec4\\u6d66\\u533a\"],[\"\\u5b81\\u6ce2\\u8def540\\u53f7\",\"2022-05-11\",\"\\u9ec4\\u6d66\\u533a\"],[\"\\u5b81\\u6ce2\\u8def601\\u53f7\",\"2022-05-11\",\"\\u9ec4\\u6d66\\u533a\"],[\"\\u5e73\\u671b\\u885736\\u5f04\",\"2022-05-11\",\"\\u9ec4\\u6d66\\u533a\"],[\"\\u666e\\u80b2\\u4e1c\\u8def101\\u5f04\",\"2022-05-11\",\"\\u9ec4\\u6d66\\u533a\"],[\"\\u666e\\u80b2\\u4e1c\\u8def200\\u5f04\",\"2022-05-11\",\"\\u9ec4\\u6d66\\u533a\"],[\"\\u666e\\u80b2\\u4e1c\\u8def230\\u53f7\",\"2022-05-11\",\"\\u9ec4\\u6d66\\u533a\"],[\"\\u77bf\\u6eaa\\u8def1072\\u5f04\",\"2022-05-11\",\"\\u9ec4\\u6d66\\u533a\"],[\"\\u77bf\\u6eaa\\u8def117\\u53f7\",\"2022-05-11\",\"\\u9ec4\\u6d66\\u533a\"],[\"\\u77bf\\u6eaa\\u8def1200\\u5f04\",\"2022-05-11\",\"\\u9ec4\\u6d66\\u533a\"],[\"\\u77bf\\u6eaa\\u8def120\\u5f04\",\"2022-05-11\",\"\\u9ec4\\u6d66\\u533a\"],[\"\\u77bf\\u6eaa\\u8def122\\u53f7\",\"2022-05-11\",\"\\u9ec4\\u6d66\\u533a\"],[\"\\u77bf\\u6eaa\\u8def1240\\u5f04\",\"2022-05-11\",\"\\u9ec4\\u6d66\\u533a\"],[\"\\u77bf\\u6eaa\\u8def124\\u53f7\",\"2022-05-11\",\"\\u9ec4\\u6d66\\u533a\"],[\"\\u77bf\\u6eaa\\u8def1254\\u5f04\",\"2022-05-11\",\"\\u9ec4\\u6d66\\u533a\"],[\"\\u77bf\\u6eaa\\u8def129\\u53f7\",\"2022-05-11\",\"\\u9ec4\\u6d66\\u533a\"],[\"\\u77bf\\u6eaa\\u8def564\\u53f7\",\"2022-05-11\",\"\\u9ec4\\u6d66\\u533a\"],[\"\\u77bf\\u6eaa\\u8def566\\u53f7\",\"2022-05-11\",\"\\u9ec4\\u6d66\\u533a\"],[\"\\u77bf\\u6eaa\\u8def804\\u53f7\",\"2022-05-11\",\"\\u9ec4\\u6d66\\u533a\"],[\"\\u77bf\\u6eaa\\u8def883\\u5f04\",\"2022-05-11\",\"\\u9ec4\\u6d66\\u533a\"],[\"\\u77bf\\u6eaa\\u8def904\\u5f04\",\"2022-05-11\",\"\\u9ec4\\u6d66\\u533a\"],[\"\\u77bf\\u6eaa\\u8def937\\u5f04\",\"2022-05-11\",\"\\u9ec4\\u6d66\\u533a\"],[\"\\u6c5d\\u5357\\u885776\\u53f7\",\"2022-05-11\",\"\\u9ec4\\u6d66\\u533a\"],[\"\\u745e\\u91d1\\u4e8c\\u8def52\\u5f04\",\"2022-05-11\",\"\\u9ec4\\u6d66\\u533a\"],[\"\\u745e\\u91d1\\u4e8c\\u8def70\\u5f04\",\"2022-05-11\",\"\\u9ec4\\u6d66\\u533a\"],[\"\\u745e\\u91d1\\u5357\\u8def1\\u53f7\",\"2022-05-11\",\"\\u9ec4\\u6d66\\u533a\"],[\"\\u745e\\u91d1\\u5357\\u8def333\\u5f04\",\"2022-05-11\",\"\\u9ec4\\u6d66\\u533a\"],[\"\\u987a\\u660c\\u8def487\\u53f7\",\"2022-05-11\",\"\\u9ec4\\u6d66\\u533a\"],[\"\\u987a\\u660c\\u8def506\\u53f7\",\"2022-05-11\",\"\\u9ec4\\u6d66\\u533a\"],[\"\\u987a\\u660c\\u8def594\\u53f7\",\"2022-05-11\",\"\\u9ec4\\u6d66\\u533a\"],[\"\\u56db\\u5ddd\\u4e2d\\u8def627\\u53f7\",\"2022-05-11\",\"\\u9ec4\\u6d66\\u533a\"],[\"\\u56db\\u724c\\u697c\\u8def71\\u53f7\",\"2022-05-11\",\"\\u9ec4\\u6d66\\u533a\"],[\"\\u6cd7\\u6cfe\\u8def29\\u53f7\",\"2022-05-11\",\"\\u9ec4\\u6d66\\u533a\"],[\"\\u5929\\u6d25\\u8def170\\u5f04\",\"2022-05-11\",\"\\u9ec4\\u6d66\\u533a\"],[\"\\u543e\\u56ed\\u8857142\\u53f7\",\"2022-05-11\",\"\\u9ec4\\u6d66\\u533a\"],[\"\\u4e94\\u91cc\\u6865\\u8def235\\u5f04\",\"2022-05-11\",\"\\u9ec4\\u6d66\\u533a\"],[\"\\u897f\\u85cf\\u5357\\u8def1383\\u5f04\",\"2022-05-11\",\"\\u9ec4\\u6d66\\u533a\"],[\"\\u897f\\u51cc\\u5bb6\\u5b85\\u8def111\\u5f04\",\"2022-05-11\",\"\\u9ec4\\u6d66\\u533a\"],[\"\\u897f\\u51cc\\u5bb6\\u5b85\\u8def27\\u5f04\",\"2022-05-11\",\"\\u9ec4\\u6d66\\u533a\"],[\"\\u659c\\u571f\\u4e1c\\u8def265\\u5f04\",\"2022-05-11\",\"\\u9ec4\\u6d66\\u533a\"],[\"\\u659c\\u571f\\u4e1c\\u8def333\\u5f04\",\"2022-05-11\",\"\\u9ec4\\u6d66\\u533a\"],[\"\\u659c\\u571f\\u8def330\\u5f04\",\"2022-05-11\",\"\\u9ec4\\u6d66\\u533a\"],[\"\\u659c\\u571f\\u8def530\\u53f7\",\"2022-05-11\",\"\\u9ec4\\u6d66\\u533a\"],[\"\\u659c\\u571f\\u8def80\\u5f04\",\"2022-05-11\",\"\\u9ec4\\u6d66\\u533a\"],[\"\\u65b0\\u660c\\u8def288\\u53f7\",\"2022-05-11\",\"\\u9ec4\\u6d66\\u533a\"],[\"\\u65b0\\u660c\\u8def310\\u5f04\",\"2022-05-11\",\"\\u9ec4\\u6d66\\u533a\"],[\"\\u65b0\\u660c\\u8def332\\u53f7\",\"2022-05-11\",\"\\u9ec4\\u6d66\\u533a\"],[\"\\u5174\\u5b89\\u8def141\\u5f04\",\"2022-05-11\",\"\\u9ec4\\u6d66\\u533a\"],[\"\\u5b66\\u9662\\u8def70\\u53f7\",\"2022-05-11\",\"\\u9ec4\\u6d66\\u533a\"],[\"\\u5b66\\u9662\\u8def79\\u5f04\",\"2022-05-11\",\"\\u9ec4\\u6d66\\u533a\"],[\"\\u5de1\\u9053\\u885721\\u53f7\",\"2022-05-11\",\"\\u9ec4\\u6d66\\u533a\"],[\"\\u5de1\\u9053\\u88578\\u53f7\",\"2022-05-11\",\"\\u9ec4\\u6d66\\u533a\"],[\"\\u5ef6\\u5b89\\u4e1c\\u8def1292\\u5f04\",\"2022-05-11\",\"\\u9ec4\\u6d66\\u533a\"],[\"\\u6d59\\u6c5f\\u4e2d\\u8def118\\u5f04\",\"2022-05-11\",\"\\u9ec4\\u6d66\\u533a\"],[\"\\u5236\\u9020\\u5c40\\u8def365\\u5f04\",\"2022-05-11\",\"\\u9ec4\\u6d66\\u533a\"],[\"\\u5236\\u9020\\u5c40\\u8def370\\u5f04\",\"2022-05-11\",\"\\u9ec4\\u6d66\\u533a\"],[\"\\u5236\\u9020\\u5c40\\u8def455\\u5f04\",\"2022-05-11\",\"\\u9ec4\\u6d66\\u533a\"],[\"\\u5236\\u9020\\u5c40\\u8def529\\u53f7\",\"2022-05-11\",\"\\u9ec4\\u6d66\\u533a\"],[\"\\u5236\\u9020\\u5c40\\u8def567\\u5f04\",\"2022-05-11\",\"\\u9ec4\\u6d66\\u533a\"],[\"\\u4e2d\\u5c71\\u5357\\u8def1669\\u5f04\",\"2022-05-11\",\"\\u9ec4\\u6d66\\u533a\"],[\"\\u4e2d\\u5c71\\u5357\\u8def1726\\u5f04\",\"2022-05-11\",\"\\u9ec4\\u6d66\\u533a\"],[\"\\u4e2d\\u5c71\\u5357\\u8def891\\u53f7\",\"2022-05-11\",\"\\u9ec4\\u6d66\\u533a\"],[\"\\u4e2d\\u5c71\\u5357\\u4e00\\u8def1043\\u5f04\",\"2022-05-11\",\"\\u9ec4\\u6d66\\u533a\"],[\"\\u4e2d\\u5c71\\u5357\\u4e00\\u8def198\\u5f04\",\"2022-05-11\",\"\\u9ec4\\u6d66\\u533a\"],[\"\\u4e2d\\u5c71\\u5357\\u4e00\\u8def247\\u5f04\",\"2022-05-11\",\"\\u9ec4\\u6d66\\u533a\"],[\"\\u4e2d\\u5c71\\u5357\\u4e00\\u8def904\\u53f7\",\"2022-05-11\",\"\\u9ec4\\u6d66\\u533a\"],[\"\\u5e84\\u5bb6\\u885734\\u53f7\",\"2022-05-11\",\"\\u9ec4\\u6d66\\u533a\"],[\"\\u81ea\\u5fe0\\u8def428\\u53f7\",\"2022-05-11\",\"\\u9ec4\\u6d66\\u533a\"],[\"\\u5b9d\\u5c71\\u8def499\\u5f04\",\"2022-05-11\",\"\\u9759\\u5b89\\u533a\"],[\"\\u5b9d\\u5c71\\u8def581\\u53f7\",\"2022-05-11\",\"\\u9759\\u5b89\\u533a\"],[\"\\u5b9d\\u901a\\u8def210\\u53f7\",\"2022-05-11\",\"\\u9759\\u5b89\\u533a\"],[\"\\u5b9d\\u6e90\\u8def209\\u5f04\",\"2022-05-11\",\"\\u9759\\u5b89\\u533a\"],[\"\\u4fdd\\u5fb7\\u8def241\\u5f04\",\"2022-05-11\",\"\\u9759\\u5b89\\u533a\"],[\"\\u660c\\u5e73\\u8def421\\u5f04\",\"2022-05-11\",\"\\u9759\\u5b89\\u533a\"],[\"\\u660c\\u5e73\\u8def999\\u5f04\",\"2022-05-11\",\"\\u9759\\u5b89\\u533a\"],[\"\\u5e38\\u5fb7\\u8def545\\u5f04\",\"2022-05-11\",\"\\u9759\\u5b89\\u533a\"],[\"\\u5e38\\u5fb7\\u8def633\\u5f04\",\"2022-05-11\",\"\\u9759\\u5b89\\u533a\"],[\"\\u957f\\u4e50\\u8def638\\u5f04\",\"2022-05-11\",\"\\u9759\\u5b89\\u533a\"],[\"\\u957f\\u4e34\\u8def200\\u5f04\",\"2022-05-11\",\"\\u9759\\u5b89\\u533a\"],[\"\\u573a\\u4e2d\\u8def2155\\u5f04\",\"2022-05-11\",\"\\u9759\\u5b89\\u533a\"],[\"\\u573a\\u4e2d\\u8def2965\\u5f04\",\"2022-05-11\",\"\\u9759\\u5b89\\u533a\"],[\"\\u5927\\u7edf\\u8def933\\u5f04\",\"2022-05-11\",\"\\u9759\\u5b89\\u533a\"],[\"\\u5171\\u548c\\u65b0\\u8def1304\\u5f04\",\"2022-05-11\",\"\\u9759\\u5b89\\u533a\"],[\"\\u5171\\u548c\\u65b0\\u8def3616\\u5f04\",\"2022-05-11\",\"\\u9759\\u5b89\\u533a\"],[\"\\u5171\\u548c\\u65b0\\u8def619\\u5f04\",\"2022-05-11\",\"\\u9759\\u5b89\\u533a\"],[\"\\u5171\\u548c\\u65b0\\u8def655\\u5f04\",\"2022-05-11\",\"\\u9759\\u5b89\\u533a\"],[\"\\u5171\\u548c\\u65b0\\u8def966\\u53f7\",\"2022-05-11\",\"\\u9759\\u5b89\\u533a\"],[\"\\u5e7f\\u5ef6\\u8def350\\u5f04\",\"2022-05-11\",\"\\u9759\\u5b89\\u533a\"],[\"\\u6d77\\u9632\\u8def223\\u5f04\",\"2022-05-11\",\"\\u9759\\u5b89\\u533a\"],[\"\\u6d77\\u9632\\u8def338\\u5f04\",\"2022-05-11\",\"\\u9759\\u5b89\\u533a\"],[\"\\u6c49\\u4e2d\\u8def18\\u53f7\",\"2022-05-11\",\"\\u9759\\u5b89\\u533a\"],[\"\\u6c49\\u4e2d\\u8def28\\u5f04\",\"2022-05-11\",\"\\u9759\\u5b89\\u533a\"],[\"\\u6c49\\u4e2d\\u8def78\\u5f04\",\"2022-05-11\",\"\\u9759\\u5b89\\u533a\"],[\"\\u6caa\\u592a\\u8def1051\\u5f04\",\"2022-05-11\",\"\\u9759\\u5b89\\u533a\"],[\"\\u6caa\\u592a\\u8def549\\u53f7\",\"2022-05-11\",\"\\u9759\\u5b89\\u533a\"],[\"\\u6caa\\u592a\\u8def651\\u5f04\",\"2022-05-11\",\"\\u9759\\u5b89\\u533a\"],[\"\\u80f6\\u5dde\\u8def565\\u5f04\",\"2022-05-11\",\"\\u9759\\u5b89\\u533a\"],[\"\\u5eb7\\u5b9a\\u8def864\\u53f7\",\"2022-05-11\",\"\\u9759\\u5b89\\u533a\"],[\"\\u8001\\u6caa\\u592a\\u8def1291\\u5f04\",\"2022-05-11\",\"\\u9759\\u5b89\\u533a\"],[\"\\u8001\\u6caa\\u592a\\u8def250\\u5f04\",\"2022-05-11\",\"\\u9759\\u5b89\\u533a\"],[\"\\u4e34\\u6c7e\\u8def99\\u5f04\",\"2022-05-11\",\"\\u9759\\u5b89\\u533a\"],[\"\\u4e34\\u5c71\\u8def186\\u53f7\",\"2022-05-11\",\"\\u9759\\u5b89\\u533a\"],[\"\\u7075\\u77f3\\u8def666\\u5f04\",\"2022-05-11\",\"\\u9759\\u5b89\\u533a\"],[\"\\u67f3\\u8425\\u8def1025\\u5f04\",\"2022-05-11\",\"\\u9759\\u5b89\\u533a\"],[\"\\u67f3\\u8425\\u8def319\\u5f04\",\"2022-05-11\",\"\\u9759\\u5b89\\u533a\"],[\"\\u6d1b\\u5ddd\\u4e2d\\u8def1100\\u5f04\",\"2022-05-11\",\"\\u9759\\u5b89\\u533a\"],[\"\\u6bdb\\u5bb6\\u5f0478\\u53f7\",\"2022-05-11\",\"\\u9759\\u5b89\\u533a\"],[\"\\u5357\\u4eac\\u897f\\u8def591\\u5f04\",\"2022-05-11\",\"\\u9759\\u5b89\\u533a\"],[\"\\u5e73\\u578b\\u5173\\u8def121\\u5f04\",\"2022-05-11\",\"\\u9759\\u5b89\\u533a\"],[\"\\u5e73\\u578b\\u5173\\u8def305\\u5f04\",\"2022-05-11\",\"\\u9759\\u5b89\\u533a\"],[\"\\u666e\\u5584\\u8def\\u94c1\\u8def\\u65b0\\u675117\\u53f7\",\"2022-05-11\",\"\\u9759\\u5b89\\u533a\"],[\"\\u666e\\u5584\\u8def\\u94c1\\u8def\\u65b0\\u675121\\u53f7\",\"2022-05-11\",\"\\u9759\\u5b89\\u533a\"],[\"\\u666e\\u5584\\u8def\\u94c1\\u8def\\u65b0\\u675123\\u53f7\",\"2022-05-11\",\"\\u9759\\u5b89\\u533a\"],[\"\\u9752\\u4e91\\u8def315\\u5f04\",\"2022-05-11\",\"\\u9759\\u5b89\\u533a\"],[\"\\u866c\\u6c5f\\u8def1258\\u5f04\",\"2022-05-11\",\"\\u9759\\u5b89\\u533a\"],[\"\\u866c\\u6c5f\\u8def860\\u53f7\",\"2022-05-11\",\"\\u9759\\u5b89\\u533a\"],[\"\\u4e09\\u6cc9\\u8def821\\u5f04\",\"2022-05-11\",\"\\u9759\\u5b89\\u533a\"],[\"\\u9655\\u897f\\u5317\\u8def581\\u53f7\",\"2022-05-11\",\"\\u9759\\u5b89\\u533a\"],[\"\\u9655\\u897f\\u5317\\u8def835\\u5f04\",\"2022-05-11\",\"\\u9759\\u5b89\\u533a\"],[\"\\u9655\\u897f\\u5317\\u8def900\\u53f7\",\"2022-05-11\",\"\\u9759\\u5b89\\u533a\"],[\"\\u8c08\\u5bb6\\u6865\\u8def85\\u5f04\",\"2022-05-11\",\"\\u9759\\u5b89\\u533a\"],[\"\\u5929\\u76ee\\u4e2d\\u8def749\\u5f04\",\"2022-05-11\",\"\\u9759\\u5b89\\u533a\"],[\"\\u901a\\u9601\\u8def181\\u53f7\",\"2022-05-11\",\"\\u9759\\u5b89\\u533a\"],[\"\\u4e07\\u822a\\u6e21\\u8def463\\u53f7\",\"2022-05-11\",\"\\u9759\\u5b89\\u533a\"],[\"\\u95fb\\u559c\\u8def590\\u53f7\",\"2022-05-11\",\"\\u9759\\u5b89\\u533a\"],[\"\\u95fb\\u559c\\u8def935\\u5f04\",\"2022-05-11\",\"\\u9759\\u5b89\\u533a\"],[\"\\u897f\\u5b9d\\u5174\\u8def922\\u5f04\",\"2022-05-11\",\"\\u9759\\u5b89\\u533a\"],[\"\\u897f\\u85cf\\u5317\\u8def853\\u5f04\",\"2022-05-11\",\"\\u9759\\u5b89\\u533a\"],[\"\\u897f\\u5eb7\\u8def786\\u5f04\",\"2022-05-11\",\"\\u9759\\u5b89\\u533a\"],[\"\\u897f\\u5eb7\\u8def894\\u5f04\",\"2022-05-11\",\"\\u9759\\u5b89\\u533a\"],[\"\\u8944\\u9633\\u5317\\u8def44\\u5f04\",\"2022-05-11\",\"\\u9759\\u5b89\\u533a\"],[\"\\u5ef6\\u5e73\\u8def230\\u5f04\",\"2022-05-11\",\"\\u9759\\u5b89\\u533a\"],[\"\\u5ef6\\u5e73\\u8def340\\u5f04\",\"2022-05-11\",\"\\u9759\\u5b89\\u533a\"],[\"\\u5ef6\\u957f\\u4e2d\\u8def800\\u5f04\",\"2022-05-11\",\"\\u9759\\u5b89\\u533a\"],[\"\\u4f59\\u59da\\u8def19\\u53f7\",\"2022-05-11\",\"\\u9759\\u5b89\\u533a\"],[\"\\u4f59\\u59da\\u8def321\\u5f04\",\"2022-05-11\",\"\\u9759\\u5b89\\u533a\"],[\"\\u4fde\\u6cfe\\u6e2f\\u8def15\\u5f04\",\"2022-05-11\",\"\\u9759\\u5b89\\u533a\"],[\"\\u611a\\u56ed\\u8def488\\u5f04\",\"2022-05-11\",\"\\u9759\\u5b89\\u533a\"],[\"\\u6b62\\u56ed\\u8def320\\u5f04\",\"2022-05-11\",\"\\u9759\\u5b89\\u533a\"],[\"\\u82b7\\u6c5f\\u897f\\u8def123\\u5f04\",\"2022-05-11\",\"\\u9759\\u5b89\\u533a\"],[\"\\u82b7\\u6c5f\\u897f\\u8def285\\u5f04\",\"2022-05-11\",\"\\u9759\\u5b89\\u533a\"],[\"\\u82b7\\u6c5f\\u897f\\u8def393\\u5f04\",\"2022-05-11\",\"\\u9759\\u5b89\\u533a\"],[\"\\u82b7\\u6c5f\\u4e2d\\u8def413\\u5f04\",\"2022-05-11\",\"\\u9759\\u5b89\\u533a\"],[\"\\u82b7\\u6c5f\\u4e2d\\u8def495\\u5f04\",\"2022-05-11\",\"\\u9759\\u5b89\\u533a\"],[\"\\u82b7\\u6c5f\\u4e2d\\u8def531\\u5f04\",\"2022-05-11\",\"\\u9759\\u5b89\\u533a\"],[\"\\u4e2d\\u534e\\u65b0\\u8def487\\u53f7\",\"2022-05-11\",\"\\u9759\\u5b89\\u533a\"],[\"\\u4e2d\\u534e\\u65b0\\u8def706\\u53f7\",\"2022-05-11\",\"\\u9759\\u5b89\\u533a\"],[\"\\u4e2d\\u534e\\u65b0\\u8def730\\u5f04\",\"2022-05-11\",\"\\u9759\\u5b89\\u533a\"],[\"\\u4e2d\\u534e\\u65b0\\u8def893\\u5f04\",\"2022-05-11\",\"\\u9759\\u5b89\\u533a\"],[\"\\u4e2d\\u534e\\u65b0\\u8def939\\u5f04\",\"2022-05-11\",\"\\u9759\\u5b89\\u533a\"],[\"\\u4e2d\\u5c71\\u5317\\u8def1038\\u53f7\",\"2022-05-11\",\"\\u9759\\u5b89\\u533a\"],[\"\\u4e2d\\u5c71\\u5317\\u8def255\\u5f04\",\"2022-05-11\",\"\\u9759\\u5b89\\u533a\"],[\"\\u4e2d\\u5c71\\u5317\\u8def814\\u5f04\",\"2022-05-11\",\"\\u9759\\u5b89\\u533a\"],[\"\\u4e2d\\u5174\\u8def1321\\u5f04\",\"2022-05-11\",\"\\u9759\\u5b89\\u533a\"],[\"\\u4e2d\\u5174\\u8def1340\\u5f04\",\"2022-05-11\",\"\\u9759\\u5b89\\u533a\"],[\"\\u82cd\\u68a7\\u8def468\\u5f04\",\"2022-05-11\",\"\\u5f90\\u6c47\\u533a\"],[\"\\u4e1c\\u5b89\\u8def452\\u53f7\",\"2022-05-11\",\"\\u5f90\\u6c47\\u533a\"],[\"\\u4e1c\\u5b89\\u4e94\\u6751\",\"2022-05-11\",\"\\u5f90\\u6c47\\u533a\"],[\"\\u4e1c\\u5b89\\u4e00\\u6751\",\"2022-05-11\",\"\\u5f90\\u6c47\\u533a\"],[\"\\u590d\\u5174\\u4e2d\\u8def1199\\u53f7\",\"2022-05-11\",\"\\u5f90\\u6c47\\u533a\"],[\"\\u590d\\u5174\\u4e2d\\u8def1315\\u5f04\",\"2022-05-11\",\"\\u5f90\\u6c47\\u533a\"],[\"\\u6dee\\u6d77\\u897f\\u8def343\\u53f7\",\"2022-05-11\",\"\\u5f90\\u6c47\\u533a\"],[\"\\u5efa\\u56fd\\u897f\\u8def316\\u5f04\",\"2022-05-11\",\"\\u5f90\\u6c47\\u533a\"],[\"\\u51ef\\u65cb\\u8def2120\\u5f04\",\"2022-05-11\",\"\\u5f90\\u6c47\\u533a\"],[\"\\u96f6\\u9675\\u8def639\\u53f7\",\"2022-05-11\",\"\\u5f90\\u6c47\\u533a\"],[\"\\u9f99\\u534e\\u8def2381\\u5f04\",\"2022-05-11\",\"\\u5f90\\u6c47\\u533a\"],[\"\\u9f99\\u534e\\u8def3208\\u5f04\",\"2022-05-11\",\"\\u5f90\\u6c47\\u533a\"],[\"\\u9f99\\u534e\\u897f\\u8def21\\u5f04\",\"2022-05-11\",\"\\u5f90\\u6c47\\u533a\"],[\"\\u9f99\\u534e\\u897f\\u8def31\\u5f04\",\"2022-05-11\",\"\\u5f90\\u6c47\\u533a\"],[\"\\u7f57\\u79c0\\u8def717\\u5f04\",\"2022-05-11\",\"\\u5f90\\u6c47\\u533a\"],[\"\\u5357\\u4e39\\u8def333\\u5f04\",\"2022-05-11\",\"\\u5f90\\u6c47\\u533a\"],[\"\\u5b9b\\u5e73\\u5357\\u8def968\\u5f04\",\"2022-05-11\",\"\\u5f90\\u6c47\\u533a\"],[\"\\u4e4c\\u9c81\\u6728\\u9f50\\u5357\\u8def75\\u5f04\",\"2022-05-11\",\"\\u5f90\\u6c47\\u533a\"],[\"\\u5c0f\\u6728\\u6865\\u8def101\\u5f04\",\"2022-05-11\",\"\\u5f90\\u6c47\\u533a\"],[\"\\u5c0f\\u6728\\u6865\\u8def360\\u5f04\",\"2022-05-11\",\"\\u5f90\\u6c47\\u533a\"],[\"\\u5f90\\u8679\\u5317\\u8def18\\u5f04\",\"2022-05-11\",\"\\u5f90\\u6c47\\u533a\"],[\"\\u4e2d\\u5c71\\u5357\\u4e8c\\u8def918\\u5f04\",\"2022-05-11\",\"\\u5f90\\u6c47\\u533a\"],[\"\\u4e2d\\u5c71\\u897f\\u8def2020\\u53f7\",\"2022-05-11\",\"\\u5f90\\u6c47\\u533a\"],[\"\\u66f9\\u6768\\u4e8c\\u6751\",\"2022-05-11\",\"\\u666e\\u9640\\u533a\"],[\"\\u660c\\u5316\\u8def994\\u5f04\",\"2022-05-11\",\"\\u666e\\u9640\\u533a\"],[\"\\u53e4\\u6d6a\\u8def518\\u5f04\",\"2022-05-11\",\"\\u666e\\u9640\\u533a\"],[\"\\u9ec4\\u9675\\u8def200\\u5f04\",\"2022-05-11\",\"\\u666e\\u9640\\u533a\"],[\"\\u4ea4\\u901a\\u8def1913\\u5f04\",\"2022-05-11\",\"\\u666e\\u9640\\u533a\"],[\"\\u4ea4\\u901a\\u8def3193\\u5f04\",\"2022-05-11\",\"\\u666e\\u9640\\u533a\"],[\"\\u4ea4\\u901a\\u897f\\u8def188\\u5f04\",\"2022-05-11\",\"\\u666e\\u9640\\u533a\"],[\"\\u793c\\u6cc9\\u8def305\\u5f04\",\"2022-05-11\",\"\\u666e\\u9640\\u533a\"],[\"\\u793c\\u6cc9\\u8def700\\u5f04\",\"2022-05-11\",\"\\u666e\\u9640\\u533a\"],[\"\\u6012\\u6c5f\\u5317\\u8def219\\u5f04\",\"2022-05-11\",\"\\u666e\\u9640\\u533a\"],[\"\\u666e\\u9640\\u56db\\u6751\",\"2022-05-11\",\"\\u666e\\u9640\\u533a\"],[\"\\u94dc\\u5ddd\\u8def346\\u5f04\",\"2022-05-11\",\"\\u666e\\u9640\\u533a\"],[\"\\u9999\\u6cc9\\u8def85\\u5f04\",\"2022-05-11\",\"\\u666e\\u9640\\u533a\"],[\"\\u65b0\\u6751\\u8def170\\u5f04\",\"2022-05-11\",\"\\u666e\\u9640\\u533a\"],[\"\\u65ec\\u9633\\u65b0\\u6751\",\"2022-05-11\",\"\\u666e\\u9640\\u533a\"],[\"\\u771f\\u5982\\u897f\\u6751\",\"2022-05-11\",\"\\u666e\\u9640\\u533a\"],[\"\\u5b89\\u56fe\\u65b0\\u6751\",\"2022-05-11\",\"\\u6768\\u6d66\\u533a\"],[\"\\u978d\\u5c71\\u8def63\\u53f7\",\"2022-05-11\",\"\\u6768\\u6d66\\u533a\"],[\"\\u978d\\u5c71\\u4e09\\u6751\",\"2022-05-11\",\"\\u6768\\u6d66\\u533a\"],[\"\\u957f\\u767d\\u4e09\\u6751\",\"2022-05-11\",\"\\u6768\\u6d66\\u533a\"],[\"\\u957f\\u9633\\u8def1220\\u5f04\",\"2022-05-11\",\"\\u6768\\u6d66\\u533a\"],[\"\\u957f\\u9633\\u8def2000\\u53f7\",\"2022-05-11\",\"\\u6768\\u6d66\\u533a\"],[\"\\u957f\\u9633\\u8def2080\\u53f7\",\"2022-05-11\",\"\\u6768\\u6d66\\u533a\"],[\"\\u5927\\u8fde\\u897f\\u8def4\\u5f04\",\"2022-05-11\",\"\\u6768\\u6d66\\u533a\"],[\"\\u51e4\\u57ce\\u4e09\\u6751\",\"2022-05-11\",\"\\u6768\\u6d66\\u533a\"],[\"\\u961c\\u65b0\\u8def169\\u5f04\",\"2022-05-11\",\"\\u6768\\u6d66\\u533a\"],[\"\\u5de5\\u519c\\u56db\\u6751\",\"2022-05-11\",\"\\u6768\\u6d66\\u533a\"],[\"\\u8d35\\u9633\\u8def422\\u53f7\",\"2022-05-11\",\"\\u6768\\u6d66\\u533a\"],[\"\\u56fd\\u6743\\u5317\\u8def17\\u53f7\",\"2022-05-11\",\"\\u6768\\u6d66\\u533a\"],[\"\\u56fd\\u6743\\u540e\\u8def19\\u53f7\",\"2022-05-11\",\"\\u6768\\u6d66\\u533a\"],[\"\\u56fd\\u4f1f\\u8def300\\u53f7\",\"2022-05-11\",\"\\u6768\\u6d66\\u533a\"],[\"\\u56fd\\u4f1f\\u8def58\\u5f04\",\"2022-05-11\",\"\\u6768\\u6d66\\u533a\"],[\"\\u6c5f\\u6d66\\u8def1275\\u5f04\",\"2022-05-11\",\"\\u6768\\u6d66\\u533a\"],[\"\\u6c5f\\u6d66\\u8def1315\\u5f04\",\"2022-05-11\",\"\\u6768\\u6d66\\u533a\"],[\"\\u6c5f\\u6d66\\u8def1424\\u5f04\",\"2022-05-11\",\"\\u6768\\u6d66\\u533a\"],[\"\\u9756\\u5b87\\u4e1c\\u8def58\\u5f04\",\"2022-05-11\",\"\\u6768\\u6d66\\u533a\"],[\"\\u519b\\u5de5\\u8def516\\u53f7\",\"2022-05-11\",\"\\u6768\\u6d66\\u533a\"],[\"\\u5f00\\u9c81\\u56db\\u6751\",\"2022-05-11\",\"\\u6768\\u6d66\\u533a\"],[\"\\u63a7\\u6c5f\\u4e8c\\u6751\",\"2022-05-11\",\"\\u6768\\u6d66\\u533a\"],[\"\\u63a7\\u6c5f\\u8def128\\u5f04\",\"2022-05-11\",\"\\u6768\\u6d66\\u533a\"],[\"\\u63a7\\u6c5f\\u8def2202\\u53f7\",\"2022-05-11\",\"\\u6768\\u6d66\\u533a\"],[\"\\u63a7\\u6c5f\\u8def645\\u5f04\",\"2022-05-11\",\"\\u6768\\u6d66\\u533a\"],[\"\\u63a7\\u6c5f\\u8def740\\u5f04\",\"2022-05-11\",\"\\u6768\\u6d66\\u533a\"],[\"\\u63a7\\u6c5f\\u8def764\\u5f04\",\"2022-05-11\",\"\\u6768\\u6d66\\u533a\"],[\"\\u63a7\\u6c5f\\u8def802\\u5f04\",\"2022-05-11\",\"\\u6768\\u6d66\\u533a\"],[\"\\u63a7\\u6c5f\\u8def888\\u5f04\",\"2022-05-11\",\"\\u6768\\u6d66\\u533a\"],[\"\\u63a7\\u6c5f\\u4e03\\u6751\",\"2022-05-11\",\"\\u6768\\u6d66\\u533a\"],[\"\\u9686\\u660c\\u8def718\\u5f04\",\"2022-05-11\",\"\\u6768\\u6d66\\u533a\"],[\"\\u5185\\u6c5f\\u4e8c\\u6751\",\"2022-05-11\",\"\\u6768\\u6d66\\u533a\"],[\"\\u5185\\u6c5f\\u8def222\\u5f04\",\"2022-05-11\",\"\\u6768\\u6d66\\u533a\"],[\"\\u5185\\u6c5f\\u8def476\\u5f04\",\"2022-05-11\",\"\\u6768\\u6d66\\u533a\"],[\"\\u5b81\\u56fd\\u8def438\\u5f04\",\"2022-05-11\",\"\\u6768\\u6d66\\u533a\"],[\"\\u5e73\\u51c9\\u8def1545\\u5f04\",\"2022-05-11\",\"\\u6768\\u6d66\\u533a\"],[\"\\u5e73\\u51c9\\u8def1909\\u53f7\",\"2022-05-11\",\"\\u6768\\u6d66\\u533a\"],[\"\\u4e09\\u95e8\\u8def358\\u5f04\",\"2022-05-11\",\"\\u6768\\u6d66\\u533a\"],[\"\\u5e02\\u5149\\u4e8c\\u6751\",\"2022-05-11\",\"\\u6768\\u6d66\\u533a\"],[\"\\u5e02\\u5149\\u4e09\\u6751\",\"2022-05-11\",\"\\u6768\\u6d66\\u533a\"],[\"\\u53cc\\u8fbd\\u8def200\\u5f04\",\"2022-05-11\",\"\\u6768\\u6d66\\u533a\"],[\"\\u53cc\\u8fbd\\u652f\\u8def60\\u5f04\",\"2022-05-11\",\"\\u6768\\u6d66\\u533a\"],[\"\\u53cc\\u9633\\u5317\\u8def395\\u5f04\",\"2022-05-11\",\"\\u6768\\u6d66\\u533a\"],[\"\\u53cc\\u9633\\u8def68\\u5f04\",\"2022-05-11\",\"\\u6768\\u6d66\\u533a\"],[\"\\u56db\\u5e73\\u8def1028\\u5f04\",\"2022-05-11\",\"\\u6768\\u6d66\\u533a\"],[\"\\u56db\\u5e73\\u8def1230\\u53f7\",\"2022-05-11\",\"\\u6768\\u6d66\\u533a\"],[\"\\u56db\\u5e73\\u8def2100\\u5f04\",\"2022-05-11\",\"\\u6768\\u6d66\\u533a\"],[\"\\u94c1\\u5cad\\u8def50\\u5f04\",\"2022-05-11\",\"\\u6768\\u6d66\\u533a\"],[\"\\u540c\\u6d4e\\u65b0\\u6751\",\"2022-05-11\",\"\\u6768\\u6d66\\u533a\"],[\"\\u7fd4\\u6bb7\\u8def300\\u5f04\",\"2022-05-11\",\"\\u6768\\u6d66\\u533a\"],[\"\\u5ef6\\u5409\\u4e1c\\u8def130\\u5f04\",\"2022-05-11\",\"\\u6768\\u6d66\\u533a\"],[\"\\u5ef6\\u5409\\u4e1c\\u8def131\\u5f04\",\"2022-05-11\",\"\\u6768\\u6d66\\u533a\"],[\"\\u5ef6\\u5409\\u4e1c\\u8def137\\u5f04\",\"2022-05-11\",\"\\u6768\\u6d66\\u533a\"],[\"\\u5ef6\\u5409\\u4e1c\\u8def149\\u5f04\",\"2022-05-11\",\"\\u6768\\u6d66\\u533a\"],[\"\\u5ef6\\u5409\\u4e1c\\u8def315\\u5f04\",\"2022-05-11\",\"\\u6768\\u6d66\\u533a\"],[\"\\u5ef6\\u5409\\u4e2d\\u8def117\\u5f04\",\"2022-05-11\",\"\\u6768\\u6d66\\u533a\"],[\"\\u5ef6\\u5409\\u4e2d\\u8def95\\u53f7\",\"2022-05-11\",\"\\u6768\\u6d66\\u533a\"],[\"\\u6c38\\u5409\\u8def97\\u5f04\",\"2022-05-11\",\"\\u6768\\u6d66\\u533a\"],[\"\\u95f8\\u6bb7\\u8def60\\u5f04\",\"2022-05-11\",\"\\u6768\\u6d66\\u533a\"],[\"\\u5f70\\u6b66\\u8def120\\u5f04\",\"2022-05-11\",\"\\u6768\\u6d66\\u533a\"],[\"\\u653f\\u6c11\\u8def200\\u5f04\",\"2022-05-11\",\"\\u6768\\u6d66\\u533a\"],[\"\\u653f\\u8083\\u8def95\\u5f04\",\"2022-05-11\",\"\\u6768\\u6d66\\u533a\"],[\"\\u653f\\u901a\\u8def118\\u5f04\",\"2022-05-11\",\"\\u6768\\u6d66\\u533a\"],[\"\\u653f\\u5b66\\u8def39\\u53f7\",\"2022-05-11\",\"\\u6768\\u6d66\\u533a\"],[\"\\u5468\\u5bb6\\u5634\\u8def1299\\u5f04\",\"2022-05-11\",\"\\u6768\\u6d66\\u533a\"],[\"\\u6606\\u9633\\u8def3251\\u5f04\",\"2022-05-11\",\"\\u95f5\\u884c\\u533a\"],[\"\\u9ece\\u660e\\u8def155\\u5f04\",\"2022-05-11\",\"\\u95f5\\u884c\\u533a\"],[\"\\u95f5\\u9a70\\u4e00\\u8def208\\u5f04\",\"2022-05-11\",\"\\u95f5\\u884c\\u533a\"],[\"\\u6c34\\u6e05\\u8def1000\\u5f04\",\"2022-05-11\",\"\\u95f5\\u884c\\u533a\"],[\"\\u73e0\\u57ce\\u8def99\\u5f04\",\"2022-05-11\",\"\\u95f5\\u884c\\u533a\"],[\"\\u5b89\\u667a\\u8def2015\\u53f7\",\"2022-05-11\",\"\\u5609\\u5b9a\\u533a\"],[\"\\u6a0a\\u5bb6\\u6751\",\"2022-05-11\",\"\\u5609\\u5b9a\\u533a\"],[\"\\u5408\\u4f5c\\u8def719\\u5f04\",\"2022-05-11\",\"\\u5609\\u5b9a\\u533a\"],[\"\\u6caa\\u5b9c\\u516c\\u8def185\\u53f7\",\"2022-05-11\",\"\\u5609\\u5b9a\\u533a\"],[\"\\u6c47\\u901a\\u8def25\\u53f7\",\"2022-05-11\",\"\\u5609\\u5b9a\\u533a\"],[\"\\u5609\\u5cea\\u5173\\u8def379\\u5f04\",\"2022-05-11\",\"\\u5609\\u5b9a\\u533a\"],[\"\\u6c11\\u4e3b\\u8857500\\u5f04\",\"2022-05-11\",\"\\u5609\\u5b9a\\u533a\"],[\"\\u58a8\\u7389\\u8def362\\u5f04\",\"2022-05-11\",\"\\u5609\\u5b9a\\u533a\"],[\"\\u66f2\\u6c5f\\u8def15\\u5f04\",\"2022-05-11\",\"\\u5609\\u5b9a\\u533a\"],[\"\\u661f\\u706b\\u6751\",\"2022-05-11\",\"\\u5609\\u5b9a\\u533a\"],[\"\\u4e5d\\u65b0\\u516c\\u8def33\\u5f04\",\"2022-05-11\",\"\\u677e\\u6c5f\\u533a\"],[\"\\u6d9e\\u6cfe\\u8def328\\u5f04\",\"2022-05-11\",\"\\u677e\\u6c5f\\u533a\"],[\"\\u660e\\u4e2d\\u8def1800\\u5f04\",\"2022-05-11\",\"\\u677e\\u6c5f\\u533a\"],[\"\\u5f71\\u632f\\u8def299\\u5f04\",\"2022-05-11\",\"\\u677e\\u6c5f\\u533a\"],[\"\\u4e2d\\u5c71\\u4e8c\\u8def182\\u5f04\",\"2022-05-11\",\"\\u677e\\u6c5f\\u533a\"],[\"\\u5149\\u8054\\u6751\",\"2022-05-11\",\"\\u9752\\u6d66\\u533a\"],[\"\\u9f99\\u8054\\u8def58\\u5f04\",\"2022-05-11\",\"\\u9752\\u6d66\\u533a\"],[\"\\u9f99\\u8054\\u8def59\\u5f04\",\"2022-05-11\",\"\\u9752\\u6d66\\u533a\"],[\"\\u660e\\u73e0\\u8def785\\u5f04\",\"2022-05-11\",\"\\u9752\\u6d66\\u533a\"],[\"\\u6e05\\u6cb3\\u6e7e\\u8def699\\u5f04\",\"2022-05-11\",\"\\u9752\\u6d66\\u533a\"],[\"\\u80dc\\u5229\\u8def738\\u53f7\",\"2022-05-11\",\"\\u9752\\u6d66\\u533a\"],[\"\\u5d27\\u6cfd\\u5927\\u9053333\\u53f7\",\"2022-05-11\",\"\\u9752\\u6d66\\u533a\"],[\"\\u5f90\\u7075\\u8def200\\u5f04\",\"2022-05-11\",\"\\u9752\\u6d66\\u533a\"],[\"\\u5f90\\u7075\\u8def300\\u5f04\",\"2022-05-11\",\"\\u9752\\u6d66\\u533a\"],[\"\\u84b8\\u590f\\u8def\",\"2022-05-11\",\"\\u9752\\u6d66\\u533a\"],[\"\\u8bf8\\u5149\\u8def1355\\u5f04\",\"2022-05-11\",\"\\u9752\\u6d66\\u533a\"],[\"\\u8bf8\\u5149\\u8def498\\u53f7\",\"2022-05-11\",\"\\u9752\\u6d66\\u533a\"],[\"\\u8bf8\\u5149\\u8def85\\u5f04\",\"2022-05-11\",\"\\u9752\\u6d66\\u533a\"],[\"\\u82b1\\u535a\\u56ed\\u5317P3\\u4fdd\\u969c\\u70b9\",\"2022-05-11\",\"\\u5d07\\u660e\\u533a\"],[\"\\u5927\\u901a\\u8def388\\u53f7\",\"2022-05-11\",\"\\u5d07\\u660e\\u533a\"],[\"\\u5c42\\u6d77\\u8def\\u96c6\\u4e2d\\u758f\\u6563\\u70b9\",\"2022-05-11\",\"\\u5d07\\u660e\\u533a\"]],\"hovertemplate\":\"<b>%{hovertext}</b><br><br>lats=%{lat}<br>lons=%{lon}<br>address=%{customdata[0]}<br>date=%{customdata[1]}<br>district=%{customdata[2]}<extra></extra>\",\"hovertext\":[\"\\u5317\\u8521\\u9547\\u5357\\u65b0\\u6751\\u5434\\u5bb6\\u5b85\",\"\\u5317\\u8521\\u9547\\u536b\\u884c\\u6751\",\"\\u5317\\u8521\\u9547\\u4e94\\u661f\\u6751\\u9648\\u5bb6\\u961f\\u595a\\u5bb6\\u5b85\",\"\\u5317\\u8521\\u9547\\u5fa1\\u6865\\u6751\\u5370\\u5bb6\\u961f\\u4e1c\\u5370\\u5bb6\\u5708\",\"\\u5317\\u8521\\u9547\\u4e2d\\u754c\\u6751\\u9646\\u5bb6\\u961f\\u9646\\u5bb6\\u5b85\",\"\\u535a\\u5c71\\u4e1c\\u8def20\\u5f04\",\"\\u535a\\u5c71\\u8def11\\u5f04\",\"\\u957f\\u5c9b\\u8def1267\\u5f04\",\"\\u957f\\u6e05\\u8def693\\u5f04\",\"\\u660c\\u91cc\\u8def340\\u5f04\",\"\\u9648\\u6625\\u8def620\\u5f04\",\"\\u6210\\u5c71\\u8def24\\u5f04\",\"\\u6210\\u5c71\\u8def668\\u5f04\",\"\\u5fb7\\u5e73\\u8def1125\\u5f04\",\"\\u5ce8\\u5c71\\u8def605\\u5f04\",\"\\u7e41\\u9526\\u8def688\\u5f04\",\"\\u82b3\\u534e\\u8def371\\u5f04\",\"\\u82b3\\u534e\\u8def63\\u53f7\",\"\\u9ad8\\u79d1\\u897f\\u8def2763\\u5f04\",\"\\u9ad8\\u6865\\u9547\\u9646\\u51cc\\u6751\\u77bf\\u5bb6\\u5b85\",\"\\u9ad8\\u6865\\u9547\\u897f\\u6d5c\\u5934\",\"\\u9ad8\\u9752\\u8def4567\\u5f04\",\"\\u5d2e\\u5c71\\u8def968\\u53f7\",\"\\u6d77\\u7eb3\\u8def129\\u5f04\",\"\\u822a\\u5934\\u8def988\\u5f04\",\"\\u822a\\u5934\\u9547\\u822a\\u4e1c\\u6751\\u822a\\u5934\",\"\\u5408\\u5e86\\u9547\\u5411\\u4e1c\\u6751\\u9a6c\\u5bb6\\u5b85\",\"\\u548c\\u70af\\u8def77\\u5f04\",\"\\u9e64\\u6c38\\u8def751\\u5f04\",\"\\u6caa\\u5357\\u8def2688\\u5f04\",\"\\u73af\\u6865\\u8def1137\\u5f04\",\"\\u5b63\\u666f\\u5317\\u8def286\\u5f04\",\"\\u6d4e\\u9633\\u8def65\\u5f04\",\"\\u4f73\\u6797\\u8def959\\u53f7\",\"\\u91d1\\u6d77\\u8def\\u534e\\u8c10\\u8def\\u4ea4\\u754c\\u53e3\\u5de5\\u5730\\u751f\\u6d3b\\u533a\",\"\\u91d1\\u6865\\u8def1504\\u5f04\",\"\\u91d1\\u6865\\u8def2552\\u5f04\",\"\\u91d1\\u6865\\u8def2618\\u53f7\",\"\\u91d1\\u6e58\\u8def201\\u5f04\",\"\\u91d1\\u6768\\u8def660\\u5f04\",\"\\u5eb7\\u6865\\u8def90\\u5f04\",\"\\u79d1\\u519c\\u8def99\\u5f04\",\"\\u5d02\\u5c71\\u4e09\\u6751\",\"\\u5d02\\u5c71\\u56db\\u6751\",\"\\u5386\\u57ce\\u8def100\\u5f04\",\"\\u6797\\u5c55\\u8def267\\u5f04\",\"\\u6797\\u5c55\\u8def278\\u5f04\",\"\\u7075\\u5c71\\u8def1724\\u5f04\",\"\\u7075\\u5ca9\\u5357\\u8def156\\u5f04\",\"\\u51cc\\u5146\\u8def127\\u5f04\",\"\\u9f99\\u5c45\\u8def180\\u5f04\",\"\\u5357\\u7801\\u5934\\u8def1675\\u5f04\",\"\\u6d66\\u4e1c\\u5927\\u9053136\\u5f04\",\"\\u6d66\\u4e1c\\u5927\\u9053140\\u5f04\",\"\\u6d66\\u4e1c\\u5927\\u90531851\\u5f04\",\"\\u6d66\\u4e1c\\u5927\\u90532639\\u5f04\",\"\\u6d66\\u4e1c\\u5927\\u90532742\\u5f04\",\"\\u6d66\\u4e1c\\u5357\\u8def1700\\u5f04\",\"\\u6d66\\u4e09\\u8def5127\\u5f04\",\"\\u4e73\\u5c71\\u8def161\\u5f04\",\"\\u745e\\u9633\\u8def81\\u5f04\",\"\\u4e09\\u6797\\u8def200\\u53f7\",\"\\u4e09\\u6797\\u9547\\u80e1\\u5df7\\u6751\\u91d1\\u5bb6\\u5b85\",\"\\u4e09\\u6797\\u9547\\u80e1\\u5df7\\u6751\\u5434\\u5bb6\\u5b85\",\"\\u4e09\\u6797\\u9547\\u5929\\u82b1\\u5eb5\\u6751\\u5317\\u9648\\u961f\\u5927\\u9648\\u5bb6\\u5b85\",\"\\u4e09\\u6797\\u9547\\u5929\\u82b1\\u5eb5\\u6751\\u4e1c\\u77bf\\u961f\\u5927\\u77bf\\u5bb6\\u5b85\",\"\\u4e09\\u6797\\u9547\\u897f\\u6797\\u6751\\u5708\\u95e8\\u961f\\u897f\\u6797\\u8857\",\"\\u4e09\\u6797\\u9547\\u65b0\\u4efb\\u6751\",\"\\u4e0a\\u5357\\u8def4265\\u5f04\",\"\\u4e16\\u535a\\u5bb6\\u56ed\\u5927\\u9053\\u7ad9\\u8def94\\u5f04\",\"\\u601d\\u6d66\\u8def17\\u5f04\",\"\\u53f0\\u513f\\u5e84\\u8def363\\u5f04\",\"\\u4e94\\u83b2\\u8def108\\u5f04\",\"\\u897f\\u6cf0\\u6797\\u8def901\\u5f04\",\"\\u897f\\u8425\\u8def33\\u5f04\",\"\\u4e0b\\u5357\\u8def370\\u5f04\",\"\\u4e0b\\u5357\\u8def500\\u5f04\",\"\\u65b0\\u573a\\u9547\\u848b\\u6865\\u6751\",\"\\u65b0\\u573a\\u9547\\u5766\\u897f\\u6751\\u5766\\u5317\",\"\\u65b0\\u6d66\\u8def543\\u5f04\",\"\\u65b0\\u6d66\\u8def629\\u5f04\",\"\\u79c0\\u6cbf\\u8def2585\\u5f04\",\"\\u79c0\\u6cbf\\u8def2875\\u5f04\",\"\\u4e25\\u6865\\u8def150\\u5f04\",\"\\u6768\\u65b0\\u8def20\\u5f04\",\"\\u6768\\u65b0\\u8def80\\u5f04\",\"\\u8000\\u534e\\u8def414\\u5f04\",\"\\u8000\\u534e\\u8def500\\u5f04\",\"\\u61ff\\u884c\\u8def971\\u5f04\",\"\\u94f6\\u5c71\\u8def370\\u5f04\",\"\\u6c38\\u6cf0\\u8def2079\\u5f04\",\"\\u97f5\\u6d9b\\u8def36\\u5f04\",\"\\u67a3\\u5e84\\u8def210\\u5f04\",\"\\u67a3\\u5e84\\u8def212\\u5f04\",\"\\u5f20\\u6768\\u5317\\u8def512\\u5f04\",\"\\u8d75\\u9ad8\\u516c\\u8def958\\u53f7\",\"\\u7d2b\\u53f6\\u8def81\\u5f04\",\"\\u90b9\\u5e73\\u8def191\\u53f7\\u5de5\\u5730\\u751f\\u6d3b\\u533a\",\"\\u534a\\u6dde\\u56ed\\u8def650\\u53f7\",\"\\u4fdd\\u5c6f\\u8def211\\u5f04\",\"\\u6210\\u90fd\\u5317\\u8def262\\u5f04\",\"\\u957f\\u4e50\\u8def79\\u53f7\",\"\\u91cd\\u5e86\\u5317\\u8def177\\u5f04\",\"\\u91cd\\u5e86\\u5357\\u8def205\\u5f04\",\"\\u6253\\u6d66\\u8def316\\u5f04\",\"\\u6253\\u6d66\\u8def470\\u5f04\",\"\\u5927\\u592b\\u574a95\\u5f04\",\"\\u5927\\u6cbd\\u8def159\\u53f7\",\"\\u5927\\u6797\\u8def43\\u5f04\",\"\\u6de1\\u6c34\\u8def214\\u5f04\",\"\\u6de1\\u6c34\\u8def216\\u53f7\",\"\\u6de1\\u6c34\\u8def225\\u5f04\",\"\\u6de1\\u6c34\\u8def228\\u53f7\",\"\\u65b9\\u659c\\u8def409\\u53f7\",\"\\u798f\\u5efa\\u4e2d\\u8def195\\u5f04\",\"\\u798f\\u5efa\\u4e2d\\u8def225\\u53f7\",\"\\u798f\\u5dde\\u8def384\\u5f04\",\"\\u798f\\u5dde\\u8def614\\u5f04\",\"\\u590d\\u5174\\u4e1c\\u8def404\\u5f04\",\"\\u726f\\u5cad\\u8def172\\u53f7\",\"\\u5e7f\\u897f\\u5317\\u8def200\\u53f7\",\"\\u6d77\\u6f6e\\u8def93\\u5f04\",\"\\u6d77\\u53e3\\u8def9\\u53f7\",\"\\u6d77\\u5357\\u897f\\u5f0493\\u53f7\",\"\\u6cb3\\u5357\\u5357\\u8def1001\\u5f04\",\"\\u6cb3\\u5357\\u4e2d\\u8def575\\u5f04\",\"\\u6dee\\u6d77\\u4e2d\\u8def526\\u5f04\",\"\\u6dee\\u6d77\\u4e2d\\u8def899\\u5f04\",\"\\u6dee\\u6d77\\u4e2d\\u8def925\\u5f04\",\"\\u9ec4\\u6cb3\\u8def215\\u5f04\",\"\\u9ec4\\u6cb3\\u8def239\\u53f7\",\"\\u9ec4\\u6cb3\\u8def253\\u5f04\",\"\\u9ec4\\u6cb3\\u8def261\\u53f7\",\"\\u9ec4\\u6cb3\\u8def281\\u5f04\",\"\\u9ec4\\u6cb3\\u8def288\\u53f7\",\"\\u9ec4\\u5bb6\\u9619\\u8def68\\u5f04\",\"\\u5efa\\u56fd\\u4e1c\\u8def115\\u5f04\",\"\\u5efa\\u56fd\\u4e1c\\u8def143\\u5f04\",\"\\u5efa\\u56fd\\u4e1c\\u8def61\\u5f04\",\"\\u5efa\\u56fd\\u897f\\u8def91\\u5f04\",\"\\u6c5f\\u6ee8\\u8def258\\u53f7\",\"\\u6c5f\\u897f\\u4e2d\\u8def412\\u5f04\",\"\\u6c5f\\u897f\\u4e2d\\u8def44\\u5f04\",\"\\u6c5f\\u9634\\u8857401\\u5f04\",\"\\u8fdb\\u8d24\\u8def138\\u5f04\",\"\\u805a\\u594e\\u65b0\\u6751\",\"\\u4e3d\\u56ed\\u8def1016\\u5f04\",\"\\u4e3d\\u56ed\\u8def502\\u53f7\",\"\\u4e3d\\u56ed\\u8def883\\u53f7\",\"\\u67f3\\u5e02\\u8def1\\u5f04\",\"\\u9f99\\u534e\\u4e1c\\u8def888\\u5f04\",\"\\u9c81\\u73ed\\u8def509\\u5f04\",\"\\u9646\\u5bb6\\u6d5c\\u8def1256\\u5f04\",\"\\u9646\\u5bb6\\u6d5c\\u8def413\\u5f04\",\"\\u9646\\u5bb6\\u6d5c\\u8def468\\u5f04\",\"\\u9646\\u5bb6\\u6d5c\\u8def688\\u5f04\",\"\\u9a6c\\u5f53\\u8def278\\u5f04\",\"\\u8499\\u81ea\\u8def345\\u5f04\",\"\\u8499\\u81ea\\u8def601\\u5f04\",\"\\u9762\\u7b4b\\u5f0429\\u53f7\",\"\\u5357\\u660c\\u8def246\\u53f7\",\"\\u5357\\u8f66\\u7ad9\\u8def169\\u5f04\",\"\\u5357\\u8f66\\u7ad9\\u8def438\\u53f7\",\"\\u5357\\u4eac\\u4e1c\\u8def600\\u53f7\",\"\\u5357\\u4eac\\u897f\\u8def461\\u53f7\",\"\\u5b81\\u6ce2\\u8def540\\u53f7\",\"\\u5b81\\u6ce2\\u8def601\\u53f7\",\"\\u5e73\\u671b\\u885736\\u5f04\",\"\\u666e\\u80b2\\u4e1c\\u8def101\\u5f04\",\"\\u666e\\u80b2\\u4e1c\\u8def200\\u5f04\",\"\\u666e\\u80b2\\u4e1c\\u8def230\\u53f7\",\"\\u77bf\\u6eaa\\u8def1072\\u5f04\",\"\\u77bf\\u6eaa\\u8def117\\u53f7\",\"\\u77bf\\u6eaa\\u8def1200\\u5f04\",\"\\u77bf\\u6eaa\\u8def120\\u5f04\",\"\\u77bf\\u6eaa\\u8def122\\u53f7\",\"\\u77bf\\u6eaa\\u8def1240\\u5f04\",\"\\u77bf\\u6eaa\\u8def124\\u53f7\",\"\\u77bf\\u6eaa\\u8def1254\\u5f04\",\"\\u77bf\\u6eaa\\u8def129\\u53f7\",\"\\u77bf\\u6eaa\\u8def564\\u53f7\",\"\\u77bf\\u6eaa\\u8def566\\u53f7\",\"\\u77bf\\u6eaa\\u8def804\\u53f7\",\"\\u77bf\\u6eaa\\u8def883\\u5f04\",\"\\u77bf\\u6eaa\\u8def904\\u5f04\",\"\\u77bf\\u6eaa\\u8def937\\u5f04\",\"\\u6c5d\\u5357\\u885776\\u53f7\",\"\\u745e\\u91d1\\u4e8c\\u8def52\\u5f04\",\"\\u745e\\u91d1\\u4e8c\\u8def70\\u5f04\",\"\\u745e\\u91d1\\u5357\\u8def1\\u53f7\",\"\\u745e\\u91d1\\u5357\\u8def333\\u5f04\",\"\\u987a\\u660c\\u8def487\\u53f7\",\"\\u987a\\u660c\\u8def506\\u53f7\",\"\\u987a\\u660c\\u8def594\\u53f7\",\"\\u56db\\u5ddd\\u4e2d\\u8def627\\u53f7\",\"\\u56db\\u724c\\u697c\\u8def71\\u53f7\",\"\\u6cd7\\u6cfe\\u8def29\\u53f7\",\"\\u5929\\u6d25\\u8def170\\u5f04\",\"\\u543e\\u56ed\\u8857142\\u53f7\",\"\\u4e94\\u91cc\\u6865\\u8def235\\u5f04\",\"\\u897f\\u85cf\\u5357\\u8def1383\\u5f04\",\"\\u897f\\u51cc\\u5bb6\\u5b85\\u8def111\\u5f04\",\"\\u897f\\u51cc\\u5bb6\\u5b85\\u8def27\\u5f04\",\"\\u659c\\u571f\\u4e1c\\u8def265\\u5f04\",\"\\u659c\\u571f\\u4e1c\\u8def333\\u5f04\",\"\\u659c\\u571f\\u8def330\\u5f04\",\"\\u659c\\u571f\\u8def530\\u53f7\",\"\\u659c\\u571f\\u8def80\\u5f04\",\"\\u65b0\\u660c\\u8def288\\u53f7\",\"\\u65b0\\u660c\\u8def310\\u5f04\",\"\\u65b0\\u660c\\u8def332\\u53f7\",\"\\u5174\\u5b89\\u8def141\\u5f04\",\"\\u5b66\\u9662\\u8def70\\u53f7\",\"\\u5b66\\u9662\\u8def79\\u5f04\",\"\\u5de1\\u9053\\u885721\\u53f7\",\"\\u5de1\\u9053\\u88578\\u53f7\",\"\\u5ef6\\u5b89\\u4e1c\\u8def1292\\u5f04\",\"\\u6d59\\u6c5f\\u4e2d\\u8def118\\u5f04\",\"\\u5236\\u9020\\u5c40\\u8def365\\u5f04\",\"\\u5236\\u9020\\u5c40\\u8def370\\u5f04\",\"\\u5236\\u9020\\u5c40\\u8def455\\u5f04\",\"\\u5236\\u9020\\u5c40\\u8def529\\u53f7\",\"\\u5236\\u9020\\u5c40\\u8def567\\u5f04\",\"\\u4e2d\\u5c71\\u5357\\u8def1669\\u5f04\",\"\\u4e2d\\u5c71\\u5357\\u8def1726\\u5f04\",\"\\u4e2d\\u5c71\\u5357\\u8def891\\u53f7\",\"\\u4e2d\\u5c71\\u5357\\u4e00\\u8def1043\\u5f04\",\"\\u4e2d\\u5c71\\u5357\\u4e00\\u8def198\\u5f04\",\"\\u4e2d\\u5c71\\u5357\\u4e00\\u8def247\\u5f04\",\"\\u4e2d\\u5c71\\u5357\\u4e00\\u8def904\\u53f7\",\"\\u5e84\\u5bb6\\u885734\\u53f7\",\"\\u81ea\\u5fe0\\u8def428\\u53f7\",\"\\u5b9d\\u5c71\\u8def499\\u5f04\",\"\\u5b9d\\u5c71\\u8def581\\u53f7\",\"\\u5b9d\\u901a\\u8def210\\u53f7\",\"\\u5b9d\\u6e90\\u8def209\\u5f04\",\"\\u4fdd\\u5fb7\\u8def241\\u5f04\",\"\\u660c\\u5e73\\u8def421\\u5f04\",\"\\u660c\\u5e73\\u8def999\\u5f04\",\"\\u5e38\\u5fb7\\u8def545\\u5f04\",\"\\u5e38\\u5fb7\\u8def633\\u5f04\",\"\\u957f\\u4e50\\u8def638\\u5f04\",\"\\u957f\\u4e34\\u8def200\\u5f04\",\"\\u573a\\u4e2d\\u8def2155\\u5f04\",\"\\u573a\\u4e2d\\u8def2965\\u5f04\",\"\\u5927\\u7edf\\u8def933\\u5f04\",\"\\u5171\\u548c\\u65b0\\u8def1304\\u5f04\",\"\\u5171\\u548c\\u65b0\\u8def3616\\u5f04\",\"\\u5171\\u548c\\u65b0\\u8def619\\u5f04\",\"\\u5171\\u548c\\u65b0\\u8def655\\u5f04\",\"\\u5171\\u548c\\u65b0\\u8def966\\u53f7\",\"\\u5e7f\\u5ef6\\u8def350\\u5f04\",\"\\u6d77\\u9632\\u8def223\\u5f04\",\"\\u6d77\\u9632\\u8def338\\u5f04\",\"\\u6c49\\u4e2d\\u8def18\\u53f7\",\"\\u6c49\\u4e2d\\u8def28\\u5f04\",\"\\u6c49\\u4e2d\\u8def78\\u5f04\",\"\\u6caa\\u592a\\u8def1051\\u5f04\",\"\\u6caa\\u592a\\u8def549\\u53f7\",\"\\u6caa\\u592a\\u8def651\\u5f04\",\"\\u80f6\\u5dde\\u8def565\\u5f04\",\"\\u5eb7\\u5b9a\\u8def864\\u53f7\",\"\\u8001\\u6caa\\u592a\\u8def1291\\u5f04\",\"\\u8001\\u6caa\\u592a\\u8def250\\u5f04\",\"\\u4e34\\u6c7e\\u8def99\\u5f04\",\"\\u4e34\\u5c71\\u8def186\\u53f7\",\"\\u7075\\u77f3\\u8def666\\u5f04\",\"\\u67f3\\u8425\\u8def1025\\u5f04\",\"\\u67f3\\u8425\\u8def319\\u5f04\",\"\\u6d1b\\u5ddd\\u4e2d\\u8def1100\\u5f04\",\"\\u6bdb\\u5bb6\\u5f0478\\u53f7\",\"\\u5357\\u4eac\\u897f\\u8def591\\u5f04\",\"\\u5e73\\u578b\\u5173\\u8def121\\u5f04\",\"\\u5e73\\u578b\\u5173\\u8def305\\u5f04\",\"\\u666e\\u5584\\u8def\\u94c1\\u8def\\u65b0\\u675117\\u53f7\",\"\\u666e\\u5584\\u8def\\u94c1\\u8def\\u65b0\\u675121\\u53f7\",\"\\u666e\\u5584\\u8def\\u94c1\\u8def\\u65b0\\u675123\\u53f7\",\"\\u9752\\u4e91\\u8def315\\u5f04\",\"\\u866c\\u6c5f\\u8def1258\\u5f04\",\"\\u866c\\u6c5f\\u8def860\\u53f7\",\"\\u4e09\\u6cc9\\u8def821\\u5f04\",\"\\u9655\\u897f\\u5317\\u8def581\\u53f7\",\"\\u9655\\u897f\\u5317\\u8def835\\u5f04\",\"\\u9655\\u897f\\u5317\\u8def900\\u53f7\",\"\\u8c08\\u5bb6\\u6865\\u8def85\\u5f04\",\"\\u5929\\u76ee\\u4e2d\\u8def749\\u5f04\",\"\\u901a\\u9601\\u8def181\\u53f7\",\"\\u4e07\\u822a\\u6e21\\u8def463\\u53f7\",\"\\u95fb\\u559c\\u8def590\\u53f7\",\"\\u95fb\\u559c\\u8def935\\u5f04\",\"\\u897f\\u5b9d\\u5174\\u8def922\\u5f04\",\"\\u897f\\u85cf\\u5317\\u8def853\\u5f04\",\"\\u897f\\u5eb7\\u8def786\\u5f04\",\"\\u897f\\u5eb7\\u8def894\\u5f04\",\"\\u8944\\u9633\\u5317\\u8def44\\u5f04\",\"\\u5ef6\\u5e73\\u8def230\\u5f04\",\"\\u5ef6\\u5e73\\u8def340\\u5f04\",\"\\u5ef6\\u957f\\u4e2d\\u8def800\\u5f04\",\"\\u4f59\\u59da\\u8def19\\u53f7\",\"\\u4f59\\u59da\\u8def321\\u5f04\",\"\\u4fde\\u6cfe\\u6e2f\\u8def15\\u5f04\",\"\\u611a\\u56ed\\u8def488\\u5f04\",\"\\u6b62\\u56ed\\u8def320\\u5f04\",\"\\u82b7\\u6c5f\\u897f\\u8def123\\u5f04\",\"\\u82b7\\u6c5f\\u897f\\u8def285\\u5f04\",\"\\u82b7\\u6c5f\\u897f\\u8def393\\u5f04\",\"\\u82b7\\u6c5f\\u4e2d\\u8def413\\u5f04\",\"\\u82b7\\u6c5f\\u4e2d\\u8def495\\u5f04\",\"\\u82b7\\u6c5f\\u4e2d\\u8def531\\u5f04\",\"\\u4e2d\\u534e\\u65b0\\u8def487\\u53f7\",\"\\u4e2d\\u534e\\u65b0\\u8def706\\u53f7\",\"\\u4e2d\\u534e\\u65b0\\u8def730\\u5f04\",\"\\u4e2d\\u534e\\u65b0\\u8def893\\u5f04\",\"\\u4e2d\\u534e\\u65b0\\u8def939\\u5f04\",\"\\u4e2d\\u5c71\\u5317\\u8def1038\\u53f7\",\"\\u4e2d\\u5c71\\u5317\\u8def255\\u5f04\",\"\\u4e2d\\u5c71\\u5317\\u8def814\\u5f04\",\"\\u4e2d\\u5174\\u8def1321\\u5f04\",\"\\u4e2d\\u5174\\u8def1340\\u5f04\",\"\\u82cd\\u68a7\\u8def468\\u5f04\",\"\\u4e1c\\u5b89\\u8def452\\u53f7\",\"\\u4e1c\\u5b89\\u4e94\\u6751\",\"\\u4e1c\\u5b89\\u4e00\\u6751\",\"\\u590d\\u5174\\u4e2d\\u8def1199\\u53f7\",\"\\u590d\\u5174\\u4e2d\\u8def1315\\u5f04\",\"\\u6dee\\u6d77\\u897f\\u8def343\\u53f7\",\"\\u5efa\\u56fd\\u897f\\u8def316\\u5f04\",\"\\u51ef\\u65cb\\u8def2120\\u5f04\",\"\\u96f6\\u9675\\u8def639\\u53f7\",\"\\u9f99\\u534e\\u8def2381\\u5f04\",\"\\u9f99\\u534e\\u8def3208\\u5f04\",\"\\u9f99\\u534e\\u897f\\u8def21\\u5f04\",\"\\u9f99\\u534e\\u897f\\u8def31\\u5f04\",\"\\u7f57\\u79c0\\u8def717\\u5f04\",\"\\u5357\\u4e39\\u8def333\\u5f04\",\"\\u5b9b\\u5e73\\u5357\\u8def968\\u5f04\",\"\\u4e4c\\u9c81\\u6728\\u9f50\\u5357\\u8def75\\u5f04\",\"\\u5c0f\\u6728\\u6865\\u8def101\\u5f04\",\"\\u5c0f\\u6728\\u6865\\u8def360\\u5f04\",\"\\u5f90\\u8679\\u5317\\u8def18\\u5f04\",\"\\u4e2d\\u5c71\\u5357\\u4e8c\\u8def918\\u5f04\",\"\\u4e2d\\u5c71\\u897f\\u8def2020\\u53f7\",\"\\u66f9\\u6768\\u4e8c\\u6751\",\"\\u660c\\u5316\\u8def994\\u5f04\",\"\\u53e4\\u6d6a\\u8def518\\u5f04\",\"\\u9ec4\\u9675\\u8def200\\u5f04\",\"\\u4ea4\\u901a\\u8def1913\\u5f04\",\"\\u4ea4\\u901a\\u8def3193\\u5f04\",\"\\u4ea4\\u901a\\u897f\\u8def188\\u5f04\",\"\\u793c\\u6cc9\\u8def305\\u5f04\",\"\\u793c\\u6cc9\\u8def700\\u5f04\",\"\\u6012\\u6c5f\\u5317\\u8def219\\u5f04\",\"\\u666e\\u9640\\u56db\\u6751\",\"\\u94dc\\u5ddd\\u8def346\\u5f04\",\"\\u9999\\u6cc9\\u8def85\\u5f04\",\"\\u65b0\\u6751\\u8def170\\u5f04\",\"\\u65ec\\u9633\\u65b0\\u6751\",\"\\u771f\\u5982\\u897f\\u6751\",\"\\u5b89\\u56fe\\u65b0\\u6751\",\"\\u978d\\u5c71\\u8def63\\u53f7\",\"\\u978d\\u5c71\\u4e09\\u6751\",\"\\u957f\\u767d\\u4e09\\u6751\",\"\\u957f\\u9633\\u8def1220\\u5f04\",\"\\u957f\\u9633\\u8def2000\\u53f7\",\"\\u957f\\u9633\\u8def2080\\u53f7\",\"\\u5927\\u8fde\\u897f\\u8def4\\u5f04\",\"\\u51e4\\u57ce\\u4e09\\u6751\",\"\\u961c\\u65b0\\u8def169\\u5f04\",\"\\u5de5\\u519c\\u56db\\u6751\",\"\\u8d35\\u9633\\u8def422\\u53f7\",\"\\u56fd\\u6743\\u5317\\u8def17\\u53f7\",\"\\u56fd\\u6743\\u540e\\u8def19\\u53f7\",\"\\u56fd\\u4f1f\\u8def300\\u53f7\",\"\\u56fd\\u4f1f\\u8def58\\u5f04\",\"\\u6c5f\\u6d66\\u8def1275\\u5f04\",\"\\u6c5f\\u6d66\\u8def1315\\u5f04\",\"\\u6c5f\\u6d66\\u8def1424\\u5f04\",\"\\u9756\\u5b87\\u4e1c\\u8def58\\u5f04\",\"\\u519b\\u5de5\\u8def516\\u53f7\",\"\\u5f00\\u9c81\\u56db\\u6751\",\"\\u63a7\\u6c5f\\u4e8c\\u6751\",\"\\u63a7\\u6c5f\\u8def128\\u5f04\",\"\\u63a7\\u6c5f\\u8def2202\\u53f7\",\"\\u63a7\\u6c5f\\u8def645\\u5f04\",\"\\u63a7\\u6c5f\\u8def740\\u5f04\",\"\\u63a7\\u6c5f\\u8def764\\u5f04\",\"\\u63a7\\u6c5f\\u8def802\\u5f04\",\"\\u63a7\\u6c5f\\u8def888\\u5f04\",\"\\u63a7\\u6c5f\\u4e03\\u6751\",\"\\u9686\\u660c\\u8def718\\u5f04\",\"\\u5185\\u6c5f\\u4e8c\\u6751\",\"\\u5185\\u6c5f\\u8def222\\u5f04\",\"\\u5185\\u6c5f\\u8def476\\u5f04\",\"\\u5b81\\u56fd\\u8def438\\u5f04\",\"\\u5e73\\u51c9\\u8def1545\\u5f04\",\"\\u5e73\\u51c9\\u8def1909\\u53f7\",\"\\u4e09\\u95e8\\u8def358\\u5f04\",\"\\u5e02\\u5149\\u4e8c\\u6751\",\"\\u5e02\\u5149\\u4e09\\u6751\",\"\\u53cc\\u8fbd\\u8def200\\u5f04\",\"\\u53cc\\u8fbd\\u652f\\u8def60\\u5f04\",\"\\u53cc\\u9633\\u5317\\u8def395\\u5f04\",\"\\u53cc\\u9633\\u8def68\\u5f04\",\"\\u56db\\u5e73\\u8def1028\\u5f04\",\"\\u56db\\u5e73\\u8def1230\\u53f7\",\"\\u56db\\u5e73\\u8def2100\\u5f04\",\"\\u94c1\\u5cad\\u8def50\\u5f04\",\"\\u540c\\u6d4e\\u65b0\\u6751\",\"\\u7fd4\\u6bb7\\u8def300\\u5f04\",\"\\u5ef6\\u5409\\u4e1c\\u8def130\\u5f04\",\"\\u5ef6\\u5409\\u4e1c\\u8def131\\u5f04\",\"\\u5ef6\\u5409\\u4e1c\\u8def137\\u5f04\",\"\\u5ef6\\u5409\\u4e1c\\u8def149\\u5f04\",\"\\u5ef6\\u5409\\u4e1c\\u8def315\\u5f04\",\"\\u5ef6\\u5409\\u4e2d\\u8def117\\u5f04\",\"\\u5ef6\\u5409\\u4e2d\\u8def95\\u53f7\",\"\\u6c38\\u5409\\u8def97\\u5f04\",\"\\u95f8\\u6bb7\\u8def60\\u5f04\",\"\\u5f70\\u6b66\\u8def120\\u5f04\",\"\\u653f\\u6c11\\u8def200\\u5f04\",\"\\u653f\\u8083\\u8def95\\u5f04\",\"\\u653f\\u901a\\u8def118\\u5f04\",\"\\u653f\\u5b66\\u8def39\\u53f7\",\"\\u5468\\u5bb6\\u5634\\u8def1299\\u5f04\",\"\\u6606\\u9633\\u8def3251\\u5f04\",\"\\u9ece\\u660e\\u8def155\\u5f04\",\"\\u95f5\\u9a70\\u4e00\\u8def208\\u5f04\",\"\\u6c34\\u6e05\\u8def1000\\u5f04\",\"\\u73e0\\u57ce\\u8def99\\u5f04\",\"\\u5b89\\u667a\\u8def2015\\u53f7\",\"\\u6a0a\\u5bb6\\u6751\",\"\\u5408\\u4f5c\\u8def719\\u5f04\",\"\\u6caa\\u5b9c\\u516c\\u8def185\\u53f7\",\"\\u6c47\\u901a\\u8def25\\u53f7\",\"\\u5609\\u5cea\\u5173\\u8def379\\u5f04\",\"\\u6c11\\u4e3b\\u8857500\\u5f04\",\"\\u58a8\\u7389\\u8def362\\u5f04\",\"\\u66f2\\u6c5f\\u8def15\\u5f04\",\"\\u661f\\u706b\\u6751\",\"\\u4e5d\\u65b0\\u516c\\u8def33\\u5f04\",\"\\u6d9e\\u6cfe\\u8def328\\u5f04\",\"\\u660e\\u4e2d\\u8def1800\\u5f04\",\"\\u5f71\\u632f\\u8def299\\u5f04\",\"\\u4e2d\\u5c71\\u4e8c\\u8def182\\u5f04\",\"\\u5149\\u8054\\u6751\",\"\\u9f99\\u8054\\u8def58\\u5f04\",\"\\u9f99\\u8054\\u8def59\\u5f04\",\"\\u660e\\u73e0\\u8def785\\u5f04\",\"\\u6e05\\u6cb3\\u6e7e\\u8def699\\u5f04\",\"\\u80dc\\u5229\\u8def738\\u53f7\",\"\\u5d27\\u6cfd\\u5927\\u9053333\\u53f7\",\"\\u5f90\\u7075\\u8def200\\u5f04\",\"\\u5f90\\u7075\\u8def300\\u5f04\",\"\\u84b8\\u590f\\u8def\",\"\\u8bf8\\u5149\\u8def1355\\u5f04\",\"\\u8bf8\\u5149\\u8def498\\u53f7\",\"\\u8bf8\\u5149\\u8def85\\u5f04\",\"\\u82b1\\u535a\\u56ed\\u5317P3\\u4fdd\\u969c\\u70b9\",\"\\u5927\\u901a\\u8def388\\u53f7\",\"\\u5c42\\u6d77\\u8def\\u96c6\\u4e2d\\u758f\\u6563\\u70b9\"],\"lat\":[31.166024,31.164888,31.156231,31.168008,31.189333,31.245715,31.244754,31.262167,31.157702,31.173465,31.173033,31.167477,31.17049,31.242135,31.215101,31.314649,31.196189,31.194284,31.190903,31.028049,31.341824,31.171796,31.235106,31.292052,31.037139,31.027272,31.233344,31.120729,31.071962,31.137251,31.135988,31.342785,31.167125,31.26476,31.266549,31.249353,31.234305,31.233278,31.256042,31.251365,31.148625,31.172759,31.234973,31.033059,31.174652,31.128081,31.127371,31.239233,31.15926,31.142502,31.252291,31.175555,31.237854,31.238995,31.247485,31.264496,31.266513,31.217397,31.194141,31.235696,31.099186,31.136573,31.153024,31.153024,31.124551,31.122769,31.134131,31.156377,31.144811,31.158611,31.158408,31.258958,31.277821,31.143324,31.17093,31.168997,31.171908,31.047168,31.079024,31.16978,31.169812,31.138128,31.13811,31.189416,31.164849,31.164221,31.172881,31.171864,31.126406,31.245383,31.150552,31.341112,31.256854,31.257073,31.264841,31.311896,31.183365,31.170622,31.19866,31.204195,31.228725,31.221999,31.226355,31.214804,31.2,31.197153,31.225675,31.226224,31.213807,31.217299,31.217315,31.216915,31.217187,31.214518,31.233681,31.234301,31.234521,31.23294,31.22142,31.235959,31.23268,31.210443,31.231319,31.21113,31.213738,31.239889,31.221279,31.216857,31.216595,31.236549,31.236902,31.237035,31.236941,31.237082,31.237691,31.215193,31.212923,31.21235,31.213129,31.206741,31.191421,31.241597,31.232672,31.213356,31.222118,31.223319,31.205425,31.207481,31.206607,31.213386,31.192852,31.201376,31.211234,31.211931,31.210448,31.211842,31.21732,31.203383,31.199836,31.220674,31.217839,31.208267,31.205412,31.235862,31.230798,31.236933,31.236565,31.232049,31.20984,31.207939,31.207752,31.197616,31.206888,31.196166,31.206897,31.20634,31.197625,31.206269,31.197232,31.206155,31.201505,31.201511,31.200832,31.201069,31.199953,31.200753,31.202654,31.215942,31.215493,31.204818,31.198135,31.213166,31.212783,31.211293,31.242423,31.22432,31.233148,31.238767,31.217519,31.203821,31.205591,31.204292,31.204671,31.207836,31.20736,31.204254,31.203108,31.206115,31.235807,31.23634,31.236427,31.220986,31.223151,31.223567,31.220643,31.220893,31.225502,31.23193,31.205486,31.205536,31.204846,31.203871,31.203569,31.204735,31.204479,31.21289,31.196069,31.199796,31.200766,31.196305,31.220483,31.217968,31.257829,31.259047,31.256135,31.256966,31.31729,31.235685,31.232315,31.230194,31.23057,31.218968,31.312861,31.302462,31.30606,31.255,31.263802,31.303477,31.254367,31.254949,31.259188,31.276102,31.239228,31.238791,31.243634,31.243237,31.242999,31.276951,31.256999,31.26097,31.232852,31.231131,31.269762,31.267079,31.310179,31.254817,31.28186,31.262327,31.269197,31.262327,31.256458,31.230717,31.275652,31.270615,31.255907,31.256196,31.256279,31.264064,31.249939,31.25209,31.315956,31.232356,31.23576,31.236796,31.259949,31.245985,31.260011,31.225182,31.308821,31.307597,31.269446,31.256113,31.237148,31.238755,31.21949,31.230425,31.232116,31.264061,31.236038,31.234995,31.266444,31.2225,31.258439,31.259435,31.257666,31.257933,31.259762,31.259863,31.258489,31.253814,31.253546,31.253388,31.254875,31.254744,31.258183,31.266497,31.259257,31.25333,31.252115,31.178364,31.188673,31.184403,31.18792,31.212626,31.21164,31.197047,31.205511,31.191079,31.187591,31.181331,31.169168,31.167273,31.169994,31.131225,31.190707,31.18209,31.20564,31.201865,31.19485,31.188617,31.184035,31.182031,31.24243,31.245903,31.285659,31.264746,31.256573,31.262027,31.257332,31.255582,31.25416,31.235388,31.235454,31.252699,31.263875,31.266216,31.252549,31.247734,31.289662,31.275325,31.278185,31.288741,31.265673,31.271833,31.272503,31.276289,31.281809,31.277021,31.320646,31.272491,31.309386,31.289469,31.332156,31.331633,31.270829,31.271158,31.273812,31.293031,31.292073,31.325903,31.280265,31.288854,31.272569,31.284295,31.284843,31.283947,31.28323,31.282489,31.282514,31.283713,31.284665,31.279513,31.285886,31.267391,31.266482,31.269779,31.309728,31.316532,31.317616,31.270418,31.269909,31.298484,31.272558,31.277613,31.278771,31.293447,31.279076,31.283395,31.309141,31.292262,31.29363,31.292514,31.287644,31.289543,31.283924,31.28404,31.284029,31.336249,31.283156,31.302656,31.293975,31.304283,31.306242,31.263736,31.021796,31.129158,31.040451,31.126032,31.103497,31.262036,31.340798,31.335254,31.28991,31.070464,31.271325,31.287556,31.299394,31.255471,31.080769,31.135209,31.113458,31.073994,31.005225,31.01026,31.165268,31.198151,31.196163,31.179497,31.168397,31.170589,31.189984,31.199394,31.198543,30.996727,31.18335,31.166188,31.159411,31.046774,31.545925,31.482258],\"legendgroup\":\"\",\"lon\":[121.543294,121.581392,121.550453,121.558022,121.567958,121.560013,121.55901,121.594192,121.491042,121.491933,121.546478,121.487151,121.513213,121.568479,121.521407,121.586405,121.557784,121.551825,121.554636,121.808693,121.58241,121.562321,121.561694,121.670327,121.600383,121.590554,121.743897,121.501064,121.604858,121.566651,121.602255,121.583065,121.480734,121.61232,121.658956,121.589386,121.601672,121.604362,121.612833,121.581693,121.565132,121.64303,121.518632,121.139543,121.492379,121.507403,121.50587,121.56925,121.494344,121.492416,121.5631,121.514545,121.51481,121.515116,121.54482,121.568316,121.572105,121.518486,121.51365,121.52167,121.586537,121.496372,121.518334,121.518334,121.520595,121.534302,121.496858,121.496519,121.510698,121.539231,121.493107,121.594088,121.598898,121.53861,121.48409,121.54057,121.537641,121.661042,121.630117,121.53039,121.530726,121.604331,121.612972,121.527587,121.496323,121.492901,121.486355,121.482347,121.513969,121.58375,121.540728,121.283066,121.571018,121.571893,121.589721,121.629995,121.551123,121.515008,121.494751,121.492823,121.468184,121.468429,121.469074,121.472121,121.4712,121.472656,121.480513,121.471119,121.487467,121.472414,121.473143,121.473523,121.473172,121.483378,121.481047,121.48103,121.482857,121.478802,121.49661,121.470603,121.478137,121.499306,121.480931,121.496627,121.495237,121.48478,121.469173,121.460473,121.460308,121.46886,121.469426,121.468954,121.469203,121.468602,121.469512,121.487196,121.478778,121.479159,121.479843,121.464514,121.47164,121.485698,121.488078,121.48841,121.459534,121.496233,121.47224,121.48203,121.475289,121.499212,121.471105,121.478394,121.485126,121.499154,121.496262,121.49461,121.474068,121.479028,121.481454,121.49845,121.464763,121.491921,121.49316,121.479071,121.468201,121.477241,121.476229,121.479269,121.496278,121.495667,121.495645,121.47451,121.49522,121.471223,121.495698,121.494457,121.470715,121.494314,121.470572,121.493777,121.485911,121.485906,121.481193,121.478613,121.479331,121.478169,121.484098,121.464185,121.463989,121.468082,121.469078,121.47942,121.479233,121.479553,121.486074,121.495469,121.486413,121.483,121.490939,121.480045,121.488386,121.486254,121.48723,121.486555,121.485712,121.478896,121.476311,121.482963,121.468352,121.468318,121.467954,121.470785,121.495971,121.49584,121.497524,121.497416,121.471068,121.479987,121.484989,121.483618,121.484772,121.484826,121.485503,121.495179,121.493559,121.506415,121.47266,121.488759,121.486427,121.47552,121.488413,121.47265,121.478172,121.478249,121.478081,121.480094,121.463582,121.447178,121.437499,121.445843,121.444306,121.454248,121.434893,121.41794,121.436715,121.459594,121.458861,121.448343,121.464905,121.464125,121.461966,121.455327,121.449026,121.446519,121.460009,121.45988,121.459136,121.429618,121.450749,121.448774,121.440563,121.440751,121.441767,121.452069,121.466135,121.473754,121.445675,121.451029,121.46183,121.451029,121.452458,121.465703,121.46033,121.466354,121.454743,121.452876,121.453125,121.472748,121.468791,121.476179,121.439049,121.451846,121.44861,121.448004,121.453112,121.461127,121.470504,121.435683,121.456589,121.448145,121.46774,121.466606,121.444428,121.443432,121.45476,121.440101,121.438832,121.446473,121.444096,121.438109,121.464451,121.43894,121.469343,121.465367,121.461234,121.457444,121.470424,121.471421,121.468426,121.464815,121.460295,121.459917,121.456916,121.455049,121.451217,121.469161,121.457964,121.461833,121.461111,121.411116,121.455513,121.452654,121.458485,121.458861,121.45494,121.425294,121.457448,121.424728,121.446065,121.452142,121.446755,121.448802,121.45013,121.434876,121.430627,121.452351,121.448984,121.457998,121.45969,121.428403,121.448447,121.427087,121.40356,121.445781,121.384116,121.428995,121.440005,121.412366,121.448555,121.414921,121.407489,121.394334,121.415727,121.413451,121.410871,121.439623,121.424334,121.401488,121.539971,121.512486,121.512775,121.539052,121.526587,121.540418,121.541184,121.499603,121.521856,121.506143,121.537694,121.552103,121.496373,121.504976,121.533244,121.537608,121.519799,121.519113,121.519296,121.541338,121.552151,121.530451,121.52608,121.545014,121.507846,121.540114,121.538882,121.536901,121.536717,121.535189,121.531742,121.537367,121.543483,121.547673,121.545358,121.535452,121.5389,121.545219,121.492738,121.541396,121.536443,121.5182,121.51591,121.528043,121.537066,121.506692,121.504795,121.512913,121.513438,121.509848,121.540929,121.543387,121.544525,121.547034,121.539944,121.542889,121.536279,121.532252,121.533688,121.525659,121.513101,121.509338,121.505389,121.515767,121.510281,121.5102,121.364878,121.377701,121.542989,121.376316,121.386273,121.191387,121.292039,121.257607,121.316279,121.398815,121.31355,121.303989,121.162771,121.34885,121.768604,121.317369,121.341438,121.318989,121.309007,121.23115,121.315319,121.297212,121.298709,121.263849,121.096856,121.104254,121.302151,121.29436,121.292485,121.067035,121.299902,121.313757,121.319164,121.408857,121.617932,121.844648],\"marker\":{\"color\":\"#636efa\"},\"mode\":\"markers\",\"name\":\"\",\"showlegend\":false,\"subplot\":\"mapbox\",\"type\":\"scattermapbox\"}],                        {\"template\":{\"data\":{\"histogram2dcontour\":[{\"type\":\"histogram2dcontour\",\"colorbar\":{\"outlinewidth\":0,\"ticks\":\"\"},\"colorscale\":[[0.0,\"#0d0887\"],[0.1111111111111111,\"#46039f\"],[0.2222222222222222,\"#7201a8\"],[0.3333333333333333,\"#9c179e\"],[0.4444444444444444,\"#bd3786\"],[0.5555555555555556,\"#d8576b\"],[0.6666666666666666,\"#ed7953\"],[0.7777777777777778,\"#fb9f3a\"],[0.8888888888888888,\"#fdca26\"],[1.0,\"#f0f921\"]]}],\"choropleth\":[{\"type\":\"choropleth\",\"colorbar\":{\"outlinewidth\":0,\"ticks\":\"\"}}],\"histogram2d\":[{\"type\":\"histogram2d\",\"colorbar\":{\"outlinewidth\":0,\"ticks\":\"\"},\"colorscale\":[[0.0,\"#0d0887\"],[0.1111111111111111,\"#46039f\"],[0.2222222222222222,\"#7201a8\"],[0.3333333333333333,\"#9c179e\"],[0.4444444444444444,\"#bd3786\"],[0.5555555555555556,\"#d8576b\"],[0.6666666666666666,\"#ed7953\"],[0.7777777777777778,\"#fb9f3a\"],[0.8888888888888888,\"#fdca26\"],[1.0,\"#f0f921\"]]}],\"heatmap\":[{\"type\":\"heatmap\",\"colorbar\":{\"outlinewidth\":0,\"ticks\":\"\"},\"colorscale\":[[0.0,\"#0d0887\"],[0.1111111111111111,\"#46039f\"],[0.2222222222222222,\"#7201a8\"],[0.3333333333333333,\"#9c179e\"],[0.4444444444444444,\"#bd3786\"],[0.5555555555555556,\"#d8576b\"],[0.6666666666666666,\"#ed7953\"],[0.7777777777777778,\"#fb9f3a\"],[0.8888888888888888,\"#fdca26\"],[1.0,\"#f0f921\"]]}],\"heatmapgl\":[{\"type\":\"heatmapgl\",\"colorbar\":{\"outlinewidth\":0,\"ticks\":\"\"},\"colorscale\":[[0.0,\"#0d0887\"],[0.1111111111111111,\"#46039f\"],[0.2222222222222222,\"#7201a8\"],[0.3333333333333333,\"#9c179e\"],[0.4444444444444444,\"#bd3786\"],[0.5555555555555556,\"#d8576b\"],[0.6666666666666666,\"#ed7953\"],[0.7777777777777778,\"#fb9f3a\"],[0.8888888888888888,\"#fdca26\"],[1.0,\"#f0f921\"]]}],\"contourcarpet\":[{\"type\":\"contourcarpet\",\"colorbar\":{\"outlinewidth\":0,\"ticks\":\"\"}}],\"contour\":[{\"type\":\"contour\",\"colorbar\":{\"outlinewidth\":0,\"ticks\":\"\"},\"colorscale\":[[0.0,\"#0d0887\"],[0.1111111111111111,\"#46039f\"],[0.2222222222222222,\"#7201a8\"],[0.3333333333333333,\"#9c179e\"],[0.4444444444444444,\"#bd3786\"],[0.5555555555555556,\"#d8576b\"],[0.6666666666666666,\"#ed7953\"],[0.7777777777777778,\"#fb9f3a\"],[0.8888888888888888,\"#fdca26\"],[1.0,\"#f0f921\"]]}],\"surface\":[{\"type\":\"surface\",\"colorbar\":{\"outlinewidth\":0,\"ticks\":\"\"},\"colorscale\":[[0.0,\"#0d0887\"],[0.1111111111111111,\"#46039f\"],[0.2222222222222222,\"#7201a8\"],[0.3333333333333333,\"#9c179e\"],[0.4444444444444444,\"#bd3786\"],[0.5555555555555556,\"#d8576b\"],[0.6666666666666666,\"#ed7953\"],[0.7777777777777778,\"#fb9f3a\"],[0.8888888888888888,\"#fdca26\"],[1.0,\"#f0f921\"]]}],\"mesh3d\":[{\"type\":\"mesh3d\",\"colorbar\":{\"outlinewidth\":0,\"ticks\":\"\"}}],\"scatter\":[{\"fillpattern\":{\"fillmode\":\"overlay\",\"size\":10,\"solidity\":0.2},\"type\":\"scatter\"}],\"parcoords\":[{\"type\":\"parcoords\",\"line\":{\"colorbar\":{\"outlinewidth\":0,\"ticks\":\"\"}}}],\"scatterpolargl\":[{\"type\":\"scatterpolargl\",\"marker\":{\"colorbar\":{\"outlinewidth\":0,\"ticks\":\"\"}}}],\"bar\":[{\"error_x\":{\"color\":\"#2a3f5f\"},\"error_y\":{\"color\":\"#2a3f5f\"},\"marker\":{\"line\":{\"color\":\"#E5ECF6\",\"width\":0.5},\"pattern\":{\"fillmode\":\"overlay\",\"size\":10,\"solidity\":0.2}},\"type\":\"bar\"}],\"scattergeo\":[{\"type\":\"scattergeo\",\"marker\":{\"colorbar\":{\"outlinewidth\":0,\"ticks\":\"\"}}}],\"scatterpolar\":[{\"type\":\"scatterpolar\",\"marker\":{\"colorbar\":{\"outlinewidth\":0,\"ticks\":\"\"}}}],\"histogram\":[{\"marker\":{\"pattern\":{\"fillmode\":\"overlay\",\"size\":10,\"solidity\":0.2}},\"type\":\"histogram\"}],\"scattergl\":[{\"type\":\"scattergl\",\"marker\":{\"colorbar\":{\"outlinewidth\":0,\"ticks\":\"\"}}}],\"scatter3d\":[{\"type\":\"scatter3d\",\"line\":{\"colorbar\":{\"outlinewidth\":0,\"ticks\":\"\"}},\"marker\":{\"colorbar\":{\"outlinewidth\":0,\"ticks\":\"\"}}}],\"scattermapbox\":[{\"type\":\"scattermapbox\",\"marker\":{\"colorbar\":{\"outlinewidth\":0,\"ticks\":\"\"}}}],\"scatterternary\":[{\"type\":\"scatterternary\",\"marker\":{\"colorbar\":{\"outlinewidth\":0,\"ticks\":\"\"}}}],\"scattercarpet\":[{\"type\":\"scattercarpet\",\"marker\":{\"colorbar\":{\"outlinewidth\":0,\"ticks\":\"\"}}}],\"carpet\":[{\"aaxis\":{\"endlinecolor\":\"#2a3f5f\",\"gridcolor\":\"white\",\"linecolor\":\"white\",\"minorgridcolor\":\"white\",\"startlinecolor\":\"#2a3f5f\"},\"baxis\":{\"endlinecolor\":\"#2a3f5f\",\"gridcolor\":\"white\",\"linecolor\":\"white\",\"minorgridcolor\":\"white\",\"startlinecolor\":\"#2a3f5f\"},\"type\":\"carpet\"}],\"table\":[{\"cells\":{\"fill\":{\"color\":\"#EBF0F8\"},\"line\":{\"color\":\"white\"}},\"header\":{\"fill\":{\"color\":\"#C8D4E3\"},\"line\":{\"color\":\"white\"}},\"type\":\"table\"}],\"barpolar\":[{\"marker\":{\"line\":{\"color\":\"#E5ECF6\",\"width\":0.5},\"pattern\":{\"fillmode\":\"overlay\",\"size\":10,\"solidity\":0.2}},\"type\":\"barpolar\"}],\"pie\":[{\"automargin\":true,\"type\":\"pie\"}]},\"layout\":{\"autotypenumbers\":\"strict\",\"colorway\":[\"#636efa\",\"#EF553B\",\"#00cc96\",\"#ab63fa\",\"#FFA15A\",\"#19d3f3\",\"#FF6692\",\"#B6E880\",\"#FF97FF\",\"#FECB52\"],\"font\":{\"color\":\"#2a3f5f\"},\"hovermode\":\"closest\",\"hoverlabel\":{\"align\":\"left\"},\"paper_bgcolor\":\"white\",\"plot_bgcolor\":\"#E5ECF6\",\"polar\":{\"bgcolor\":\"#E5ECF6\",\"angularaxis\":{\"gridcolor\":\"white\",\"linecolor\":\"white\",\"ticks\":\"\"},\"radialaxis\":{\"gridcolor\":\"white\",\"linecolor\":\"white\",\"ticks\":\"\"}},\"ternary\":{\"bgcolor\":\"#E5ECF6\",\"aaxis\":{\"gridcolor\":\"white\",\"linecolor\":\"white\",\"ticks\":\"\"},\"baxis\":{\"gridcolor\":\"white\",\"linecolor\":\"white\",\"ticks\":\"\"},\"caxis\":{\"gridcolor\":\"white\",\"linecolor\":\"white\",\"ticks\":\"\"}},\"coloraxis\":{\"colorbar\":{\"outlinewidth\":0,\"ticks\":\"\"}},\"colorscale\":{\"sequential\":[[0.0,\"#0d0887\"],[0.1111111111111111,\"#46039f\"],[0.2222222222222222,\"#7201a8\"],[0.3333333333333333,\"#9c179e\"],[0.4444444444444444,\"#bd3786\"],[0.5555555555555556,\"#d8576b\"],[0.6666666666666666,\"#ed7953\"],[0.7777777777777778,\"#fb9f3a\"],[0.8888888888888888,\"#fdca26\"],[1.0,\"#f0f921\"]],\"sequentialminus\":[[0.0,\"#0d0887\"],[0.1111111111111111,\"#46039f\"],[0.2222222222222222,\"#7201a8\"],[0.3333333333333333,\"#9c179e\"],[0.4444444444444444,\"#bd3786\"],[0.5555555555555556,\"#d8576b\"],[0.6666666666666666,\"#ed7953\"],[0.7777777777777778,\"#fb9f3a\"],[0.8888888888888888,\"#fdca26\"],[1.0,\"#f0f921\"]],\"diverging\":[[0,\"#8e0152\"],[0.1,\"#c51b7d\"],[0.2,\"#de77ae\"],[0.3,\"#f1b6da\"],[0.4,\"#fde0ef\"],[0.5,\"#f7f7f7\"],[0.6,\"#e6f5d0\"],[0.7,\"#b8e186\"],[0.8,\"#7fbc41\"],[0.9,\"#4d9221\"],[1,\"#276419\"]]},\"xaxis\":{\"gridcolor\":\"white\",\"linecolor\":\"white\",\"ticks\":\"\",\"title\":{\"standoff\":15},\"zerolinecolor\":\"white\",\"automargin\":true,\"zerolinewidth\":2},\"yaxis\":{\"gridcolor\":\"white\",\"linecolor\":\"white\",\"ticks\":\"\",\"title\":{\"standoff\":15},\"zerolinecolor\":\"white\",\"automargin\":true,\"zerolinewidth\":2},\"scene\":{\"xaxis\":{\"backgroundcolor\":\"#E5ECF6\",\"gridcolor\":\"white\",\"linecolor\":\"white\",\"showbackground\":true,\"ticks\":\"\",\"zerolinecolor\":\"white\",\"gridwidth\":2},\"yaxis\":{\"backgroundcolor\":\"#E5ECF6\",\"gridcolor\":\"white\",\"linecolor\":\"white\",\"showbackground\":true,\"ticks\":\"\",\"zerolinecolor\":\"white\",\"gridwidth\":2},\"zaxis\":{\"backgroundcolor\":\"#E5ECF6\",\"gridcolor\":\"white\",\"linecolor\":\"white\",\"showbackground\":true,\"ticks\":\"\",\"zerolinecolor\":\"white\",\"gridwidth\":2}},\"shapedefaults\":{\"line\":{\"color\":\"#2a3f5f\"}},\"annotationdefaults\":{\"arrowcolor\":\"#2a3f5f\",\"arrowhead\":0,\"arrowwidth\":1},\"geo\":{\"bgcolor\":\"white\",\"landcolor\":\"#E5ECF6\",\"subunitcolor\":\"white\",\"showland\":true,\"showlakes\":true,\"lakecolor\":\"white\"},\"title\":{\"x\":0.05},\"mapbox\":{\"style\":\"light\"}}},\"mapbox\":{\"domain\":{\"x\":[0.0,1.0],\"y\":[0.0,1.0]},\"center\":{\"lon\":121.48199324347826,\"lat\":31.22510969347826},\"accesstoken\":\"pk.eyJ1IjoiaHlkZXJwYW5nIiwiYSI6ImNsMG9scjg4ODFyanQzZWtjNmo4eGFnejIifQ.aG1jghcxkxmeN1xTYs6S9w\",\"zoom\":8},\"legend\":{\"tracegroupgap\":0},\"title\":{\"text\":\"Shanghai COVID Atlas\"},\"annotations\":[{\"font\":{\"color\":\"red\",\"family\":\"Arial\",\"size\":12},\"showarrow\":false,\"text\":\"2022\\u5e745\\u670811\\u65e5The author is not responsible for the boundaries on the map.\",\"x\":0,\"y\":0}]},                        {\"responsive\": true}                    ).then(function(){\n",
       "                            \n",
       "var gd = document.getElementById('0913f807-0dfa-4878-b66d-7bef8b6a3d8a');\n",
       "var x = new MutationObserver(function (mutations, observer) {{\n",
       "        var display = window.getComputedStyle(gd).display;\n",
       "        if (!display || display === 'none') {{\n",
       "            console.log([gd, 'removed!']);\n",
       "            Plotly.purge(gd);\n",
       "            observer.disconnect();\n",
       "        }}\n",
       "}});\n",
       "\n",
       "// Listen for the removal of the full notebook cells\n",
       "var notebookContainer = gd.closest('#notebook-container');\n",
       "if (notebookContainer) {{\n",
       "    x.observe(notebookContainer, {childList: true});\n",
       "}}\n",
       "\n",
       "// Listen for the clearing of the current output cell\n",
       "var outputEl = gd.closest('.output');\n",
       "if (outputEl) {{\n",
       "    x.observe(outputEl, {childList: true});\n",
       "}}\n",
       "\n",
       "                        })                };                });            </script>        </div>"
      ]
     },
     "metadata": {},
     "output_type": "display_data"
    }
   ],
   "source": [
    "import plotly.graph_objects as go\n",
    "import plotly.express as px\n",
    "import plotly.offline as pltoff\n",
    "\n",
    "filename = date+'.csv'\n",
    "with open(filename, encoding=\"utf-8\") as f:\n",
    "    df = pd.read_csv(f)\n",
    "\n",
    "px.set_mapbox_access_token(open(\".mapbox_token\").read())\n",
    "color_list = ['#1e1e2a', '#293e5d', '#2e598f', '#397ab2', '#59a3c4', \n",
    "              '#738a83', '#9abdae', '#e5e8b3', '#d3d179', '#e7c034', ]\n",
    "hoverD = {'address':True,'date':True,'district':True}\n",
    "city_center = {'lon': np.mean(df['lons']), 'lat': np.mean(df['lats'])}\n",
    "\n",
    "fig = px.scatter_mapbox(df, lat=\"lats\", lon=\"lons\",\n",
    "                        hover_name=\"address\",hover_data=hoverD,\n",
    "                        title ='Shanghai COVID Atlas',\n",
    "                        center=city_center,\n",
    "                        zoom=8,\n",
    "                        )\n",
    "\n",
    "fig.add_annotation(\n",
    "    x=0, y=0,\n",
    "    text=date+'：The author is not responsible for the boundaries on the map.',\n",
    "    font={'color': 'red', 'size': 12, 'family': 'Arial'},\n",
    "    showarrow=False,\n",
    ")\n",
    "\n",
    "\n",
    "\n",
    "pltoff.plot(fig, filename='Shanghai COVID Atlas.html')\n",
    "fig.show()"
   ]
  },
  {
   "cell_type": "code",
   "execution_count": 186,
   "id": "a4c48602",
   "metadata": {},
   "outputs": [
    {
     "data": {
      "application/vnd.jupyter.widget-view+json": {
       "model_id": "fca8cdb66599454488295db83a459352",
       "version_major": 2,
       "version_minor": 0
      },
      "text/plain": [
       "  0%|          | 0/39 [00:00<?, ?it/s]"
      ]
     },
     "metadata": {},
     "output_type": "display_data"
    }
   ],
   "source": [
    "date_l = []\n",
    "confirmedCases_dict = {}\n",
    "asymptomaticCases_dict = {}\n",
    "\n",
    "districts = ['浦东新区', '黄浦区', '静安区', '徐汇区', '长宁区', '普陀区','虹口区',\n",
    "        '杨浦区', '宝山区', '闵行区', '嘉定区', '金山区', '松江区', '青浦区',\n",
    "        '奉贤区', '崇明区']\n",
    "for url in notebook.tqdm(urls):\n",
    "    date, addresses, confirmedCases, asymptomaticCases = get_metadata(url)\n",
    "    if len(date_l) == 0:\n",
    "        for district in addresses.keys():\n",
    "            confirmedCases_dict[district] = []\n",
    "            asymptomaticCases_dict[district] = []\n",
    "\n",
    "    date_l.append(date) \n",
    "    for district in districts:\n",
    "        val = None\n",
    "        if district in confirmedCases.keys():\n",
    "            val = confirmedCases[district]\n",
    "        confirmedCases_dict[district].append(val)\n",
    "        val = None\n",
    "        if district in asymptomaticCases.keys():\n",
    "            val = asymptomaticCases[district]\n",
    "        asymptomaticCases_dict[district].append(val)\n",
    "confirmedCases_dict['date'] = date_l\n",
    "asymptomaticCases_dict['date'] = date_l\n",
    "\n",
    "df = pd.DataFrame(confirmedCases_dict)\n",
    "filename = 'shanghai/confirmedCases.csv'\n",
    "if filename in os.listdir():\n",
    "    os.remove(filename)\n",
    "df.to_csv(filename, encoding='utf_8_sig', index=None)\n",
    "df = pd.DataFrame(asymptomaticCases_dict)\n",
    "filename = 'shanghai/asymptomaticCases.csv'\n",
    "if filename in os.listdir():\n",
    "    os.remove(filename)\n",
    "df.to_csv(filename, encoding='utf_8_sig', index=None)"
   ]
  },
  {
   "cell_type": "code",
   "execution_count": null,
   "id": "cecc978e",
   "metadata": {},
   "outputs": [],
   "source": []
  }
 ],
 "metadata": {
  "kernelspec": {
   "display_name": "bigdata",
   "language": "python",
   "name": "bigdata"
  },
  "language_info": {
   "codemirror_mode": {
    "name": "ipython",
    "version": 3
   },
   "file_extension": ".py",
   "mimetype": "text/x-python",
   "name": "python",
   "nbconvert_exporter": "python",
   "pygments_lexer": "ipython3",
   "version": "3.9.7"
  }
 },
 "nbformat": 4,
 "nbformat_minor": 5
}
